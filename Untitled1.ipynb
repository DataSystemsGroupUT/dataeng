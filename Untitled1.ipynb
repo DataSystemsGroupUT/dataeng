{
 "cells": [
  {
   "cell_type": "code",
   "execution_count": 21,
   "metadata": {},
   "outputs": [],
   "source": [
    "%mavenRepo ksqlDB http://packages.confluent.io/maven/ "
   ]
  },
  {
   "cell_type": "code",
   "execution_count": 17,
   "metadata": {},
   "outputs": [],
   "source": [
    "%mavenRepo Confluent https://jenkins-confluent-packages-beta-maven.s3.amazonaws.com/6.1.0-beta200715032424/1/maven"
   ]
  },
  {
   "cell_type": "code",
   "execution_count": 55,
   "metadata": {},
   "outputs": [
    {
     "ename": "EvalException",
     "evalue": "Exception occurred while running cell magic 'loadFromPOM': Error resolving '/tmp/ijava-ivy-9266374054849604226.xml'. [unresolved dependency: io.confluent.ksql#ksqldb-api-client;0.13.0: not found]",
     "output_type": "error",
     "traceback": [
      "\u001b[1m\u001b[31m---------------------------------------------------------------------------\u001b[0m",
      "\u001b[1m\u001b[31mjava.lang.RuntimeException: Exception occurred while running cell magic 'loadFromPOM': Error resolving '/tmp/ijava-ivy-9266374054849604226.xml'. [unresolved dependency: io.confluent.ksql#ksqldb-api-client;0.13.0: not found]\u001b[0m",
      "\u001b[1m\u001b[31m\tat io.github.spencerpark.ijava.runtime.Magics.cellMagic(Magics.java:35)\u001b[0m",
      "\u001b[1m\u001b[31m\tat .(#79:1)\u001b[0m"
     ]
    }
   ],
   "source": [
    "%%loadFromPOM\n",
    "        <repository>\n",
    "            <id>ksqlDB</id>\n",
    "            <name>ksqlDB</name>\n",
    "            <url>https://ksqldb-maven.s3.amazonaws.com/maven/</url>\n",
    "        </repository>\n",
    "        <repository>\n",
    "            <id>confluent</id>\n",
    "            <name>Confluent</name>\n",
    "            <url>https://jenkins-confluent-packages-beta-maven.s3.amazonaws.com/6.1.0-beta200715032424/1/maven/</url>\n",
    "        </repository>\n",
    "<dependency>\n",
    "     <groupId>io.confluent.ksql</groupId>\n",
    "     <artifactId>ksqldb-api-client</artifactId>\n",
    "     <version>0.13.0</version>\n",
    "</dependency>"
   ]
  },
  {
   "cell_type": "code",
   "execution_count": 45,
   "metadata": {},
   "outputs": [],
   "source": [
    "import io.confluent.ksql.api.client.Client;\n",
    "import io.confluent.ksql.api.client.ClientOptions;\n",
    "import io.confluent.ksql.api.client.Row;\n",
    "\n",
    "public static String KSQLDB_SERVER_HOST = \"ksqldb-server\";\n",
    "public static int KSQLDB_SERVER_HOST_PORT = 8088;"
   ]
  },
  {
   "cell_type": "code",
   "execution_count": 48,
   "metadata": {},
   "outputs": [],
   "source": [
    "ClientOptions options = ClientOptions.create()\n",
    "        .setHost(KSQLDB_SERVER_HOST)\n",
    "        .setPort(KSQLDB_SERVER_HOST_PORT);\n",
    "Client client = Client.create(options);"
   ]
  },
  {
   "cell_type": "code",
   "execution_count": 52,
   "metadata": {},
   "outputs": [],
   "source": [
    "String sql = \"CREATE STREAM ORDERS (ORDER_ID BIGINT, PRODUCT_ID VARCHAR, USER_ID VARCHAR)\"\n",
    "               + \"WITH (KAFKA_TOPIC='topic1p', VALUE_FORMAT='json');\";"
   ]
  },
  {
   "cell_type": "code",
   "execution_count": 53,
   "metadata": {},
   "outputs": [
    {
     "ename": "EvalException",
     "evalue": "io.confluent.ksql.api.client.exception.KsqlClientException: Received 400 response from server: Not a query\nStatement: CREATE STREAM ORDERS (ORDER_ID BIGINT, PRODUCT_ID VARCHAR, USER_ID VARCHAR)WITH (KAFKA_TOPIC='topic1p', VALUE_FORMAT='json');. Error code: 40001",
     "output_type": "error",
     "traceback": [
      "\u001b[1m\u001b[31m---------------------------------------------------------------------------\u001b[0m",
      "\u001b[1m\u001b[31mjava.util.concurrent.ExecutionException: io.confluent.ksql.api.client.exception.KsqlClientException: Received 400 response from server: Not a query\u001b[0m",
      "\u001b[1m\u001b[31mStatement: CREATE STREAM ORDERS (ORDER_ID BIGINT, PRODUCT_ID VARCHAR, USER_ID VARCHAR)WITH (KAFKA_TOPIC='topic1p', VALUE_FORMAT='json');. Error code: 40001\u001b[0m",
      "\u001b[1m\u001b[31m\tat java.base/java.util.concurrent.CompletableFuture.reportGet(CompletableFuture.java:395)\u001b[0m",
      "\u001b[1m\u001b[31m\tat java.base/java.util.concurrent.CompletableFuture.get(CompletableFuture.java:1999)\u001b[0m",
      "\u001b[1m\u001b[31m\tat .(#77:1)\u001b[0m"
     ]
    }
   ],
   "source": [
    "client.executeQuery(sql).get();"
   ]
  },
  {
   "cell_type": "code",
   "execution_count": 39,
   "metadata": {},
   "outputs": [
    {
     "ename": "CompilationException",
     "evalue": "",
     "output_type": "error",
     "traceback": [
      "\u001b[1m\u001b[30m|   \u001b[1m\u001b[30mimport \u001b[0m\u001b[1m\u001b[30m\u001b[41mio.confluent.ksql.api.client.TableInfo\u001b[0m\u001b[1m\u001b[30m;\u001b[0m",
      "\u001b[1m\u001b[31mcannot find symbol\u001b[0m",
      "\u001b[1m\u001b[31m  symbol:   class TableInfo\u001b[0m",
      ""
     ]
    }
   ],
   "source": []
  },
  {
   "cell_type": "code",
   "execution_count": null,
   "metadata": {},
   "outputs": [],
   "source": []
  }
 ],
 "metadata": {
  "kernelspec": {
   "display_name": "Java",
   "language": "java",
   "name": "java"
  },
  "language_info": {
   "codemirror_mode": "java",
   "file_extension": ".jshell",
   "mimetype": "text/x-java-source",
   "name": "Java",
   "pygments_lexer": "java",
   "version": "11.0.9.1+1-Ubuntu-0ubuntu1.20.04"
  }
 },
 "nbformat": 4,
 "nbformat_minor": 4
}
