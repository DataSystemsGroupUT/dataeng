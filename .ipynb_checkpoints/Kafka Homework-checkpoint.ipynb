{
 "cells": [
  {
   "cell_type": "markdown",
   "metadata": {},
   "source": [
    "# Week 5: Data Ingestion (Kafka)\n"
   ]
  },
  {
   "cell_type": "markdown",
   "metadata": {},
   "source": [
    "![](https://camo.githubusercontent.com/56166d361c3975dee750ecce16d605bbbf66516b/68747470733a2f2f75706c6f61642e77696b696d656469612e6f72672f77696b6970656469612f636f6d6d6f6e732f352f35332f4170616368655f6b61666b615f776f7264747970652e737667)"
   ]
  },
  {
   "cell_type": "markdown",
   "metadata": {},
   "source": [
    "### Student ID: [#####]\n",
    "### Subtasks Done: [#,#,..]"
   ]
  },
  {
   "cell_type": "markdown",
   "metadata": {},
   "source": [
    "# Working with sensor data\n",
    "\n",
    "We want to monitor the status of three smart buildings.\n",
    "Each building has 8 floors and each floor has 20 rooms, that have a max capacity of 10 people each.\n",
    "\n",
    "Rooms are equipped with sensors that counts how many people are currently inside the rooms. \n",
    "\n",
    "Due to COVID-19, we want monitor how many people are in the various rooms, floors, and buildings."
   ]
  },
  {
   "cell_type": "markdown",
   "metadata": {},
   "source": [
    "![](./buildings.png)"
   ]
  },
  {
   "cell_type": "code",
   "execution_count": 12,
   "metadata": {},
   "outputs": [
    {
     "name": "stdout",
     "output_type": "stream",
     "text": [
      "Package                            Version\r\n",
      "---------------------------------- ----------------------\r\n",
      "absl-py                            0.10.0\r\n",
      "alabaster                          0.7.12\r\n",
      "anaconda-client                    1.7.2\r\n",
      "anaconda-navigator                 1.9.12\r\n",
      "anaconda-project                   0.8.3\r\n",
      "aniso8601                          7.0.0\r\n",
      "AnyQt                              0.0.10\r\n",
      "applaunchservices                  0.2.1\r\n",
      "appnope                            0.1.0\r\n",
      "appscript                          1.1.1\r\n",
      "argh                               0.26.2\r\n",
      "argon2-cffi                        20.1.0\r\n",
      "arviz                              0.10.0\r\n",
      "ase                                3.20.1\r\n",
      "asn1crypto                         1.4.0\r\n",
      "astroid                            2.4.2\r\n",
      "astropy                            4.0.1.post1\r\n",
      "asttokens                          2.0.3\r\n",
      "astunparse                         1.6.3\r\n",
      "atomicwrites                       1.4.0\r\n",
      "attrs                              20.1.0\r\n",
      "autopep8                           1.5.4\r\n",
      "Babel                              2.8.0\r\n",
      "backcall                           0.2.0\r\n",
      "backports.functools-lru-cache      1.6.1\r\n",
      "backports.shutil-get-terminal-size 1.0.0\r\n",
      "backports.tempfile                 1.0\r\n",
      "backports.weakref                  1.0.post1\r\n",
      "baycomp                            1.0.2\r\n",
      "beautifulsoup4                     4.9.1\r\n",
      "bitarray                           1.5.3\r\n",
      "bkcharts                           0.2\r\n",
      "bleach                             3.1.5\r\n",
      "bokeh                              2.2.1\r\n",
      "boto                               2.49.0\r\n",
      "boto3                              1.14.62\r\n",
      "botocore                           1.17.62\r\n",
      "Bottleneck                         1.3.2\r\n",
      "brotlipy                           0.7.0\r\n",
      "CacheControl                       0.12.6\r\n",
      "cachetools                         4.1.1\r\n",
      "certifi                            2020.6.20\r\n",
      "cffi                               1.14.2\r\n",
      "cftime                             1.2.1\r\n",
      "chardet                            3.0.4\r\n",
      "click                              7.1.2\r\n",
      "cloudpickle                        1.6.0\r\n",
      "clyent                             1.2.2\r\n",
      "cmdstanpy                          0.9.5\r\n",
      "colorama                           0.4.3\r\n",
      "commonmark                         0.9.1\r\n",
      "conda                              4.9.0\r\n",
      "conda-build                        3.18.11\r\n",
      "conda-package-handling             1.7.0+0.g7c4a471.dirty\r\n",
      "conda-verify                       3.4.2\r\n",
      "confluent-kafka                    0.11.6\r\n",
      "contextlib2                        0.6.0.post1\r\n",
      "convertdate                        2.2.2\r\n",
      "cryptography                       3.1\r\n",
      "csrgraph                           0.1.22\r\n",
      "cycler                             0.10.0\r\n",
      "cymem                              2.0.3\r\n",
      "Cython                             0.29.21\r\n",
      "cytoolz                            0.10.1\r\n",
      "dask                               2.25.0\r\n",
      "decorator                          4.4.2\r\n",
      "defusedxml                         0.6.0\r\n",
      "dictdiffer                         0.8.0\r\n",
      "diff-match-patch                   20200713\r\n",
      "distributed                        2.25.0\r\n",
      "docker                             4.3.1\r\n",
      "docutils                           0.16\r\n",
      "english                            2020.7.0\r\n",
      "entrypoints                        0.3\r\n",
      "ephem                              3.7.7.1\r\n",
      "et-xmlfile                         1.0.1\r\n",
      "facets-overview                    1.0.0\r\n",
      "fastcache                          1.1.0\r\n",
      "fastprogress                       1.0.0\r\n",
      "fbprophet                          0.7.1\r\n",
      "filelock                           3.0.12\r\n",
      "flake8                             3.8.3\r\n",
      "Flask                              1.1.2\r\n",
      "fsspec                             0.8.0\r\n",
      "future                             0.18.2\r\n",
      "gast                               0.3.3\r\n",
      "gensim                             3.8.3\r\n",
      "gevent                             20.6.2\r\n",
      "glob2                              0.7\r\n",
      "gmpy2                              2.0.8\r\n",
      "google-api-core                    1.23.0\r\n",
      "google-api-python-client           1.12.5\r\n",
      "google-auth                        1.21.1\r\n",
      "google-auth-httplib2               0.0.4\r\n",
      "google-auth-oauthlib               0.4.1\r\n",
      "google-pasta                       0.2.0\r\n",
      "googleapis-common-protos           1.52.0\r\n",
      "googledrivedownloader              0.4\r\n",
      "graphene                           2.1.8\r\n",
      "graphql-core                       2.3.2\r\n",
      "graphql-relay                      2.0.1\r\n",
      "greenlet                           0.4.16\r\n",
      "grpcio                             1.31.0\r\n",
      "h11                                0.9.0\r\n",
      "h2                                 3.2.0\r\n",
      "h5py                               2.10.0\r\n",
      "HeapDict                           1.0.1\r\n",
      "holidays                           0.10.3\r\n",
      "hpack                              3.0.0\r\n",
      "html5lib                           1.1\r\n",
      "httpcore                           0.11.0\r\n",
      "httplib2                           0.18.1\r\n",
      "httpx                              0.15.5\r\n",
      "hyperframe                         5.2.0\r\n",
      "idna                               2.10\r\n",
      "imageio                            2.9.0\r\n",
      "imagesize                          1.2.0\r\n",
      "importlib-metadata                 1.7.0\r\n",
      "inflection                         0.5.1\r\n",
      "iniconfig                          0.0.0\r\n",
      "intervaltree                       3.1.0\r\n",
      "ipykernel                          5.3.4\r\n",
      "ipython                            7.18.1\r\n",
      "ipython-genutils                   0.2.0\r\n",
      "ipywidgets                         7.5.1\r\n",
      "isodate                            0.6.0\r\n",
      "isort                              5.4.2\r\n",
      "itsdangerous                       1.1.0\r\n",
      "jdcal                              1.4.1\r\n",
      "jedi                               0.17.1\r\n",
      "Jinja2                             2.11.2\r\n",
      "jmespath                           0.10.0\r\n",
      "joblib                             0.16.0\r\n",
      "json5                              0.9.5\r\n",
      "jsonschema                         3.2.0\r\n",
      "jupyter                            1.0.0\r\n",
      "jupyter-client                     6.1.7\r\n",
      "jupyter-console                    6.2.0\r\n",
      "jupyter-contrib-core               0.3.3\r\n",
      "jupyter-contrib-nbextensions       0.5.1\r\n",
      "jupyter-core                       4.6.3\r\n",
      "jupyter-highlight-selected-word    0.2.0\r\n",
      "jupyter-latex-envs                 1.4.6\r\n",
      "jupyter-nbextensions-configurator  0.4.1\r\n",
      "jupyterlab                         2.2.6\r\n",
      "jupyterlab-server                  1.2.0\r\n",
      "jupyterthemes                      0.20.0\r\n",
      "kafka-python                       2.0.2\r\n",
      "karateclub                         1.0.15\r\n",
      "Keras                              2.4.3\r\n",
      "keras-hypetune                     0.1.1\r\n",
      "Keras-Preprocessing                1.1.2\r\n",
      "keyring                            21.4.0\r\n",
      "keyrings.alt                       3.4.0\r\n",
      "kiwisolver                         1.2.0\r\n",
      "korean-lunar-calendar              0.2.1\r\n",
      "lazy-object-proxy                  1.4.3\r\n",
      "lesscpy                            0.14.0\r\n",
      "libarchive-c                       2.9\r\n",
      "lime                               0.2.0.1\r\n",
      "llvmlite                           0.33.0+1.g022ab0f\r\n",
      "locket                             0.2.0\r\n",
      "lockfile                           0.12.2\r\n",
      "LunarCalendar                      0.0.9\r\n",
      "lxml                               4.5.2\r\n",
      "Markdown                           3.2.2\r\n",
      "MarkupSafe                         1.1.1\r\n",
      "matplotlib                         3.3.2\r\n",
      "mccabe                             0.6.1\r\n",
      "mistune                            0.8.4\r\n",
      "mkl-fft                            1.1.0\r\n",
      "mkl-random                         1.1.1\r\n",
      "mkl-service                        2.3.0\r\n",
      "mock                               4.0.2\r\n",
      "monotonic                          1.5\r\n",
      "more-itertools                     8.5.0\r\n",
      "mpmath                             1.1.0\r\n",
      "msgpack                            1.0.0\r\n",
      "multipledispatch                   0.6.0\r\n",
      "navigator-updater                  0.2.1\r\n",
      "nbconvert                          5.6.1\r\n",
      "nbformat                           5.0.7\r\n",
      "neo4j                              4.1.1\r\n",
      "neotime                            1.7.4\r\n",
      "netCDF4                            1.5.4\r\n",
      "networkx                           2.5\r\n",
      "nltk                               3.5\r\n",
      "node2vec                           0.3.3\r\n",
      "nodevectors                        0.1.22\r\n",
      "nose                               1.3.7\r\n",
      "notebook                           6.1.4\r\n",
      "numba                              0.50.1\r\n",
      "numexpr                            2.7.1\r\n",
      "numpy                              1.18.5\r\n",
      "numpydoc                           1.1.0\r\n",
      "oauth2client                       4.1.3\r\n",
      "oauthlib                           3.1.0\r\n",
      "olefile                            0.46\r\n",
      "openpyxl                           3.0.5\r\n",
      "openTSNE                           0.3.11\r\n",
      "opt-einsum                         3.3.0\r\n",
      "orange-canvas-core                 0.1.15\r\n",
      "orange-widget-base                 4.7.0\r\n",
      "Orange3                            3.26.0\r\n",
      "packaging                          20.4\r\n",
      "pandas                             1.1.2\r\n",
      "pandocfilters                      1.4.2\r\n",
      "pansi                              2020.7.3\r\n",
      "parso                              0.7.0\r\n",
      "partd                              1.1.0\r\n",
      "path                               15.0.0\r\n",
      "pathlib2                           2.3.5\r\n",
      "pathtools                          0.1.2\r\n",
      "patsy                              0.5.1\r\n",
      "pep8                               1.7.1\r\n",
      "pexpect                            4.8.0\r\n",
      "pickleshare                        0.7.5\r\n",
      "Pillow                             7.2.0\r\n",
      "pip                                20.2.4\r\n",
      "pkginfo                            1.5.0.1\r\n",
      "plotly                             4.11.0\r\n",
      "pluggy                             0.13.1\r\n",
      "ply                                3.11\r\n",
      "prometheus-client                  0.8.0\r\n",
      "promise                            2.3\r\n",
      "prompt-toolkit                     3.0.8\r\n",
      "protobuf                           3.13.0\r\n",
      "psutil                             5.7.2\r\n",
      "psycopg2                           2.8.5\r\n",
      "ptyprocess                         0.6.0\r\n",
      "py                                 1.9.0\r\n",
      "py2neo                             2020.0.0\r\n",
      "pyasn1                             0.4.8\r\n",
      "pyasn1-modules                     0.2.8\r\n",
      "pycodestyle                        2.6.0\r\n",
      "pycosat                            0.6.3\r\n",
      "pycparser                          2.20\r\n",
      "pycryptodome                       3.9.8\r\n",
      "pycurl                             7.43.0.5\r\n",
      "pydocstyle                         5.1.1\r\n",
      "pyflakes                           2.2.0\r\n",
      "Pygments                           2.6.1\r\n",
      "PyGSP                              0.5.1\r\n",
      "pylint                             2.6.0\r\n",
      "pymc3                              3.9.3\r\n",
      "PyMeeus                            0.3.7\r\n",
      "pymongo                            3.11.0\r\n",
      "pynndescent                        0.4.8\r\n",
      "pyodbc                             4.0.0-unsupported\r\n",
      "pyOpenSSL                          19.1.0\r\n",
      "pyparsing                          2.4.7\r\n",
      "PyQt5                              5.12\r\n",
      "PyQt5-sip                          4.19.19\r\n",
      "pyqtgraph                          0.11.0\r\n",
      "PyQtWebEngine                      5.12\r\n",
      "pyrsistent                         0.16.0\r\n",
      "PySocks                            1.7.1\r\n",
      "pystan                             2.19.1.1\r\n",
      "pytest                             6.0.1\r\n",
      "python-dateutil                    2.8.1\r\n",
      "python-jsonrpc-server              0.3.4\r\n",
      "python-language-server             0.34.1\r\n",
      "python-louvain                     0.14\r\n",
      "pytz                               2020.1\r\n",
      "PyWavelets                         1.1.1\r\n",
      "PyYAML                             5.3.1\r\n",
      "pyzmq                              19.0.2\r\n",
      "QDarkStyle                         2.8.1\r\n",
      "QtAwesome                          0.7.2\r\n",
      "qtconsole                          4.7.6\r\n",
      "QtPy                               1.9.0\r\n",
      "Quandl                             3.5.2\r\n",
      "rdflib                             5.0.0\r\n",
      "redis                              3.5.3\r\n",
      "regex                              2020.7.14\r\n",
      "requests                           2.24.0\r\n",
      "requests-oauthlib                  1.3.0\r\n",
      "retrying                           1.3.3\r\n",
      "rfc3986                            1.4.0\r\n",
      "rope                               0.17.0\r\n",
      "rsa                                4.6\r\n",
      "Rtree                              0.9.4\r\n",
      "ruamel-yaml                        0.15.87\r\n",
      "Rx                                 1.6.1\r\n",
      "s3transfer                         0.3.3\r\n",
      "scikit-image                       0.16.2\r\n",
      "scikit-learn                       0.23.2\r\n",
      "scipy                              1.4.1\r\n",
      "seaborn                            0.10.1\r\n",
      "semantic-version                   2.8.5\r\n",
      "Send2Trash                         1.5.0\r\n",
      "serverfiles                        0.3.0\r\n",
      "setuptools                         49.6.0.post20200814\r\n",
      "setuptools-git                     1.2\r\n",
      "shap                               0.36.0\r\n",
      "simdkalman                         1.0.1\r\n",
      "simplegeneric                      0.8.1\r\n",
      "singledispatch                     3.4.0.3\r\n",
      "six                                1.15.0\r\n",
      "slicer                             0.0.4\r\n",
      "smart-open                         2.1.1\r\n",
      "sniffio                            1.1.0\r\n",
      "snowballstemmer                    2.0.0\r\n",
      "sortedcollections                  1.2.1\r\n",
      "sortedcontainers                   2.2.2\r\n",
      "soupsieve                          2.0.1\r\n",
      "Sphinx                             3.2.1\r\n",
      "sphinxcontrib-applehelp            1.0.2\r\n",
      "sphinxcontrib-devhelp              1.0.2\r\n",
      "sphinxcontrib-htmlhelp             1.0.3\r\n",
      "sphinxcontrib-jsmath               1.0.1\r\n",
      "sphinxcontrib-qthelp               1.0.3\r\n",
      "sphinxcontrib-serializinghtml      1.1.4\r\n",
      "sphinxcontrib-websupport           1.2.4\r\n",
      "spyder                             4.1.5\r\n",
      "spyder-kernels                     1.9.4\r\n",
      "SQLAlchemy                         1.3.19\r\n",
      "statsmodels                        0.11.1\r\n",
      "sympy                              1.6.2\r\n",
      "tables                             3.6.1\r\n",
      "tblib                              1.7.0\r\n",
      "tensorboard                        2.3.0\r\n",
      "tensorboard-plugin-wit             1.7.0\r\n",
      "tensorflow                         2.3.0\r\n",
      "tensorflow-estimator               2.3.0\r\n",
      "termcolor                          1.1.0\r\n",
      "terminado                          0.8.3\r\n",
      "testpath                           0.4.4\r\n",
      "Theano                             1.0.5\r\n",
      "threadpoolctl                      2.1.0\r\n",
      "toml                               0.10.1\r\n",
      "toolz                              0.10.0\r\n"
     ]
    },
    {
     "name": "stdout",
     "output_type": "stream",
     "text": [
      "torch                              1.6.0\r\n",
      "torch-cluster                      1.5.7\r\n",
      "torch-geometric                    1.6.1\r\n",
      "torch-scatter                      2.0.5\r\n",
      "torch-sparse                       0.6.7\r\n",
      "torch-spline-conv                  1.2.0\r\n",
      "torchvision                        0.7.0\r\n",
      "tornado                            6.0.4\r\n",
      "tqdm                               4.48.2\r\n",
      "traitlets                          5.0.4\r\n",
      "tsmoothie                          0.1.7\r\n",
      "typing-extensions                  3.7.4.3\r\n",
      "ujson                              1.35\r\n",
      "umap-learn                         0.4.6\r\n",
      "unicodecsv                         0.14.1\r\n",
      "uritemplate                        3.0.1\r\n",
      "urllib3                            1.25.10\r\n",
      "vyper                              0.2.7\r\n",
      "watchdog                           0.10.3\r\n",
      "wcwidth                            0.2.5\r\n",
      "webencodings                       0.5.1\r\n",
      "websocket-client                   0.57.0\r\n",
      "Werkzeug                           1.0.1\r\n",
      "wheel                              0.35.1\r\n",
      "widgetsnbextension                 3.5.1\r\n",
      "witwidget                          1.7.0\r\n",
      "wrapt                              1.11.2\r\n",
      "wurlitzer                          2.0.1\r\n",
      "xarray                             0.16.1\r\n",
      "xlrd                               1.2.0\r\n",
      "XlsxWriter                         1.3.3\r\n",
      "xlwings                            0.20.5\r\n",
      "xlwt                               1.3.0\r\n",
      "xmltodict                          0.12.0\r\n",
      "yapf                               0.30.0\r\n",
      "zict                               2.0.0\r\n",
      "zipp                               3.1.0\r\n",
      "zope.event                         4.4\r\n",
      "zope.interface                     5.1.0\r\n"
     ]
    }
   ],
   "source": [
    "!pip list"
   ]
  },
  {
   "cell_type": "markdown",
   "metadata": {},
   "source": [
    "# Notes before starting!!!\n",
    " \n",
    "- you can create as many topics as you want\n",
    "- each topic in the exercise should have **at least** 2 partitions. \n",
    "    - (HINT: to decide how many partition look at task 3)\n",
    "- we assume a replication factor of 1 for all the topics is sufficient."
   ]
  },
  {
   "cell_type": "markdown",
   "metadata": {},
   "source": [
    "## Task 1: Counting People\n",
    "\n",
    "Write a Kafka Producer that generates the observations every 5 seconds (system time)\n",
    "for each building, floor, and room, and pushes them to a topic"
   ]
  },
  {
   "cell_type": "code",
   "execution_count": 1,
   "metadata": {},
   "outputs": [
    {
     "ename": "ImportError",
     "evalue": "dlopen(/Users/hyrundo/opt/anaconda3/lib/python3.8/site-packages/confluent_kafka/cimpl.cpython-38-darwin.so, 2): Symbol not found: _syslog$DARWIN_EXTSN\n  Referenced from: /Users/hyrundo/opt/anaconda3/lib/python3.8/site-packages/confluent_kafka/.dylibs/librdkafka.1.dylib (which was built for Mac OS X 10.13)\n  Expected in: /usr/lib/libSystem.B.dylib\n in /Users/hyrundo/opt/anaconda3/lib/python3.8/site-packages/confluent_kafka/.dylibs/librdkafka.1.dylib",
     "output_type": "error",
     "traceback": [
      "\u001b[0;31m---------------------------------------------------------------------------\u001b[0m",
      "\u001b[0;31mImportError\u001b[0m                               Traceback (most recent call last)",
      "\u001b[0;32m<ipython-input-1-54e1c7221d78>\u001b[0m in \u001b[0;36m<module>\u001b[0;34m\u001b[0m\n\u001b[0;32m----> 1\u001b[0;31m \u001b[0;32mfrom\u001b[0m \u001b[0mconfluent_kafka\u001b[0m \u001b[0;32mimport\u001b[0m \u001b[0mSerializingProducer\u001b[0m\u001b[0;34m,\u001b[0m \u001b[0mDeserializingConsumer\u001b[0m\u001b[0;34m\u001b[0m\u001b[0;34m\u001b[0m\u001b[0m\n\u001b[0m\u001b[1;32m      2\u001b[0m \u001b[0;32mfrom\u001b[0m \u001b[0mconfluent_kafka\u001b[0m\u001b[0;34m.\u001b[0m\u001b[0mserialization\u001b[0m \u001b[0;32mimport\u001b[0m \u001b[0mStringSerializer\u001b[0m\u001b[0;34m,\u001b[0m \u001b[0mStringDeserializer\u001b[0m\u001b[0;34m\u001b[0m\u001b[0;34m\u001b[0m\u001b[0m\n\u001b[1;32m      3\u001b[0m \u001b[0;32mfrom\u001b[0m \u001b[0mconfluent_kafka\u001b[0m\u001b[0;34m.\u001b[0m\u001b[0mserialization\u001b[0m \u001b[0;32mimport\u001b[0m \u001b[0mDoubleSerializer\u001b[0m\u001b[0;34m,\u001b[0m \u001b[0mDoubleDeserializer\u001b[0m\u001b[0;34m\u001b[0m\u001b[0;34m\u001b[0m\u001b[0m\n\u001b[1;32m      4\u001b[0m \u001b[0;32mfrom\u001b[0m \u001b[0mconfluent_kafka\u001b[0m\u001b[0;34m.\u001b[0m\u001b[0mserialization\u001b[0m \u001b[0;32mimport\u001b[0m \u001b[0mIntegerSerializer\u001b[0m\u001b[0;34m,\u001b[0m \u001b[0mIntegerDeserializer\u001b[0m\u001b[0;34m\u001b[0m\u001b[0;34m\u001b[0m\u001b[0m\n\u001b[1;32m      5\u001b[0m \u001b[0;32mfrom\u001b[0m \u001b[0mconfluent_kafka\u001b[0m\u001b[0;34m.\u001b[0m\u001b[0madmin\u001b[0m \u001b[0;32mimport\u001b[0m \u001b[0mAdminClient\u001b[0m\u001b[0;34m,\u001b[0m \u001b[0mNewTopic\u001b[0m\u001b[0;34m\u001b[0m\u001b[0;34m\u001b[0m\u001b[0m\n",
      "\u001b[0;32m~/opt/anaconda3/lib/python3.8/site-packages/confluent_kafka/__init__.py\u001b[0m in \u001b[0;36m<module>\u001b[0;34m\u001b[0m\n\u001b[1;32m     17\u001b[0m \u001b[0;31m#\u001b[0m\u001b[0;34m\u001b[0m\u001b[0;34m\u001b[0m\u001b[0;34m\u001b[0m\u001b[0m\n\u001b[1;32m     18\u001b[0m \u001b[0;34m\u001b[0m\u001b[0m\n\u001b[0;32m---> 19\u001b[0;31m \u001b[0;32mfrom\u001b[0m \u001b[0;34m.\u001b[0m\u001b[0mdeserializing_consumer\u001b[0m \u001b[0;32mimport\u001b[0m \u001b[0mDeserializingConsumer\u001b[0m\u001b[0;34m\u001b[0m\u001b[0;34m\u001b[0m\u001b[0m\n\u001b[0m\u001b[1;32m     20\u001b[0m \u001b[0;32mfrom\u001b[0m \u001b[0;34m.\u001b[0m\u001b[0mserializing_producer\u001b[0m \u001b[0;32mimport\u001b[0m \u001b[0mSerializingProducer\u001b[0m\u001b[0;34m\u001b[0m\u001b[0;34m\u001b[0m\u001b[0m\n\u001b[1;32m     21\u001b[0m \u001b[0;32mfrom\u001b[0m \u001b[0;34m.\u001b[0m\u001b[0merror\u001b[0m \u001b[0;32mimport\u001b[0m \u001b[0mKafkaException\u001b[0m\u001b[0;34m,\u001b[0m \u001b[0mKafkaError\u001b[0m\u001b[0;34m\u001b[0m\u001b[0;34m\u001b[0m\u001b[0m\n",
      "\u001b[0;32m~/opt/anaconda3/lib/python3.8/site-packages/confluent_kafka/deserializing_consumer.py\u001b[0m in \u001b[0;36m<module>\u001b[0;34m\u001b[0m\n\u001b[1;32m     17\u001b[0m \u001b[0;31m#\u001b[0m\u001b[0;34m\u001b[0m\u001b[0;34m\u001b[0m\u001b[0;34m\u001b[0m\u001b[0m\n\u001b[1;32m     18\u001b[0m \u001b[0;34m\u001b[0m\u001b[0m\n\u001b[0;32m---> 19\u001b[0;31m \u001b[0;32mfrom\u001b[0m \u001b[0mconfluent_kafka\u001b[0m\u001b[0;34m.\u001b[0m\u001b[0mcimpl\u001b[0m \u001b[0;32mimport\u001b[0m \u001b[0mConsumer\u001b[0m \u001b[0;32mas\u001b[0m \u001b[0m_ConsumerImpl\u001b[0m\u001b[0;34m\u001b[0m\u001b[0;34m\u001b[0m\u001b[0m\n\u001b[0m\u001b[1;32m     20\u001b[0m from .error import (ConsumeError,\n\u001b[1;32m     21\u001b[0m                     \u001b[0mKeyDeserializationError\u001b[0m\u001b[0;34m,\u001b[0m\u001b[0;34m\u001b[0m\u001b[0;34m\u001b[0m\u001b[0m\n",
      "\u001b[0;31mImportError\u001b[0m: dlopen(/Users/hyrundo/opt/anaconda3/lib/python3.8/site-packages/confluent_kafka/cimpl.cpython-38-darwin.so, 2): Symbol not found: _syslog$DARWIN_EXTSN\n  Referenced from: /Users/hyrundo/opt/anaconda3/lib/python3.8/site-packages/confluent_kafka/.dylibs/librdkafka.1.dylib (which was built for Mac OS X 10.13)\n  Expected in: /usr/lib/libSystem.B.dylib\n in /Users/hyrundo/opt/anaconda3/lib/python3.8/site-packages/confluent_kafka/.dylibs/librdkafka.1.dylib"
     ]
    }
   ],
   "source": [
    "from confluent_kafka import SerializingProducer, DeserializingConsumer\n",
    "from confluent_kafka.serialization import StringSerializer, StringDeserializer\n",
    "from confluent_kafka.serialization import DoubleSerializer, DoubleDeserializer \n",
    "from confluent_kafka.serialization import IntegerSerializer, IntegerDeserializer\n",
    "from confluent_kafka.admin import AdminClient, NewTopic\n",
    "from uuid import uuid4\n",
    "import sys, lorem, random, time, json\n",
    "\n",
    "brokers = \"kafka1:9092,kafka2:9093\"\n",
    "topics = [\"rooms\", \"floors\", \"buildings\"] ## Add here your topics"
   ]
  },
  {
   "cell_type": "code",
   "execution_count": 2,
   "metadata": {},
   "outputs": [],
   "source": [
    "new_topics = [NewTopic(topic, num_partitions=3, replication_factor=1) for topic in topics]"
   ]
  },
  {
   "cell_type": "markdown",
   "metadata": {},
   "source": [
    "####  Create new topics"
   ]
  },
  {
   "cell_type": "code",
   "execution_count": 3,
   "metadata": {},
   "outputs": [],
   "source": [
    "a = AdminClient({'bootstrap.servers': brokers})"
   ]
  },
  {
   "cell_type": "code",
   "execution_count": 4,
   "metadata": {},
   "outputs": [
    {
     "data": {
      "text/plain": [
       "{'rooms': <Future at 0x7f7dcc3a2820 state=running>,\n",
       " 'floors': <Future at 0x7f7dcc3a2910 state=running>,\n",
       " 'buildings': <Future at 0x7f7dcc3a29a0 state=running>}"
      ]
     },
     "execution_count": 4,
     "metadata": {},
     "output_type": "execute_result"
    }
   ],
   "source": [
    "a.create_topics(new_topics)"
   ]
  },
  {
   "cell_type": "markdown",
   "metadata": {},
   "source": [
    "#### Populate the topics with 1000 observations"
   ]
  },
  {
   "cell_type": "code",
   "execution_count": 5,
   "metadata": {},
   "outputs": [],
   "source": [
    "pconf = {\n",
    "    'bootstrap.servers': brokers,\n",
    "    'partitioner': 'murmur2_random',\n",
    "    'key.serializer': StringSerializer('utf_8'),\n",
    "    'value.serializer':  StringSerializer()\n",
    "}"
   ]
  },
  {
   "cell_type": "code",
   "execution_count": 6,
   "metadata": {},
   "outputs": [],
   "source": [
    "p = SerializingProducer(pconf)"
   ]
  },
  {
   "cell_type": "code",
   "execution_count": 9,
   "metadata": {},
   "outputs": [],
   "source": [
    "for n in range(1,1000):\n",
    "    try:\n",
    "        \n",
    "        m = { 'count' : random.randint(0,9),\n",
    "              'building' : random.randint(0,2),\n",
    "              'floor': random.randint(0,7),\n",
    "              'room': random.randint(0,19) }\n",
    "       \n",
    "        p.produce(topics[0], key=str(uuid4()), value=str(m))\n",
    "        p.poll(0)\n",
    "        p.flush()\n",
    "        time.sleep(5)\n",
    "    except BufferError:\n",
    "        sys.stderr.write('%% Local producer queue is full (%d messages awaiting delivery): try again\\n' % len(p))"
   ]
  },
  {
   "cell_type": "markdown",
   "metadata": {},
   "source": [
    "## Task 2: Reading observations\n",
    "\n",
    "Write a Kafka Consumer that reads the previous topic and prints the result out."
   ]
  },
  {
   "cell_type": "code",
   "execution_count": null,
   "metadata": {},
   "outputs": [],
   "source": [
    "consumer_conf = {\n",
    "    'bootstrap.servers': brokers,\n",
    "    'key.deserializer': StringDeserializer('utf_8'),\n",
    "    'value.deserializer': StringDeserializer(),\n",
    "    'group.id': str(uuid4()),\n",
    "    'session.timeout.ms': 6000,\n",
    "    'auto.offset.reset': 'earliest'\n",
    "}"
   ]
  },
  {
   "cell_type": "code",
   "execution_count": null,
   "metadata": {},
   "outputs": [],
   "source": [
    "consumer = DeserializingConsumer(consumer_conf)\n",
    "consumer.subscribe([topics[0]])"
   ]
  },
  {
   "cell_type": "code",
   "execution_count": null,
   "metadata": {},
   "outputs": [],
   "source": [
    "try:\n",
    "    while True:\n",
    "            msg = consumer.poll(1.0)\n",
    "            if msg is None:\n",
    "                continue\n",
    "            else:\n",
    "                print(msg.key() +\"->\"+ str(msg.value()))\n",
    "except KeyboardInterrupt:\n",
    "    sys.stderr.write('%% Aborted by user\\n')\n",
    "finally:\n",
    "    # Close down consumer to commit final offsets.\n",
    "    consumer.close()"
   ]
  },
  {
   "cell_type": "markdown",
   "metadata": {},
   "source": [
    "## Task 3: Total number of people in the last minute\n",
    "\n",
    "Write a Kafka Consumer that reads the previous topics and count\n",
    "the number of people per floor and per building every minute,\n",
    "\n",
    "For the one minute window you can either implement a windowing mechanism like in the wordcount practice part 2 or \n",
    "use sleep(50) and restart the computation accordingly."
   ]
  },
  {
   "cell_type": "markdown",
   "metadata": {},
   "source": [
    "##### HINT: How did you organize the data in partitions?"
   ]
  },
  {
   "cell_type": "markdown",
   "metadata": {},
   "source": [
    "#### Change the message key to simplify counting by floor."
   ]
  },
  {
   "cell_type": "code",
   "execution_count": null,
   "metadata": {},
   "outputs": [],
   "source": [
    "## Your Consumer Code Here"
   ]
  },
  {
   "cell_type": "code",
   "execution_count": 67,
   "metadata": {},
   "outputs": [],
   "source": [
    "consumer_conf = {\n",
    "    'bootstrap.servers': brokers,\n",
    "    'key.deserializer': StringDeserializer('utf_8'),\n",
    "    'value.deserializer': StringDeserializer(),\n",
    "    'group.id': str(uuid4()),\n",
    "    'session.timeout.ms': 6000,\n",
    "    'auto.offset.reset': 'earliest'\n",
    "}"
   ]
  },
  {
   "cell_type": "code",
   "execution_count": 68,
   "metadata": {},
   "outputs": [],
   "source": [
    "consumer = DeserializingConsumer(consumer_conf)\n",
    "consumer.subscribe([topics[0]])"
   ]
  },
  {
   "cell_type": "code",
   "execution_count": 69,
   "metadata": {},
   "outputs": [],
   "source": [
    "p = SerializingProducer(pconf)\n"
   ]
  },
  {
   "cell_type": "code",
   "execution_count": null,
   "metadata": {},
   "outputs": [],
   "source": []
  },
  {
   "cell_type": "code",
   "execution_count": null,
   "metadata": {},
   "outputs": [],
   "source": []
  },
  {
   "cell_type": "code",
   "execution_count": null,
   "metadata": {},
   "outputs": [],
   "source": [
    "try:\n",
    "    while True:\n",
    "            msg = consumer.poll(1.0)\n",
    "            if msg is None:\n",
    "                continue\n",
    "            j = json.loads(msg.value().replace(\"\\'\", \"\\\"\"))\n",
    "            key = {}\n",
    "            key['floor']=j['floor']\n",
    "            key['building']=j['building']\n",
    "            p.produce(\"floors1\", key=str(key), value=msg.value())\n",
    "            p.poll(0)\n",
    "            p.flush()\n",
    "except KeyboardInterrupt:\n",
    "    sys.stderr.write('%% Aborted by user\\n')\n",
    "finally:\n",
    "    # Close down consumer to commit final offsets.\n",
    "    consumer.close()"
   ]
  },
  {
   "cell_type": "markdown",
   "metadata": {},
   "source": [
    "### Total number of people Per Floor"
   ]
  },
  {
   "cell_type": "code",
   "execution_count": null,
   "metadata": {},
   "outputs": [],
   "source": [
    "## Your Consumer Code Here"
   ]
  },
  {
   "cell_type": "code",
   "execution_count": null,
   "metadata": {},
   "outputs": [],
   "source": [
    "consumer_conf = {\n",
    "    'bootstrap.servers': brokers,\n",
    "    'key.deserializer': StringDeserializer('utf_8'),\n",
    "    'value.deserializer': IntegerDeserializer(),\n",
    "    'group.id': str(uuid4()),\n",
    "    'session.timeout.ms': 6000,\n",
    "    'auto.offset.reset': 'earliest'\n",
    "}"
   ]
  },
  {
   "cell_type": "code",
   "execution_count": null,
   "metadata": {},
   "outputs": [],
   "source": [
    "consumer = DeserializingConsumer(consumer_conf)\n",
    "consumer.subscribe([topics[1]])\n",
    "floors = {}"
   ]
  },
  {
   "cell_type": "code",
   "execution_count": null,
   "metadata": {},
   "outputs": [],
   "source": [
    "last = int(time.time()*1000)\n",
    "time.sleep(4)\n",
    "try:\n",
    "    while True:\n",
    "            msg = consumer.poll(1.0)\n",
    "            if msg is None:\n",
    "                continue\n",
    "            if msg.key() not in floors:\n",
    "                floors[msg.key()] = [msg.value()]\n",
    "            else:\n",
    "                floors[msg.key()].append(msg.value())\n",
    "            print(int(time.time()*1000)-last)\n",
    "            if(int(time.time()*1000)-last>5000):\n",
    "                print(\"sleep\")\n",
    "                last = int(time.time()*1000)\n",
    "                time.sleep(5)\n",
    "except KeyboardInterrupt:\n",
    "    sys.stderr.write('%% Aborted by user\\n')\n",
    "finally:\n",
    "    # Close down consumer to commit final offsets.\n",
    "    consumer.close()"
   ]
  },
  {
   "cell_type": "code",
   "execution_count": null,
   "metadata": {},
   "outputs": [],
   "source": []
  },
  {
   "cell_type": "code",
   "execution_count": null,
   "metadata": {},
   "outputs": [],
   "source": [
    "floors_avg = {}\n",
    "for (f) in floors:\n",
    "    floors_avg[f]=sum(floors[f])"
   ]
  },
  {
   "cell_type": "code",
   "execution_count": null,
   "metadata": {},
   "outputs": [],
   "source": [
    "sorted(floors_avg.items())"
   ]
  },
  {
   "cell_type": "code",
   "execution_count": null,
   "metadata": {
    "scrolled": true
   },
   "outputs": [],
   "source": [
    "import numpy as np\n",
    "import matplotlib.pyplot as plt\n",
    "plt.bar(floors_avg.keys(), floors_avg.values(), color='g')"
   ]
  },
  {
   "cell_type": "markdown",
   "metadata": {},
   "source": [
    "### Average number of people Per Building"
   ]
  },
  {
   "cell_type": "code",
   "execution_count": null,
   "metadata": {},
   "outputs": [],
   "source": [
    "try:\n",
    "    while True:\n",
    "            msg = consumer.poll(1.0)\n",
    "            if msg is None:\n",
    "                continue\n",
    "            key = msg.key().split(\";\")\n",
    "            floor = key[0]+\";\"+key[1]\n",
    "            building = key[0]\n",
    "            print(building)\n",
    "            print(floor)\n",
    "            p.produce(topics[2], key=building, value=msg.value()) # building\n",
    "            p.produce(topics[1], key=floor, value=msg.value()) #floor\n",
    "            print(floor + \" \" + building + \" \" + str(msg.value()))\n",
    "            p.poll(0)\n",
    "            p.flush()\n",
    "except KeyboardInterrupt:\n",
    "    sys.stderr.write('%% Aborted by user\\n')\n",
    "finally:\n",
    "    # Close down consumer to commit final offsets.\n",
    "    consumer.close()"
   ]
  },
  {
   "cell_type": "code",
   "execution_count": null,
   "metadata": {},
   "outputs": [],
   "source": [
    "## Your Consumer Code Here"
   ]
  },
  {
   "cell_type": "code",
   "execution_count": null,
   "metadata": {},
   "outputs": [],
   "source": [
    "consumer_conf = {\n",
    "    'bootstrap.servers': brokers,\n",
    "    'key.deserializer': StringDeserializer('utf_8'),\n",
    "    'value.deserializer': IntegerDeserializer(),\n",
    "    'group.id': str(uuid4()),\n",
    "    'session.timeout.ms': 6000,\n",
    "    'auto.offset.reset': 'earliest'\n",
    "}"
   ]
  },
  {
   "cell_type": "code",
   "execution_count": null,
   "metadata": {},
   "outputs": [],
   "source": [
    "consumer = DeserializingConsumer(consumer_conf)\n",
    "consumer.subscribe([topics[2]])\n",
    "buildings = {}\n",
    "output = []"
   ]
  },
  {
   "cell_type": "code",
   "execution_count": null,
   "metadata": {},
   "outputs": [],
   "source": [
    "%matplotlib inline \n",
    "import numpy as np\n",
    "import matplotlib.pyplot as plt"
   ]
  },
  {
   "cell_type": "code",
   "execution_count": null,
   "metadata": {},
   "outputs": [],
   "source": [
    "last = int(time.time()*1000)\n",
    "time.sleep(4)\n",
    "try:\n",
    "    while True:\n",
    "            msg = consumer.poll(1.0)\n",
    "            if msg is None:\n",
    "                continue\n",
    "            if msg.key() not in floors:\n",
    "                buildings[msg.key()] = [msg.value()]\n",
    "            else:\n",
    "                buildings[msg.key()].append(msg.value())\n",
    "            new = int(time.time()*1000)\n",
    "            if(new-last>3000):\n",
    "                plot = {}\n",
    "                for b in buildings:\n",
    "                    plot[b]=sum(buildings[b])\n",
    "                output.append(plot)\n",
    "                buildings={}\n",
    "                last=new\n",
    "                print(\"sleep\")\n",
    "                time.sleep(5)     \n",
    "except KeyboardInterrupt:\n",
    "    sys.stderr.write('%% Aborted by user\\n')\n",
    "finally:\n",
    "    # Close down consumer to commit final offsets.\n",
    "    consumer.close()"
   ]
  },
  {
   "cell_type": "code",
   "execution_count": null,
   "metadata": {},
   "outputs": [],
   "source": [
    "output"
   ]
  },
  {
   "cell_type": "code",
   "execution_count": null,
   "metadata": {},
   "outputs": [],
   "source": [
    "\n"
   ]
  },
  {
   "cell_type": "code",
   "execution_count": null,
   "metadata": {},
   "outputs": [],
   "source": []
  },
  {
   "cell_type": "markdown",
   "metadata": {},
   "source": [
    "### BONUS"
   ]
  },
  {
   "cell_type": "markdown",
   "metadata": {},
   "source": [
    "Plot the measurement using python"
   ]
  },
  {
   "cell_type": "markdown",
   "metadata": {},
   "source": [
    "## Task 4: Redo Task 2-3 modelling observations using AVRO."
   ]
  },
  {
   "cell_type": "markdown",
   "metadata": {},
   "source": [
    "Redo Task 2 Using AVRO for Serializing/Deserializing"
   ]
  },
  {
   "cell_type": "code",
   "execution_count": null,
   "metadata": {},
   "outputs": [],
   "source": []
  }
 ],
 "metadata": {
  "kernelspec": {
   "display_name": "Python 3",
   "language": "python",
   "name": "python3"
  },
  "language_info": {
   "codemirror_mode": {
    "name": "ipython",
    "version": 3
   },
   "file_extension": ".py",
   "mimetype": "text/x-python",
   "name": "python",
   "nbconvert_exporter": "python",
   "pygments_lexer": "ipython3",
   "version": "3.8.6"
  }
 },
 "nbformat": 4,
 "nbformat_minor": 4
}
