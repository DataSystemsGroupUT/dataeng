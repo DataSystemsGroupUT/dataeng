{
 "cells": [
  {
   "cell_type": "markdown",
   "metadata": {},
   "source": [
    "# Week 1: Relational Models & PostgreSQL\n",
    "### Student ID: [B02301]\n",
    "### Subtasks Done: [0,1,2,3]"
   ]
  },
  {
   "cell_type": "markdown",
   "metadata": {},
   "source": [
    "## Lab Goals:\n",
    "   1. Get familiar with the relational DBs.\n",
    "   2. Get familiar with the relational SQL query language.\n",
    "   2. Get familiar with postgreSQL as one of the most popular RDBMSs.\n",
    "  \n",
    "\n",
    "## Lab Tasks:\n",
    "   0. Get familiar with Python and Jupyter Notebook.\n",
    "   1. First Steps of SQL (DDL [Create DB, CREATE TABLES], DQL [SELECTIONS, PROJECTIONS, FIRLTREING, ORDERING, Different Types of JOINS,..etc], and Some DML operations [INSERTIONS, UPDATES, and DELETIONS])\n",
    "   2. Create a simple Relational Database Model (MovieDB).\n",
    "   3. More Query exercises with a DB ready for you, (just by running a SQL script).\n",
    "   "
   ]
  },
  {
   "cell_type": "markdown",
   "metadata": {},
   "source": [
    "# Task 0: Python & Jupyter Notebook & Pandas tutorial video\n",
    "\n",
    "##### - First for Students who are not familiar with <font color='red'>Python</font>, I recommend this python full course https://www.youtube.com/watch?v=_uQrJ0TkZlc \n",
    "\n",
    "##### - Second, please watch the following video <font color='red'>\"Jupyter Notebook Tutorial\"</font> and answer the question below. Please answer the questions by writing your answer next to the red \"Answer \" label (the same for the other questions throught the NoteBook). Also, we recommend you to follow the examples in the video and try it out by yourself."
   ]
  },
  {
   "cell_type": "code",
   "execution_count": 19,
   "metadata": {},
   "outputs": [
    {
     "data": {
      "text/html": [
       "<center><iframe width=\"600\" height=\"315\" src=\"https://www.youtube.com/embed/HW29067qVWk\" frameborder=\"0\" allowfullscreen></iframe>\n"
      ],
      "text/plain": [
       "<IPython.core.display.HTML object>"
      ]
     },
     "metadata": {},
     "output_type": "display_data"
    }
   ],
   "source": [
    "%%HTML \n",
    "<center><iframe width=\"600\" height=\"315\" src=\"https://www.youtube.com/embed/HW29067qVWk\" frameborder=\"0\" allowfullscreen></iframe>"
   ]
  },
  {
   "cell_type": "markdown",
   "metadata": {},
   "source": [
    " #### What are the advantages of using jupyter notebook?"
   ]
  },
  {
   "cell_type": "markdown",
   "metadata": {},
   "source": [
    "<font color = \"red\"><b>Answer:</b></font> Markdowns, codes and results can be used together in a document in really understandable way. Very reader-friendly solution."
   ]
  },
  {
   "cell_type": "markdown",
   "metadata": {},
   "source": [
    "##### - Last but not least, Python Pandas \n",
    "\n",
    "pandas is a fast, powerful, flexible and easy to use open source data analysis and manipulation tool, built on top of the Python programming language.\n",
    "\n",
    "- To get familiar with Pandas library you can follow this tutourial:\n",
    "    - https://www.youtube.com/watch?v=vmEHCJofslg&feature=emb_rel_pause\n",
    "- You can also use the follwing cheat-sheet link of pandas:\n",
    "    - https://pandas.pydata.org/Pandas_Cheat_Sheet.pdf\n"
   ]
  },
  {
   "cell_type": "markdown",
   "metadata": {},
   "source": [
    "# Introduction:\n",
    "\n",
    "### Relational DB Structure \n",
    "- A relational database consists of a collection of tables, each having a unique name.\n",
    "- A row in a table represents a relationship among a set of values.\n",
    "- Thus a table represents a collection of relationships. \n",
    "<img src =\"https://raw.githubusercontent.com/DataSystemsGroupUT/dataeng/dataeng/attachments/attrer2.png\" width =\"550\" height=\"150\">\n",
    "\n",
    "\n",
    "###  Structured Query Language (SQL)\n",
    "\n",
    "<a href='https://en.wikipedia.org/wiki/SQL'>SQL </a> is used to communicate with a database. SQL is the standard language for relational database management systems. SQL statements are used to perform tasks such as update data on a database, or retrieve data from a database. \n",
    "\n",
    "Some common relational database management systems that use SQL are: Oracle, Sybase, Microsoft SQL Server, Access, Ingres. However, the standard SQL commands such as \"Select\", \"Insert\", \"Update\", \"Delete\", \"Create\", and \"Drop\" can be used to accomplish almost everything that one needs to do with a database. This tutorial will provide you with the instruction on the basics of each of these commands as well as allow you to put them to practice using the SQL Interpreter.\n",
    "\n",
    "- First Steps with SQL can be followed from this <a href='https://www.sqltutorial.org/sql-cheat-sheet/'>link </a>.\n",
    "\n",
    "\n",
    "### PostgreSQL:\n",
    "   <a href=\"https://www.postgresql.org/\">PostgreSQL</a> is a powerful, open source object-relational database system with over 30 years of active development that has earned it a strong reputation for reliability, feature robustness, and performance. (<b>According to official website of PostgreSQL Database</b>)<br/>\n",
    "   \n",
    "- PostgreSQL offecial documentation (https://www.postgresql.org/docs/9.3/index.html)\n",
    "    - pdf version of last release(https://www.postgresql.org/files/documentation/pdf/12/postgresql-12-A4.pdf)\n",
    "\n",
    "<img src=\"https://www.postgresql.org/media/img/about/press/elephant.png\" width =\"100\" height=\"75\">\n",
    "\n"
   ]
  },
  {
   "cell_type": "markdown",
   "metadata": {},
   "source": [
    "# PreLab\n",
    "\n",
    "### Installations:\n",
    "\n",
    "#### Using Docker no need for setup\n",
    "\n",
    "#### (Good to Know) \n",
    "##### Accessing PostgreSQL from Command Line:\n",
    "- Add the PostgreSQL  installation \"/home\" and \"/bin\" directories to the enviroment variables.\n",
    "- use the command ```psql -U postgres postgres``` to connect to the the by-default created database \"postgres\" with the user \"postgres\".\n",
    "- Enter your set \"postgres\" password (i.e password of the default password that you have been asked at the time of installtion).\n",
    "\n",
    "##### Connect To a PostgreSQL Database Server\n",
    "- show you how to connect to the PostgreSQL using psql tool and pgAdmin 4 GUI tool.\n"
   ]
  },
  {
   "cell_type": "markdown",
   "metadata": {},
   "source": [
    "#### Run the following command to install ***psycopg*** like any other Python package."
   ]
  },
  {
   "cell_type": "code",
   "execution_count": 20,
   "metadata": {},
   "outputs": [
    {
     "name": "stdout",
     "output_type": "stream",
     "text": [
      "Package                            Version\n",
      "---------------------------------- -------------------\n",
      "alabaster                          0.7.12\n",
      "anaconda-client                    1.7.2\n",
      "anaconda-navigator                 1.9.12\n",
      "anaconda-project                   0.8.3\n",
      "argh                               0.26.2\n",
      "asn1crypto                         1.3.0\n",
      "astroid                            2.4.2\n",
      "astropy                            4.0.1.post1\n",
      "atomicwrites                       1.4.0\n",
      "attrs                              19.3.0\n",
      "autopep8                           1.5.3\n",
      "Babel                              2.8.0\n",
      "backcall                           0.2.0\n",
      "backports.functools-lru-cache      1.6.1\n",
      "backports.shutil-get-terminal-size 1.0.0\n",
      "backports.tempfile                 1.0\n",
      "backports.weakref                  1.0.post1\n",
      "bcrypt                             3.1.7\n",
      "beautifulsoup4                     4.9.1\n",
      "bitarray                           1.4.0\n",
      "bkcharts                           0.2\n",
      "bleach                             3.1.5\n",
      "bokeh                              2.1.1\n",
      "boto                               2.49.0\n",
      "Bottleneck                         1.3.2\n",
      "brotlipy                           0.7.0\n",
      "certifi                            2020.6.20\n",
      "cffi                               1.14.0\n",
      "chardet                            3.0.4\n",
      "click                              7.1.2\n",
      "cloudpickle                        1.5.0\n",
      "clyent                             1.2.2\n",
      "colorama                           0.4.3\n",
      "comtypes                           1.1.7\n",
      "conda                              4.8.3\n",
      "conda-build                        3.18.11\n",
      "conda-package-handling             1.7.0\n",
      "conda-verify                       3.4.2\n",
      "contextlib2                        0.6.0.post1\n",
      "cryptography                       2.9.2\n",
      "cycler                             0.10.0\n",
      "Cython                             0.29.21\n",
      "cytoolz                            0.10.1\n",
      "dask                               2.20.0\n",
      "decorator                          4.4.2\n",
      "defusedxml                         0.6.0\n",
      "diff-match-patch                   20200713\n",
      "distributed                        2.20.0\n",
      "docutils                           0.16\n",
      "entrypoints                        0.3\n",
      "et-xmlfile                         1.0.1\n",
      "fastcache                          1.1.0\n",
      "filelock                           3.0.12\n",
      "flake8                             3.8.3\n",
      "Flask                              1.1.2\n",
      "fsspec                             0.7.4\n",
      "future                             0.18.2\n",
      "gevent                             20.6.2\n",
      "glob2                              0.7\n",
      "gmpy2                              2.0.8\n",
      "greenlet                           0.4.16\n",
      "h5py                               2.10.0\n",
      "HeapDict                           1.0.1\n",
      "html5lib                           1.1\n",
      "idna                               2.10\n",
      "imageio                            2.9.0\n",
      "imagesize                          1.2.0\n",
      "importlib-metadata                 1.7.0\n",
      "intervaltree                       3.0.2\n",
      "ipykernel                          5.3.2\n",
      "ipython                            7.16.1\n",
      "ipython-genutils                   0.2.0\n",
      "ipywidgets                         7.5.1\n",
      "isort                              4.3.21\n",
      "itsdangerous                       1.1.0\n",
      "jdcal                              1.4.1\n",
      "jedi                               0.17.1\n",
      "Jinja2                             2.11.2\n",
      "joblib                             0.16.0\n",
      "json5                              0.9.5\n",
      "jsonschema                         3.2.0\n",
      "jupyter                            1.0.0\n",
      "jupyter-client                     6.1.6\n",
      "jupyter-console                    6.1.0\n",
      "jupyter-core                       4.6.3\n",
      "jupyterlab                         2.1.5\n",
      "jupyterlab-server                  1.2.0\n",
      "keyring                            21.2.1\n",
      "kiwisolver                         1.2.0\n",
      "lazy-object-proxy                  1.4.3\n",
      "libarchive-c                       2.9\n",
      "llvmlite                           0.33.0+1.g022ab0f\n",
      "locket                             0.2.0\n",
      "lxml                               4.5.2\n",
      "MarkupSafe                         1.1.1\n",
      "matplotlib                         3.2.2\n",
      "mccabe                             0.6.1\n",
      "menuinst                           1.4.16\n",
      "mistune                            0.8.4\n",
      "mkl-fft                            1.1.0\n",
      "mkl-random                         1.1.1\n",
      "mkl-service                        2.3.0\n",
      "mock                               4.0.2\n",
      "more-itertools                     8.4.0\n",
      "mpmath                             1.1.0\n",
      "msgpack                            1.0.0\n",
      "multipledispatch                   0.6.0\n",
      "navigator-updater                  0.2.1\n",
      "nbconvert                          5.6.1\n",
      "nbformat                           5.0.7\n",
      "networkx                           2.4\n",
      "nltk                               3.5\n",
      "nose                               1.3.7\n",
      "notebook                           6.0.3\n",
      "numba                              0.50.1\n",
      "numexpr                            2.7.1\n",
      "numpy                              1.18.5\n",
      "numpydoc                           1.1.0\n",
      "olefile                            0.46\n",
      "openpyxl                           3.0.4\n",
      "packaging                          20.4\n",
      "pandas                             1.0.5\n",
      "pandocfilters                      1.4.2\n",
      "paramiko                           2.7.1\n",
      "parso                              0.7.0\n",
      "partd                              1.1.0\n",
      "path                               13.1.0\n",
      "pathlib2                           2.3.5\n",
      "pathtools                          0.1.2\n",
      "patsy                              0.5.1\n",
      "pep8                               1.7.1\n",
      "pexpect                            4.8.0\n",
      "pickleshare                        0.7.5\n",
      "Pillow                             7.2.0\n",
      "pip                                20.1.1\n",
      "pkginfo                            1.5.0.1\n",
      "pluggy                             0.13.1\n",
      "ply                                3.11\n",
      "prometheus-client                  0.8.0\n",
      "prompt-toolkit                     3.0.5\n",
      "psutil                             5.7.0\n",
      "psycopg2                           2.8.6\n",
      "py                                 1.9.0\n",
      "pycodestyle                        2.6.0\n",
      "pycosat                            0.6.3\n",
      "pycparser                          2.20\n",
      "pycurl                             7.43.0.5\n",
      "pydocstyle                         5.0.2\n",
      "pyflakes                           2.2.0\n",
      "Pygments                           2.6.1\n",
      "pylint                             2.5.3\n",
      "PyNaCl                             1.4.0\n",
      "pyodbc                             4.0.0-unsupported\n",
      "pyOpenSSL                          19.1.0\n",
      "pyparsing                          2.4.7\n",
      "pyreadline                         2.1\n",
      "pyrsistent                         0.16.0\n",
      "PySocks                            1.7.1\n",
      "pytest                             5.4.3\n",
      "python-dateutil                    2.8.1\n",
      "python-jsonrpc-server              0.3.4\n",
      "python-language-server             0.34.1\n",
      "pytz                               2020.1\n",
      "PyWavelets                         1.1.1\n",
      "pywin32                            227\n",
      "pywin32-ctypes                     0.2.0\n",
      "pywinpty                           0.5.7\n",
      "PyYAML                             5.3.1\n",
      "pyzmq                              19.0.1\n",
      "QDarkStyle                         2.8.1\n",
      "QtAwesome                          0.7.2\n",
      "qtconsole                          4.7.5\n",
      "QtPy                               1.9.0\n",
      "regex                              2020.6.8\n",
      "requests                           2.24.0\n",
      "rope                               0.17.0\n",
      "Rtree                              0.9.4\n",
      "ruamel-yaml                        0.15.87\n",
      "scikit-image                       0.16.2\n",
      "scikit-learn                       0.23.1\n",
      "scipy                              1.5.0\n",
      "seaborn                            0.10.1\n",
      "Send2Trash                         1.5.0\n",
      "setuptools                         49.2.0.post20200714\n",
      "simplegeneric                      0.8.1\n",
      "singledispatch                     3.4.0.3\n",
      "sip                                4.19.13\n",
      "six                                1.15.0\n",
      "snowballstemmer                    2.0.0\n",
      "sortedcollections                  1.2.1\n",
      "sortedcontainers                   2.2.2\n",
      "soupsieve                          2.0.1\n",
      "Sphinx                             3.1.2\n",
      "sphinxcontrib-applehelp            1.0.2\n",
      "sphinxcontrib-devhelp              1.0.2\n",
      "sphinxcontrib-htmlhelp             1.0.3\n",
      "sphinxcontrib-jsmath               1.0.1\n",
      "sphinxcontrib-qthelp               1.0.3\n",
      "sphinxcontrib-serializinghtml      1.1.4\n",
      "sphinxcontrib-websupport           1.2.3\n",
      "spyder                             4.1.4\n",
      "spyder-kernels                     1.9.2\n",
      "SQLAlchemy                         1.3.18\n",
      "statsmodels                        0.11.1\n",
      "sympy                              1.6.1\n",
      "tables                             3.6.1\n",
      "tblib                              1.6.0\n",
      "terminado                          0.8.3\n",
      "testpath                           0.4.4\n",
      "threadpoolctl                      2.1.0\n",
      "toml                               0.10.1\n",
      "toolz                              0.10.0\n",
      "tornado                            6.0.4\n",
      "tqdm                               4.47.0\n",
      "traitlets                          4.3.3\n",
      "typing-extensions                  3.7.4.2\n",
      "ujson                              1.35\n",
      "unicodecsv                         0.14.1\n",
      "urllib3                            1.25.9\n",
      "watchdog                           0.10.3\n",
      "wcwidth                            0.2.5\n",
      "webencodings                       0.5.1\n",
      "Werkzeug                           1.0.1\n",
      "wheel                              0.34.2\n",
      "widgetsnbextension                 3.5.1\n",
      "win-inet-pton                      1.1.0\n",
      "win-unicode-console                0.5\n",
      "wincertstore                       0.2\n",
      "wrapt                              1.11.2\n"
     ]
    },
    {
     "name": "stdout",
     "output_type": "stream",
     "text": [
      "xlrd                               1.2.0\n",
      "XlsxWriter                         1.2.9\n",
      "xlwings                            0.19.5\n",
      "xlwt                               1.3.0\n",
      "xmltodict                          0.12.0\n",
      "yapf                               0.30.0\n",
      "zict                               2.0.0\n",
      "zipp                               3.1.0\n",
      "zope.event                         4.4\n",
      "zope.interface                     4.7.1\n"
     ]
    }
   ],
   "source": [
    "! pip list # verify psycopg2-binary is installed"
   ]
  },
  {
   "cell_type": "markdown",
   "metadata": {},
   "source": [
    "### <font color='purple'>Please make sure that you have all the following packages installed: </font>\n",
    "\n",
    "#### Run the following for importing packages that we will need throught this NB!"
   ]
  },
  {
   "cell_type": "code",
   "execution_count": 21,
   "metadata": {},
   "outputs": [],
   "source": [
    "import psycopg2  #import of the psycopg2 python library\n",
    "import pandas as pd #import of the pandas python library\n",
    "import pandas.io.sql as psql\n",
    "\n",
    "##No transaction is started when commands are executed and no commit() or rollback() is required. \n",
    "from psycopg2.extensions import ISOLATION_LEVEL_AUTOCOMMIT"
   ]
  },
  {
   "cell_type": "markdown",
   "metadata": {},
   "source": [
    "# Task 1: Your First Steps in PostgreSQL"
   ]
  },
  {
   "cell_type": "markdown",
   "metadata": {},
   "source": [
    "### Create a simple RDB (TartuPurchases)\n",
    "- The following DB Model shows an ER diagram of mock, toy DB of two tables with one relationship.\n",
    "- In particular:\n",
    "    - The \"Customer\" Table with attributes (<ins>id</ins>, name, country, email), <font color='red'>Note</font> that underline here means id is the primary_key of the \"customer\" table.\n",
    "    - The \"Order\" table with attributes (<ins>id</ins>, product)\n",
    "    - a (***One-many*** )relationship \"makes\" which relates the two tables (Customer can make several/many Orders, and Order is made by only one Customer).\n",
    "    - One-to- many relationship is handled as follows in the RDBs: (Use a foreign_key on the many side of the relationship linking back to the \"one\" side)\n",
    "    - Therefore, we add the primary key of the one side (Customer) Table as a foreign_key in the many side (Order) table.\n",
    "    - Thus the Order table becomes as follows Order(id,customer_id,product) id is the primary_key and customer_id is a forien_key which references to the id primary_key in the Customer table."
   ]
  },
  {
   "cell_type": "markdown",
   "metadata": {},
   "source": [
    "#### The relational Layout: \n",
    "##### Customer(ID, Name)   --Makes--> ORDER(ID, Customer_ID,Product)\n",
    "<img src='tartupurchasesDB.png'>"
   ]
  },
  {
   "cell_type": "markdown",
   "metadata": {},
   "source": [
    "#### Connecting to the PostgreSQL Server"
   ]
  },
  {
   "cell_type": "code",
   "execution_count": 93,
   "metadata": {},
   "outputs": [
    {
     "name": "stdout",
     "output_type": "stream",
     "text": [
      "Connected Successfully to PostgreSQL server!!\n"
     ]
    }
   ],
   "source": [
    "try:\n",
    "    # Connect to the postgreSQL server with username, and password credentials\n",
    "    con = psycopg2.connect(user = \"postgres\",\n",
    "                                  password = \"Riidepuu123\",\n",
    "                                  host = \"localhost\",\n",
    "                                  port = \"5432\")\n",
    "    \n",
    "    con.set_isolation_level(ISOLATION_LEVEL_AUTOCOMMIT);\n",
    "    print(\"Connected Successfully to PostgreSQL server!!\")\n",
    "    \n",
    "    # Obtain a DB Cursor to perform database operations\n",
    "    cursor = con.cursor();\n",
    "except (Exception, psycopg2.Error) as error :\n",
    "     print (\"Error while connecting to PostgreSQL\", error)\n"
   ]
  },
  {
   "cell_type": "markdown",
   "metadata": {},
   "source": [
    "#### Create the \"TarturPurchases\" DB and close connection to the Server"
   ]
  },
  {
   "cell_type": "code",
   "execution_count": 23,
   "metadata": {},
   "outputs": [
    {
     "name": "stdout",
     "output_type": "stream",
     "text": [
      "Error While Creating the DB:  database \"tartupurchases\" already exists\n",
      "\n"
     ]
    }
   ],
   "source": [
    "#DB_name variable    \n",
    "name_Database   = \"TartuPurchases\";\n",
    "\n",
    "# Create DB statement\n",
    "sqlCreateDatabase = \"CREATE DATABASE \"+name_Database+\";\"\n",
    "\n",
    "try:\n",
    "    # Execute a SQL command: this creates a new DB\n",
    "    cursor.execute(sqlCreateDatabase);\n",
    "    print(\"Database '\"+name_Database+\"' Created Successfully!\")\n",
    "except (Exception, psycopg2.Error) as error :\n",
    "    print(\"Error While Creating the DB: \",error)\n",
    "    \n",
    "finally:\n",
    "    # Close communication with the database\n",
    "    cursor.close() #to close the cusrsor\n",
    "    con.close() #to close the connection/ we will open a new connection to the created DB"
   ]
  },
  {
   "cell_type": "markdown",
   "metadata": {},
   "source": [
    "#### Getting some details about the connection"
   ]
  },
  {
   "cell_type": "code",
   "execution_count": 24,
   "metadata": {},
   "outputs": [
    {
     "data": {
      "text/plain": [
       "<connection object at 0x0000028684DDD8C0; dsn: 'user=postgres password=xxx host=localhost port=5432', closed: 1>"
      ]
     },
     "execution_count": 24,
     "metadata": {},
     "output_type": "execute_result"
    }
   ],
   "source": [
    "con"
   ]
  },
  {
   "cell_type": "markdown",
   "metadata": {},
   "source": [
    "#### You can also use the command <code>\\conninfo</code> in the PSQL Shell to show the conection details\n",
    "\n",
    "#### Upload your PSQL Shell Command Result of this command here as an a screenshot "
   ]
  },
  {
   "attachments": {
    "image.png": {
     "image/png": "[encoded data removed]"
    }
   },
   "cell_type": "markdown",
   "metadata": {},
   "source": [
    "##### <font color='red'>Image Here:</font> ![image.png](attachment:image.png)"
   ]
  },
  {
   "cell_type": "markdown",
   "metadata": {},
   "source": [
    "#### Get/open  a new connection, but this time pointed to the created \"tartupurchases\" DB."
   ]
  },
  {
   "cell_type": "code",
   "execution_count": 25,
   "metadata": {},
   "outputs": [
    {
     "name": "stdout",
     "output_type": "stream",
     "text": [
      "connected again to the server and cusor now on tartupurchases DB !!\n"
     ]
    }
   ],
   "source": [
    "# get a new connection but this time point to the created \"tartupurchases\" DB.\n",
    "con = psycopg2.connect(user = \"postgres\",\n",
    "                       password = \"Riidepuu123\", \n",
    "                       host = \"localhost\", #Using Docker we can refer to containers by name\n",
    "                       port = \"5432\",\n",
    "                       database = \"tartupurchases\")\n",
    "\n",
    "try:\n",
    "    # Obtain a new DB Cursor (to \"tartupurchases\" DB )\n",
    "    cursor = con.cursor();\n",
    "    print(\"connected again to the server and cusor now on tartupurchases DB !!\")\n",
    "except (Exception, psycopg2.Error) as error:\n",
    "    print(\"Error in Connection\",error)"
   ]
  },
  {
   "cell_type": "markdown",
   "metadata": {},
   "source": [
    "#### Creating Our First Table (\"Customer\")"
   ]
  },
  {
   "cell_type": "code",
   "execution_count": 26,
   "metadata": {},
   "outputs": [
    {
     "name": "stdout",
     "output_type": "stream",
     "text": [
      "Error While Creating the DB:  relation \"customer\" already exists\n",
      "\n"
     ]
    }
   ],
   "source": [
    "#Create \"Customer\" Table\n",
    "\n",
    "try:\n",
    "    #table_name variable\n",
    "    customerTable=\"customer\"\n",
    "    create_customerTablee_query = '''CREATE TABLE '''+ customerTable+''' \n",
    "              (id INT  PRIMARY KEY     NOT NULL,\n",
    "               name           TEXT    NOT NULL,\n",
    "               country        TEXT    NOT NULL,\n",
    "               email          TEXT   \n",
    "               ); '''\n",
    "\n",
    "    #Execute this command (SQL Query)\n",
    "    cursor.execute(create_customerTablee_query)\n",
    "    \n",
    "    # Make the changes to the database persistent\n",
    "    con.commit()\n",
    "    print(\"Table (\"+ customerTable +\") created successfully in PostgreSQL \")\n",
    "except (Exception, psycopg2.Error) as error:\n",
    "    # if it exits with an exception the transaction is rolled back.\n",
    "    con.rollback()\n",
    "    print(\"Error While Creating the DB: \",error)\n"
   ]
  },
  {
   "cell_type": "markdown",
   "metadata": {},
   "source": [
    "##### Make sure the table is created "
   ]
  },
  {
   "cell_type": "code",
   "execution_count": 27,
   "metadata": {},
   "outputs": [
    {
     "name": "stdout",
     "output_type": "stream",
     "text": [
      "('customer',)\n"
     ]
    }
   ],
   "source": [
    "# [information_schema.tables] keep listing of every table being managed by Postgres for a particular database.\n",
    "# specifying the tabel_schema to 'public' to only list tables that you create.\n",
    "cursor.execute(\"\"\"SELECT table_name \n",
    "                  FROM information_schema.tables \n",
    "                  WHERE table_schema = 'public'  \n",
    "               \"\"\")\n",
    "\n",
    "for table in cursor.fetchall():\n",
    "    print(table)"
   ]
  },
  {
   "cell_type": "markdown",
   "metadata": {},
   "source": [
    "#### You can also just check this from the <font color='red'>PSQL Shell</font> :\n",
    "- Use the command  <code>\\c  tartupurchases</code> to connect/swtich to the \"pruchases\" DB. \n",
    "- Use the command <code>\\dt</code> to show the tables inside the current DB (\"purchases\")."
   ]
  },
  {
   "cell_type": "markdown",
   "metadata": {},
   "source": [
    "- To get more familiar with PSQL SHELL commands, You can follow this link (https://www.postgresql.org/docs/current/app-psql.html)"
   ]
  },
  {
   "cell_type": "markdown",
   "metadata": {},
   "source": [
    "#### Upload your PSQL Shell Command Result of the created tables here as an a screenshot "
   ]
  },
  {
   "attachments": {
    "image.png": {
     "image/png": "[encoded data removed]"
    }
   },
   "cell_type": "markdown",
   "metadata": {},
   "source": [
    "##### <font color='red'>Image Here:</font> ![image.png](attachment:image.png)"
   ]
  },
  {
   "cell_type": "markdown",
   "metadata": {},
   "source": [
    "#### Show the details(description of the created table \"customer\")\n",
    "- use the command <code>\\d customer</code>"
   ]
  },
  {
   "cell_type": "markdown",
   "metadata": {},
   "source": [
    "#### Upload your PSQL Shell Command Result of the decription of the customer table here:"
   ]
  },
  {
   "attachments": {
    "image.png": {
     "image/png": "[encoded data removed]"
    }
   },
   "cell_type": "markdown",
   "metadata": {},
   "source": [
    "##### <font color='red'>Image Here:</font> ![image.png](attachment:image.png)"
   ]
  },
  {
   "cell_type": "markdown",
   "metadata": {},
   "source": [
    "### (Let's Load some data to the table) Inserting Multiple Rows to the Table"
   ]
  },
  {
   "cell_type": "code",
   "execution_count": 28,
   "metadata": {},
   "outputs": [
    {
     "name": "stdout",
     "output_type": "stream",
     "text": [
      "5 Record inserted successfully into customers table\n"
     ]
    }
   ],
   "source": [
    "sql_insert_customers = \"INSERT INTO customer (id,name,country,email) VALUES(%s,%s,%s,%s)\"\n",
    "\n",
    "#list of customers (With Their attributes values)\n",
    "#None here means value will be missing in the table\n",
    "customer_List=[\n",
    "            (1, \"Mohamed Ragab\", \"Egypt\", \"mohamed.ragb@ut.ee\"),\n",
    "            (2,\"John Smith\", \"Finland\",\"j.smith@hotmail.com\"),\n",
    "            (3,\"Aisha Kareem\",\"India\",None),\n",
    "            (4,\"Jean Lime\",\"Canda\",\"jeanlime@gmail.com\"),\n",
    "            (5,\"Hassan Eldeeb\",\"Egypt\",None)]\n",
    "\n",
    "try:\n",
    "    # execute the INSERT statement\n",
    "    cursor.executemany(sql_insert_customers,customer_List)\n",
    "    # commit the changes to the database\n",
    "    con.commit()\n",
    "    #the number of inserted rows/tuples\n",
    "    count = cursor.rowcount\n",
    "    print (count, \"Record inserted successfully into customers table\")\n",
    "\n",
    "except (Exception, psycopg2.Error) as error :\n",
    "    con.rollback()\n",
    "    print (\"Error while Inserting the data to the table, Details: \",error)"
   ]
  },
  {
   "cell_type": "markdown",
   "metadata": {},
   "source": [
    "## Mock Data Generation\n",
    "- If you want to generate more mock data, you can use this website (***\"Mockaroo\"***) (https://www.mockaroo.com/).\n",
    "- \"Mockaroo\" lets you generate up to 1,000 rows of realistic test data in CSV, JSON, SQL, and Excel formats.\n",
    "<img src='https://www.qlikfix.com/wp-content/uploads/2014/03/Mockaroo.png'>"
   ]
  },
  {
   "cell_type": "markdown",
   "metadata": {},
   "source": [
    "## Querying Table Data"
   ]
  },
  {
   "cell_type": "markdown",
   "metadata": {},
   "source": [
    "#### Get all the Customers in the DB"
   ]
  },
  {
   "cell_type": "code",
   "execution_count": 29,
   "metadata": {},
   "outputs": [
    {
     "name": "stdout",
     "output_type": "stream",
     "text": [
      "Print each row and it's columns values:\n",
      "\n",
      "Id =  1\n",
      "Name =  Mohamed Ragab\n",
      "Country =  Egypt\n",
      "Email =  mohamed.ragb@ut.ee \n",
      "\n",
      "Id =  2\n",
      "Name =  John Smith\n",
      "Country =  Finland\n",
      "Email =  j.smith@hotmail.com \n",
      "\n",
      "Id =  3\n",
      "Name =  Aisha Kareem\n",
      "Country =  India\n",
      "Email =  None \n",
      "\n",
      "Id =  4\n",
      "Name =  Jean Lime\n",
      "Country =  Canda\n",
      "Email =  jeanlime@gmail.com \n",
      "\n",
      "Id =  5\n",
      "Name =  Hassan Eldeeb\n",
      "Country =  Egypt\n",
      "Email =  None \n",
      "\n"
     ]
    }
   ],
   "source": [
    "sql_select_query = \"\"\" SELECT * FROM customer  \"\"\"\n",
    "\n",
    "try:\n",
    "    \n",
    "    cursor.execute(sql_select_query, (1,))\n",
    "    person_records = cursor.fetchall() \n",
    "    print(\"Print each row and it's columns values:\\n\")\n",
    "    for row in person_records:\n",
    "        print(\"Id = \", row[0], )\n",
    "        print(\"Name = \", row[1], )\n",
    "        print(\"Country = \", row[2], )\n",
    "        print(\"Email = \", row[3], \"\\n\")\n",
    "except(Exception, psycopg2.Error) as error :\n",
    "    con.rollback()\n",
    "    print(\"Error:\", error)"
   ]
  },
  {
   "cell_type": "markdown",
   "metadata": {},
   "source": [
    "#### Notes about the Rows Fetching (Retrieval) From tables in PostgreSQL: \n",
    "- In the above example, we used **cursor.fetchall()** to get all the rows of a database table.\n",
    "    -    **cursor.fetchall()** to fetch all rows.\n",
    "    -    **cursor.fetchone()** to fetch single row.\n",
    "    -    **cursor.fetchmany(SIZE)** to fetch limited rows."
   ]
  },
  {
   "cell_type": "markdown",
   "metadata": {},
   "source": [
    "#### You can use \"Pandas\" library to print the result in tabular format"
   ]
  },
  {
   "cell_type": "code",
   "execution_count": 32,
   "metadata": {},
   "outputs": [
    {
     "data": {
      "text/html": [
       "<style  type=\"text/css\" >\n",
       "</style><table id=\"T_7c23eb5e_f82b_11ea_8428_40ec9983c6f0\" ><thead>    <tr>        <th class=\"col_heading level0 col0\" >id</th>        <th class=\"col_heading level0 col1\" >name</th>        <th class=\"col_heading level0 col2\" >country</th>        <th class=\"col_heading level0 col3\" >email</th>    </tr></thead><tbody>\n",
       "                <tr>\n",
       "                                <td id=\"T_7c23eb5e_f82b_11ea_8428_40ec9983c6f0row0_col0\" class=\"data row0 col0\" >1</td>\n",
       "                        <td id=\"T_7c23eb5e_f82b_11ea_8428_40ec9983c6f0row0_col1\" class=\"data row0 col1\" >Mohamed Ragab</td>\n",
       "                        <td id=\"T_7c23eb5e_f82b_11ea_8428_40ec9983c6f0row0_col2\" class=\"data row0 col2\" >Egypt</td>\n",
       "                        <td id=\"T_7c23eb5e_f82b_11ea_8428_40ec9983c6f0row0_col3\" class=\"data row0 col3\" >mohamed.ragb@ut.ee</td>\n",
       "            </tr>\n",
       "            <tr>\n",
       "                                <td id=\"T_7c23eb5e_f82b_11ea_8428_40ec9983c6f0row1_col0\" class=\"data row1 col0\" >2</td>\n",
       "                        <td id=\"T_7c23eb5e_f82b_11ea_8428_40ec9983c6f0row1_col1\" class=\"data row1 col1\" >John Smith</td>\n",
       "                        <td id=\"T_7c23eb5e_f82b_11ea_8428_40ec9983c6f0row1_col2\" class=\"data row1 col2\" >Finland</td>\n",
       "                        <td id=\"T_7c23eb5e_f82b_11ea_8428_40ec9983c6f0row1_col3\" class=\"data row1 col3\" >j.smith@hotmail.com</td>\n",
       "            </tr>\n",
       "            <tr>\n",
       "                                <td id=\"T_7c23eb5e_f82b_11ea_8428_40ec9983c6f0row2_col0\" class=\"data row2 col0\" >3</td>\n",
       "                        <td id=\"T_7c23eb5e_f82b_11ea_8428_40ec9983c6f0row2_col1\" class=\"data row2 col1\" >Aisha Kareem</td>\n",
       "                        <td id=\"T_7c23eb5e_f82b_11ea_8428_40ec9983c6f0row2_col2\" class=\"data row2 col2\" >India</td>\n",
       "                        <td id=\"T_7c23eb5e_f82b_11ea_8428_40ec9983c6f0row2_col3\" class=\"data row2 col3\" >None</td>\n",
       "            </tr>\n",
       "            <tr>\n",
       "                                <td id=\"T_7c23eb5e_f82b_11ea_8428_40ec9983c6f0row3_col0\" class=\"data row3 col0\" >4</td>\n",
       "                        <td id=\"T_7c23eb5e_f82b_11ea_8428_40ec9983c6f0row3_col1\" class=\"data row3 col1\" >Jean Lime</td>\n",
       "                        <td id=\"T_7c23eb5e_f82b_11ea_8428_40ec9983c6f0row3_col2\" class=\"data row3 col2\" >Canda</td>\n",
       "                        <td id=\"T_7c23eb5e_f82b_11ea_8428_40ec9983c6f0row3_col3\" class=\"data row3 col3\" >jeanlime@gmail.com</td>\n",
       "            </tr>\n",
       "            <tr>\n",
       "                                <td id=\"T_7c23eb5e_f82b_11ea_8428_40ec9983c6f0row4_col0\" class=\"data row4 col0\" >5</td>\n",
       "                        <td id=\"T_7c23eb5e_f82b_11ea_8428_40ec9983c6f0row4_col1\" class=\"data row4 col1\" >Hassan Eldeeb</td>\n",
       "                        <td id=\"T_7c23eb5e_f82b_11ea_8428_40ec9983c6f0row4_col2\" class=\"data row4 col2\" >Egypt</td>\n",
       "                        <td id=\"T_7c23eb5e_f82b_11ea_8428_40ec9983c6f0row4_col3\" class=\"data row4 col3\" >None</td>\n",
       "            </tr>\n",
       "    </tbody></table>"
      ],
      "text/plain": [
       "<pandas.io.formats.style.Styler at 0x2868638e6d0>"
      ]
     },
     "metadata": {},
     "output_type": "display_data"
    }
   ],
   "source": [
    "#use Pandas to print the result in tabular form\n",
    "# Don't RUN before you put your SQL Query\n",
    "my_table = pd.read_sql('SELECT * FROM customer', con)\n",
    "display(my_table.style.hide_index())"
   ]
  },
  {
   "cell_type": "code",
   "execution_count": 33,
   "metadata": {},
   "outputs": [
    {
     "data": {
      "text/html": [
       "<style  type=\"text/css\" >\n",
       "</style><table id=\"T_8dd78bf0_f82b_11ea_9bfd_40ec9983c6f0\" ><thead>    <tr>        <th class=\"col_heading level0 col0\" >id</th>        <th class=\"col_heading level0 col1\" >name</th>        <th class=\"col_heading level0 col2\" >country</th>        <th class=\"col_heading level0 col3\" >email</th>    </tr></thead><tbody>\n",
       "                <tr>\n",
       "                                <td id=\"T_8dd78bf0_f82b_11ea_9bfd_40ec9983c6f0row0_col0\" class=\"data row0 col0\" >1</td>\n",
       "                        <td id=\"T_8dd78bf0_f82b_11ea_9bfd_40ec9983c6f0row0_col1\" class=\"data row0 col1\" >Mohamed Ragab</td>\n",
       "                        <td id=\"T_8dd78bf0_f82b_11ea_9bfd_40ec9983c6f0row0_col2\" class=\"data row0 col2\" >Egypt</td>\n",
       "                        <td id=\"T_8dd78bf0_f82b_11ea_9bfd_40ec9983c6f0row0_col3\" class=\"data row0 col3\" >mohamed.ragb@ut.ee</td>\n",
       "            </tr>\n",
       "            <tr>\n",
       "                                <td id=\"T_8dd78bf0_f82b_11ea_9bfd_40ec9983c6f0row1_col0\" class=\"data row1 col0\" >2</td>\n",
       "                        <td id=\"T_8dd78bf0_f82b_11ea_9bfd_40ec9983c6f0row1_col1\" class=\"data row1 col1\" >John Smith</td>\n",
       "                        <td id=\"T_8dd78bf0_f82b_11ea_9bfd_40ec9983c6f0row1_col2\" class=\"data row1 col2\" >Finland</td>\n",
       "                        <td id=\"T_8dd78bf0_f82b_11ea_9bfd_40ec9983c6f0row1_col3\" class=\"data row1 col3\" >j.smith@hotmail.com</td>\n",
       "            </tr>\n",
       "            <tr>\n",
       "                                <td id=\"T_8dd78bf0_f82b_11ea_9bfd_40ec9983c6f0row2_col0\" class=\"data row2 col0\" >3</td>\n",
       "                        <td id=\"T_8dd78bf0_f82b_11ea_9bfd_40ec9983c6f0row2_col1\" class=\"data row2 col1\" >Aisha Kareem</td>\n",
       "                        <td id=\"T_8dd78bf0_f82b_11ea_9bfd_40ec9983c6f0row2_col2\" class=\"data row2 col2\" >India</td>\n",
       "                        <td id=\"T_8dd78bf0_f82b_11ea_9bfd_40ec9983c6f0row2_col3\" class=\"data row2 col3\" >None</td>\n",
       "            </tr>\n",
       "            <tr>\n",
       "                                <td id=\"T_8dd78bf0_f82b_11ea_9bfd_40ec9983c6f0row3_col0\" class=\"data row3 col0\" >4</td>\n",
       "                        <td id=\"T_8dd78bf0_f82b_11ea_9bfd_40ec9983c6f0row3_col1\" class=\"data row3 col1\" >Jean Lime</td>\n",
       "                        <td id=\"T_8dd78bf0_f82b_11ea_9bfd_40ec9983c6f0row3_col2\" class=\"data row3 col2\" >Canda</td>\n",
       "                        <td id=\"T_8dd78bf0_f82b_11ea_9bfd_40ec9983c6f0row3_col3\" class=\"data row3 col3\" >jeanlime@gmail.com</td>\n",
       "            </tr>\n",
       "            <tr>\n",
       "                                <td id=\"T_8dd78bf0_f82b_11ea_9bfd_40ec9983c6f0row4_col0\" class=\"data row4 col0\" >5</td>\n",
       "                        <td id=\"T_8dd78bf0_f82b_11ea_9bfd_40ec9983c6f0row4_col1\" class=\"data row4 col1\" >Hassan Eldeeb</td>\n",
       "                        <td id=\"T_8dd78bf0_f82b_11ea_9bfd_40ec9983c6f0row4_col2\" class=\"data row4 col2\" >Egypt</td>\n",
       "                        <td id=\"T_8dd78bf0_f82b_11ea_9bfd_40ec9983c6f0row4_col3\" class=\"data row4 col3\" >None</td>\n",
       "            </tr>\n",
       "    </tbody></table>"
      ],
      "text/plain": [
       "<pandas.io.formats.style.Styler at 0x2868638e5b0>"
      ]
     },
     "metadata": {},
     "output_type": "display_data"
    }
   ],
   "source": [
    "#OR using this code\n",
    "# Don't RUN before you put your SQL Query\n",
    "another_attempt= psql.read_sql(\"SELECT * FROM customer\", con)\n",
    "display(another_attempt.style.hide_index())"
   ]
  },
  {
   "cell_type": "markdown",
   "metadata": {},
   "source": [
    "#### Get only the <font color='red'>names</font>  and <font color='red'>countries</font> of all the Customers in the DB [Projection]"
   ]
  },
  {
   "cell_type": "code",
   "execution_count": 34,
   "metadata": {},
   "outputs": [
    {
     "data": {
      "text/html": [
       "<style  type=\"text/css\" >\n",
       "</style><table id=\"T_a637771a_f82b_11ea_9abe_40ec9983c6f0\" ><thead>    <tr>        <th class=\"col_heading level0 col0\" >name</th>        <th class=\"col_heading level0 col1\" >country</th>    </tr></thead><tbody>\n",
       "                <tr>\n",
       "                                <td id=\"T_a637771a_f82b_11ea_9abe_40ec9983c6f0row0_col0\" class=\"data row0 col0\" >Mohamed Ragab</td>\n",
       "                        <td id=\"T_a637771a_f82b_11ea_9abe_40ec9983c6f0row0_col1\" class=\"data row0 col1\" >Egypt</td>\n",
       "            </tr>\n",
       "            <tr>\n",
       "                                <td id=\"T_a637771a_f82b_11ea_9abe_40ec9983c6f0row1_col0\" class=\"data row1 col0\" >John Smith</td>\n",
       "                        <td id=\"T_a637771a_f82b_11ea_9abe_40ec9983c6f0row1_col1\" class=\"data row1 col1\" >Finland</td>\n",
       "            </tr>\n",
       "            <tr>\n",
       "                                <td id=\"T_a637771a_f82b_11ea_9abe_40ec9983c6f0row2_col0\" class=\"data row2 col0\" >Aisha Kareem</td>\n",
       "                        <td id=\"T_a637771a_f82b_11ea_9abe_40ec9983c6f0row2_col1\" class=\"data row2 col1\" >India</td>\n",
       "            </tr>\n",
       "            <tr>\n",
       "                                <td id=\"T_a637771a_f82b_11ea_9abe_40ec9983c6f0row3_col0\" class=\"data row3 col0\" >Jean Lime</td>\n",
       "                        <td id=\"T_a637771a_f82b_11ea_9abe_40ec9983c6f0row3_col1\" class=\"data row3 col1\" >Canda</td>\n",
       "            </tr>\n",
       "            <tr>\n",
       "                                <td id=\"T_a637771a_f82b_11ea_9abe_40ec9983c6f0row4_col0\" class=\"data row4 col0\" >Hassan Eldeeb</td>\n",
       "                        <td id=\"T_a637771a_f82b_11ea_9abe_40ec9983c6f0row4_col1\" class=\"data row4 col1\" >Egypt</td>\n",
       "            </tr>\n",
       "    </tbody></table>"
      ],
      "text/plain": [
       "<pandas.io.formats.style.Styler at 0x2868638e430>"
      ]
     },
     "metadata": {},
     "output_type": "display_data"
    }
   ],
   "source": [
    "# Don't RUN before you put your SQL Query\n",
    "sql_project_query = \"\"\" SELECT name, country FROM customer\"\"\"\n",
    "\n",
    "projected_DF= psql.read_sql(sql_project_query, con)\n",
    "display(projected_DF.style.hide_index())"
   ]
  },
  {
   "cell_type": "markdown",
   "metadata": {},
   "source": [
    "## Sorting the Results\n",
    "\n",
    "#### Get All Customers , sorted by country Ascednding"
   ]
  },
  {
   "cell_type": "code",
   "execution_count": 35,
   "metadata": {},
   "outputs": [
    {
     "data": {
      "text/html": [
       "<style  type=\"text/css\" >\n",
       "</style><table id=\"T_a95e8726_f82b_11ea_adf0_40ec9983c6f0\" ><thead>    <tr>        <th class=\"col_heading level0 col0\" >id</th>        <th class=\"col_heading level0 col1\" >name</th>        <th class=\"col_heading level0 col2\" >country</th>        <th class=\"col_heading level0 col3\" >email</th>    </tr></thead><tbody>\n",
       "                <tr>\n",
       "                                <td id=\"T_a95e8726_f82b_11ea_adf0_40ec9983c6f0row0_col0\" class=\"data row0 col0\" >4</td>\n",
       "                        <td id=\"T_a95e8726_f82b_11ea_adf0_40ec9983c6f0row0_col1\" class=\"data row0 col1\" >Jean Lime</td>\n",
       "                        <td id=\"T_a95e8726_f82b_11ea_adf0_40ec9983c6f0row0_col2\" class=\"data row0 col2\" >Canda</td>\n",
       "                        <td id=\"T_a95e8726_f82b_11ea_adf0_40ec9983c6f0row0_col3\" class=\"data row0 col3\" >jeanlime@gmail.com</td>\n",
       "            </tr>\n",
       "            <tr>\n",
       "                                <td id=\"T_a95e8726_f82b_11ea_adf0_40ec9983c6f0row1_col0\" class=\"data row1 col0\" >1</td>\n",
       "                        <td id=\"T_a95e8726_f82b_11ea_adf0_40ec9983c6f0row1_col1\" class=\"data row1 col1\" >Mohamed Ragab</td>\n",
       "                        <td id=\"T_a95e8726_f82b_11ea_adf0_40ec9983c6f0row1_col2\" class=\"data row1 col2\" >Egypt</td>\n",
       "                        <td id=\"T_a95e8726_f82b_11ea_adf0_40ec9983c6f0row1_col3\" class=\"data row1 col3\" >mohamed.ragb@ut.ee</td>\n",
       "            </tr>\n",
       "            <tr>\n",
       "                                <td id=\"T_a95e8726_f82b_11ea_adf0_40ec9983c6f0row2_col0\" class=\"data row2 col0\" >5</td>\n",
       "                        <td id=\"T_a95e8726_f82b_11ea_adf0_40ec9983c6f0row2_col1\" class=\"data row2 col1\" >Hassan Eldeeb</td>\n",
       "                        <td id=\"T_a95e8726_f82b_11ea_adf0_40ec9983c6f0row2_col2\" class=\"data row2 col2\" >Egypt</td>\n",
       "                        <td id=\"T_a95e8726_f82b_11ea_adf0_40ec9983c6f0row2_col3\" class=\"data row2 col3\" >None</td>\n",
       "            </tr>\n",
       "            <tr>\n",
       "                                <td id=\"T_a95e8726_f82b_11ea_adf0_40ec9983c6f0row3_col0\" class=\"data row3 col0\" >2</td>\n",
       "                        <td id=\"T_a95e8726_f82b_11ea_adf0_40ec9983c6f0row3_col1\" class=\"data row3 col1\" >John Smith</td>\n",
       "                        <td id=\"T_a95e8726_f82b_11ea_adf0_40ec9983c6f0row3_col2\" class=\"data row3 col2\" >Finland</td>\n",
       "                        <td id=\"T_a95e8726_f82b_11ea_adf0_40ec9983c6f0row3_col3\" class=\"data row3 col3\" >j.smith@hotmail.com</td>\n",
       "            </tr>\n",
       "            <tr>\n",
       "                                <td id=\"T_a95e8726_f82b_11ea_adf0_40ec9983c6f0row4_col0\" class=\"data row4 col0\" >3</td>\n",
       "                        <td id=\"T_a95e8726_f82b_11ea_adf0_40ec9983c6f0row4_col1\" class=\"data row4 col1\" >Aisha Kareem</td>\n",
       "                        <td id=\"T_a95e8726_f82b_11ea_adf0_40ec9983c6f0row4_col2\" class=\"data row4 col2\" >India</td>\n",
       "                        <td id=\"T_a95e8726_f82b_11ea_adf0_40ec9983c6f0row4_col3\" class=\"data row4 col3\" >None</td>\n",
       "            </tr>\n",
       "    </tbody></table>"
      ],
      "text/plain": [
       "<pandas.io.formats.style.Styler at 0x28684defeb0>"
      ]
     },
     "metadata": {},
     "output_type": "display_data"
    }
   ],
   "source": [
    "ord_customers_by_country= psql.read_sql(\"SELECT * FROM customer ORDER BY country ASC\", con)\n",
    "display(ord_customers_by_country.style.hide_index())"
   ]
  },
  {
   "cell_type": "markdown",
   "metadata": {},
   "source": [
    "- **Note**: By Default Sorting in SQL is Ascending order!"
   ]
  },
  {
   "cell_type": "markdown",
   "metadata": {},
   "source": [
    "#### Get All Customers , sorted by names Descednding"
   ]
  },
  {
   "cell_type": "code",
   "execution_count": 36,
   "metadata": {},
   "outputs": [
    {
     "data": {
      "text/html": [
       "<style  type=\"text/css\" >\n",
       "</style><table id=\"T_bdbc00d9_f82b_11ea_80cb_40ec9983c6f0\" ><thead>    <tr>        <th class=\"col_heading level0 col0\" >id</th>        <th class=\"col_heading level0 col1\" >name</th>        <th class=\"col_heading level0 col2\" >country</th>        <th class=\"col_heading level0 col3\" >email</th>    </tr></thead><tbody>\n",
       "                <tr>\n",
       "                                <td id=\"T_bdbc00d9_f82b_11ea_80cb_40ec9983c6f0row0_col0\" class=\"data row0 col0\" >1</td>\n",
       "                        <td id=\"T_bdbc00d9_f82b_11ea_80cb_40ec9983c6f0row0_col1\" class=\"data row0 col1\" >Mohamed Ragab</td>\n",
       "                        <td id=\"T_bdbc00d9_f82b_11ea_80cb_40ec9983c6f0row0_col2\" class=\"data row0 col2\" >Egypt</td>\n",
       "                        <td id=\"T_bdbc00d9_f82b_11ea_80cb_40ec9983c6f0row0_col3\" class=\"data row0 col3\" >mohamed.ragb@ut.ee</td>\n",
       "            </tr>\n",
       "            <tr>\n",
       "                                <td id=\"T_bdbc00d9_f82b_11ea_80cb_40ec9983c6f0row1_col0\" class=\"data row1 col0\" >2</td>\n",
       "                        <td id=\"T_bdbc00d9_f82b_11ea_80cb_40ec9983c6f0row1_col1\" class=\"data row1 col1\" >John Smith</td>\n",
       "                        <td id=\"T_bdbc00d9_f82b_11ea_80cb_40ec9983c6f0row1_col2\" class=\"data row1 col2\" >Finland</td>\n",
       "                        <td id=\"T_bdbc00d9_f82b_11ea_80cb_40ec9983c6f0row1_col3\" class=\"data row1 col3\" >j.smith@hotmail.com</td>\n",
       "            </tr>\n",
       "            <tr>\n",
       "                                <td id=\"T_bdbc00d9_f82b_11ea_80cb_40ec9983c6f0row2_col0\" class=\"data row2 col0\" >4</td>\n",
       "                        <td id=\"T_bdbc00d9_f82b_11ea_80cb_40ec9983c6f0row2_col1\" class=\"data row2 col1\" >Jean Lime</td>\n",
       "                        <td id=\"T_bdbc00d9_f82b_11ea_80cb_40ec9983c6f0row2_col2\" class=\"data row2 col2\" >Canda</td>\n",
       "                        <td id=\"T_bdbc00d9_f82b_11ea_80cb_40ec9983c6f0row2_col3\" class=\"data row2 col3\" >jeanlime@gmail.com</td>\n",
       "            </tr>\n",
       "            <tr>\n",
       "                                <td id=\"T_bdbc00d9_f82b_11ea_80cb_40ec9983c6f0row3_col0\" class=\"data row3 col0\" >5</td>\n",
       "                        <td id=\"T_bdbc00d9_f82b_11ea_80cb_40ec9983c6f0row3_col1\" class=\"data row3 col1\" >Hassan Eldeeb</td>\n",
       "                        <td id=\"T_bdbc00d9_f82b_11ea_80cb_40ec9983c6f0row3_col2\" class=\"data row3 col2\" >Egypt</td>\n",
       "                        <td id=\"T_bdbc00d9_f82b_11ea_80cb_40ec9983c6f0row3_col3\" class=\"data row3 col3\" >None</td>\n",
       "            </tr>\n",
       "            <tr>\n",
       "                                <td id=\"T_bdbc00d9_f82b_11ea_80cb_40ec9983c6f0row4_col0\" class=\"data row4 col0\" >3</td>\n",
       "                        <td id=\"T_bdbc00d9_f82b_11ea_80cb_40ec9983c6f0row4_col1\" class=\"data row4 col1\" >Aisha Kareem</td>\n",
       "                        <td id=\"T_bdbc00d9_f82b_11ea_80cb_40ec9983c6f0row4_col2\" class=\"data row4 col2\" >India</td>\n",
       "                        <td id=\"T_bdbc00d9_f82b_11ea_80cb_40ec9983c6f0row4_col3\" class=\"data row4 col3\" >None</td>\n",
       "            </tr>\n",
       "    </tbody></table>"
      ],
      "text/plain": [
       "<pandas.io.formats.style.Styler at 0x2868638e7f0>"
      ]
     },
     "metadata": {},
     "output_type": "display_data"
    }
   ],
   "source": [
    "# Don't RUN before you put your SQL Query\n",
    "ord_customers_by_name= psql.read_sql(\"SELECT * FROM customer ORDER BY name DESC\", con)\n",
    "display(ord_customers_by_name.style.hide_index())"
   ]
  },
  {
   "cell_type": "markdown",
   "metadata": {},
   "source": [
    "#### Get Distinct Countries of customers From Customer table "
   ]
  },
  {
   "cell_type": "code",
   "execution_count": 37,
   "metadata": {},
   "outputs": [
    {
     "data": {
      "text/html": [
       "<style  type=\"text/css\" >\n",
       "</style><table id=\"T_cf4ebbea_f82b_11ea_9450_40ec9983c6f0\" ><thead>    <tr>        <th class=\"col_heading level0 col0\" >country</th>    </tr></thead><tbody>\n",
       "                <tr>\n",
       "                                <td id=\"T_cf4ebbea_f82b_11ea_9450_40ec9983c6f0row0_col0\" class=\"data row0 col0\" >Finland</td>\n",
       "            </tr>\n",
       "            <tr>\n",
       "                                <td id=\"T_cf4ebbea_f82b_11ea_9450_40ec9983c6f0row1_col0\" class=\"data row1 col0\" >Egypt</td>\n",
       "            </tr>\n",
       "            <tr>\n",
       "                                <td id=\"T_cf4ebbea_f82b_11ea_9450_40ec9983c6f0row2_col0\" class=\"data row2 col0\" >India</td>\n",
       "            </tr>\n",
       "            <tr>\n",
       "                                <td id=\"T_cf4ebbea_f82b_11ea_9450_40ec9983c6f0row3_col0\" class=\"data row3 col0\" >Canda</td>\n",
       "            </tr>\n",
       "    </tbody></table>"
      ],
      "text/plain": [
       "<pandas.io.formats.style.Styler at 0x2868636bf70>"
      ]
     },
     "metadata": {},
     "output_type": "display_data"
    }
   ],
   "source": [
    "# Don't RUN before you put your SQL Query\n",
    "distinctCountries= psql.read_sql(\"SELECT DISTINCT country from customer\", con)\n",
    "display(distinctCountries.style.hide_index())"
   ]
  },
  {
   "cell_type": "markdown",
   "metadata": {},
   "source": [
    "### Filtering the Results (Use the WHERE & AND)"
   ]
  },
  {
   "cell_type": "markdown",
   "metadata": {},
   "source": [
    "#### Get only the customers who have emails (filter out who don't have)"
   ]
  },
  {
   "cell_type": "code",
   "execution_count": 38,
   "metadata": {},
   "outputs": [
    {
     "data": {
      "text/html": [
       "<style  type=\"text/css\" >\n",
       "</style><table id=\"T_d64f4fa6_f82b_11ea_aa34_40ec9983c6f0\" ><thead>    <tr>        <th class=\"col_heading level0 col0\" >id</th>        <th class=\"col_heading level0 col1\" >name</th>        <th class=\"col_heading level0 col2\" >country</th>        <th class=\"col_heading level0 col3\" >email</th>    </tr></thead><tbody>\n",
       "                <tr>\n",
       "                                <td id=\"T_d64f4fa6_f82b_11ea_aa34_40ec9983c6f0row0_col0\" class=\"data row0 col0\" >1</td>\n",
       "                        <td id=\"T_d64f4fa6_f82b_11ea_aa34_40ec9983c6f0row0_col1\" class=\"data row0 col1\" >Mohamed Ragab</td>\n",
       "                        <td id=\"T_d64f4fa6_f82b_11ea_aa34_40ec9983c6f0row0_col2\" class=\"data row0 col2\" >Egypt</td>\n",
       "                        <td id=\"T_d64f4fa6_f82b_11ea_aa34_40ec9983c6f0row0_col3\" class=\"data row0 col3\" >mohamed.ragb@ut.ee</td>\n",
       "            </tr>\n",
       "            <tr>\n",
       "                                <td id=\"T_d64f4fa6_f82b_11ea_aa34_40ec9983c6f0row1_col0\" class=\"data row1 col0\" >2</td>\n",
       "                        <td id=\"T_d64f4fa6_f82b_11ea_aa34_40ec9983c6f0row1_col1\" class=\"data row1 col1\" >John Smith</td>\n",
       "                        <td id=\"T_d64f4fa6_f82b_11ea_aa34_40ec9983c6f0row1_col2\" class=\"data row1 col2\" >Finland</td>\n",
       "                        <td id=\"T_d64f4fa6_f82b_11ea_aa34_40ec9983c6f0row1_col3\" class=\"data row1 col3\" >j.smith@hotmail.com</td>\n",
       "            </tr>\n",
       "            <tr>\n",
       "                                <td id=\"T_d64f4fa6_f82b_11ea_aa34_40ec9983c6f0row2_col0\" class=\"data row2 col0\" >4</td>\n",
       "                        <td id=\"T_d64f4fa6_f82b_11ea_aa34_40ec9983c6f0row2_col1\" class=\"data row2 col1\" >Jean Lime</td>\n",
       "                        <td id=\"T_d64f4fa6_f82b_11ea_aa34_40ec9983c6f0row2_col2\" class=\"data row2 col2\" >Canda</td>\n",
       "                        <td id=\"T_d64f4fa6_f82b_11ea_aa34_40ec9983c6f0row2_col3\" class=\"data row2 col3\" >jeanlime@gmail.com</td>\n",
       "            </tr>\n",
       "    </tbody></table>"
      ],
      "text/plain": [
       "<pandas.io.formats.style.Styler at 0x2868636bac0>"
      ]
     },
     "metadata": {},
     "output_type": "display_data"
    }
   ],
   "source": [
    "customersWithEmails= psql.read_sql(\"SELECT * FROM customer WHERE email != ''  \", con)\n",
    "display(customersWithEmails.style.hide_index())"
   ]
  },
  {
   "cell_type": "markdown",
   "metadata": {},
   "source": [
    "#### Get customers who live in \"Egypt\""
   ]
  },
  {
   "cell_type": "code",
   "execution_count": 43,
   "metadata": {},
   "outputs": [
    {
     "data": {
      "text/html": [
       "<style  type=\"text/css\" >\n",
       "</style><table id=\"T_3512aec8_f82c_11ea_b8de_40ec9983c6f0\" ><thead>    <tr>        <th class=\"col_heading level0 col0\" >id</th>        <th class=\"col_heading level0 col1\" >name</th>        <th class=\"col_heading level0 col2\" >country</th>        <th class=\"col_heading level0 col3\" >email</th>    </tr></thead><tbody>\n",
       "                <tr>\n",
       "                                <td id=\"T_3512aec8_f82c_11ea_b8de_40ec9983c6f0row0_col0\" class=\"data row0 col0\" >1</td>\n",
       "                        <td id=\"T_3512aec8_f82c_11ea_b8de_40ec9983c6f0row0_col1\" class=\"data row0 col1\" >Mohamed Ragab</td>\n",
       "                        <td id=\"T_3512aec8_f82c_11ea_b8de_40ec9983c6f0row0_col2\" class=\"data row0 col2\" >Egypt</td>\n",
       "                        <td id=\"T_3512aec8_f82c_11ea_b8de_40ec9983c6f0row0_col3\" class=\"data row0 col3\" >mohamed.ragb@ut.ee</td>\n",
       "            </tr>\n",
       "            <tr>\n",
       "                                <td id=\"T_3512aec8_f82c_11ea_b8de_40ec9983c6f0row1_col0\" class=\"data row1 col0\" >5</td>\n",
       "                        <td id=\"T_3512aec8_f82c_11ea_b8de_40ec9983c6f0row1_col1\" class=\"data row1 col1\" >Hassan Eldeeb</td>\n",
       "                        <td id=\"T_3512aec8_f82c_11ea_b8de_40ec9983c6f0row1_col2\" class=\"data row1 col2\" >Egypt</td>\n",
       "                        <td id=\"T_3512aec8_f82c_11ea_b8de_40ec9983c6f0row1_col3\" class=\"data row1 col3\" >None</td>\n",
       "            </tr>\n",
       "    </tbody></table>"
      ],
      "text/plain": [
       "<pandas.io.formats.style.Styler at 0x2868636bc40>"
      ]
     },
     "metadata": {},
     "output_type": "display_data"
    }
   ],
   "source": [
    "# Don't RUN before you put your SQL Query\n",
    "theEgyptian= psql.read_sql(\"SELECT * FROM customer \"\n",
    "                           \"WHERE country='Egypt'  \", con)\n",
    "display(theEgyptian.style.hide_index())"
   ]
  },
  {
   "cell_type": "markdown",
   "metadata": {},
   "source": [
    "#### Get customers who are from Egypt and already have emails"
   ]
  },
  {
   "cell_type": "code",
   "execution_count": 71,
   "metadata": {},
   "outputs": [
    {
     "data": {
      "text/html": [
       "<style  type=\"text/css\" >\n",
       "</style><table id=\"T_6c414a78_f82d_11ea_8bf6_40ec9983c6f0\" ><thead>    <tr>        <th class=\"col_heading level0 col0\" >id</th>        <th class=\"col_heading level0 col1\" >name</th>        <th class=\"col_heading level0 col2\" >country</th>        <th class=\"col_heading level0 col3\" >email</th>    </tr></thead><tbody>\n",
       "                <tr>\n",
       "                                <td id=\"T_6c414a78_f82d_11ea_8bf6_40ec9983c6f0row0_col0\" class=\"data row0 col0\" >1</td>\n",
       "                        <td id=\"T_6c414a78_f82d_11ea_8bf6_40ec9983c6f0row0_col1\" class=\"data row0 col1\" >Mohamed Ragab</td>\n",
       "                        <td id=\"T_6c414a78_f82d_11ea_8bf6_40ec9983c6f0row0_col2\" class=\"data row0 col2\" >Egypt</td>\n",
       "                        <td id=\"T_6c414a78_f82d_11ea_8bf6_40ec9983c6f0row0_col3\" class=\"data row0 col3\" >mohamed.ragb@ut.ee</td>\n",
       "            </tr>\n",
       "    </tbody></table>"
      ],
      "text/plain": [
       "<pandas.io.formats.style.Styler at 0x2868636c5b0>"
      ]
     },
     "metadata": {},
     "output_type": "display_data"
    }
   ],
   "source": [
    "# Don't RUN before you put your SQL Query\n",
    "theEgyptianWithEmail= psql.read_sql(\"\"\"SELECT * FROM customer\n",
    "                                    WHERE country='Egypt'\n",
    "                                    AND email IS NOT NULL \"\"\", con)\n",
    "display(theEgyptianWithEmail.style.hide_index())"
   ]
  },
  {
   "cell_type": "markdown",
   "metadata": {},
   "source": [
    "#### Get customers who's name starts with Letter \"J\""
   ]
  },
  {
   "cell_type": "code",
   "execution_count": 46,
   "metadata": {},
   "outputs": [
    {
     "data": {
      "text/html": [
       "<style  type=\"text/css\" >\n",
       "</style><table id=\"T_4706a749_f82c_11ea_b2df_40ec9983c6f0\" ><thead>    <tr>        <th class=\"col_heading level0 col0\" >id</th>        <th class=\"col_heading level0 col1\" >name</th>        <th class=\"col_heading level0 col2\" >country</th>        <th class=\"col_heading level0 col3\" >email</th>    </tr></thead><tbody>\n",
       "                <tr>\n",
       "                                <td id=\"T_4706a749_f82c_11ea_b2df_40ec9983c6f0row0_col0\" class=\"data row0 col0\" >2</td>\n",
       "                        <td id=\"T_4706a749_f82c_11ea_b2df_40ec9983c6f0row0_col1\" class=\"data row0 col1\" >John Smith</td>\n",
       "                        <td id=\"T_4706a749_f82c_11ea_b2df_40ec9983c6f0row0_col2\" class=\"data row0 col2\" >Finland</td>\n",
       "                        <td id=\"T_4706a749_f82c_11ea_b2df_40ec9983c6f0row0_col3\" class=\"data row0 col3\" >j.smith@hotmail.com</td>\n",
       "            </tr>\n",
       "            <tr>\n",
       "                                <td id=\"T_4706a749_f82c_11ea_b2df_40ec9983c6f0row1_col0\" class=\"data row1 col0\" >4</td>\n",
       "                        <td id=\"T_4706a749_f82c_11ea_b2df_40ec9983c6f0row1_col1\" class=\"data row1 col1\" >Jean Lime</td>\n",
       "                        <td id=\"T_4706a749_f82c_11ea_b2df_40ec9983c6f0row1_col2\" class=\"data row1 col2\" >Canda</td>\n",
       "                        <td id=\"T_4706a749_f82c_11ea_b2df_40ec9983c6f0row1_col3\" class=\"data row1 col3\" >jeanlime@gmail.com</td>\n",
       "            </tr>\n",
       "    </tbody></table>"
      ],
      "text/plain": [
       "<pandas.io.formats.style.Styler at 0x2868636c820>"
      ]
     },
     "metadata": {},
     "output_type": "display_data"
    }
   ],
   "source": [
    "J_Customers= psql.read_sql(\"SELECT * FROM customer WHERE name LIKE 'J%' \", con)\n",
    "display(J_Customers.style.hide_index())"
   ]
  },
  {
   "cell_type": "markdown",
   "metadata": {},
   "source": [
    "### Pagination  in SQL, using \"LIMT\" and \"OFFSET\""
   ]
  },
  {
   "cell_type": "markdown",
   "metadata": {},
   "source": [
    "#### Get only the first 3 Customers from the customers table"
   ]
  },
  {
   "cell_type": "code",
   "execution_count": 53,
   "metadata": {},
   "outputs": [
    {
     "data": {
      "text/html": [
       "<style  type=\"text/css\" >\n",
       "</style><table id=\"T_9dc64832_f82c_11ea_af21_40ec9983c6f0\" ><thead>    <tr>        <th class=\"col_heading level0 col0\" >id</th>        <th class=\"col_heading level0 col1\" >name</th>        <th class=\"col_heading level0 col2\" >country</th>        <th class=\"col_heading level0 col3\" >email</th>    </tr></thead><tbody>\n",
       "                <tr>\n",
       "                                <td id=\"T_9dc64832_f82c_11ea_af21_40ec9983c6f0row0_col0\" class=\"data row0 col0\" >1</td>\n",
       "                        <td id=\"T_9dc64832_f82c_11ea_af21_40ec9983c6f0row0_col1\" class=\"data row0 col1\" >Mohamed Ragab</td>\n",
       "                        <td id=\"T_9dc64832_f82c_11ea_af21_40ec9983c6f0row0_col2\" class=\"data row0 col2\" >Egypt</td>\n",
       "                        <td id=\"T_9dc64832_f82c_11ea_af21_40ec9983c6f0row0_col3\" class=\"data row0 col3\" >mohamed.ragb@ut.ee</td>\n",
       "            </tr>\n",
       "            <tr>\n",
       "                                <td id=\"T_9dc64832_f82c_11ea_af21_40ec9983c6f0row1_col0\" class=\"data row1 col0\" >2</td>\n",
       "                        <td id=\"T_9dc64832_f82c_11ea_af21_40ec9983c6f0row1_col1\" class=\"data row1 col1\" >John Smith</td>\n",
       "                        <td id=\"T_9dc64832_f82c_11ea_af21_40ec9983c6f0row1_col2\" class=\"data row1 col2\" >Finland</td>\n",
       "                        <td id=\"T_9dc64832_f82c_11ea_af21_40ec9983c6f0row1_col3\" class=\"data row1 col3\" >j.smith@hotmail.com</td>\n",
       "            </tr>\n",
       "            <tr>\n",
       "                                <td id=\"T_9dc64832_f82c_11ea_af21_40ec9983c6f0row2_col0\" class=\"data row2 col0\" >3</td>\n",
       "                        <td id=\"T_9dc64832_f82c_11ea_af21_40ec9983c6f0row2_col1\" class=\"data row2 col1\" >Aisha Kareem</td>\n",
       "                        <td id=\"T_9dc64832_f82c_11ea_af21_40ec9983c6f0row2_col2\" class=\"data row2 col2\" >India</td>\n",
       "                        <td id=\"T_9dc64832_f82c_11ea_af21_40ec9983c6f0row2_col3\" class=\"data row2 col3\" >None</td>\n",
       "            </tr>\n",
       "    </tbody></table>"
      ],
      "text/plain": [
       "<pandas.io.formats.style.Styler at 0x2868636ca30>"
      ]
     },
     "metadata": {},
     "output_type": "display_data"
    }
   ],
   "source": [
    "first_3_Customers= psql.read_sql(\"SELECT * FROM customer LIMIT 3 \", con)\n",
    "display(first_3_Customers.style.hide_index())"
   ]
  },
  {
   "cell_type": "markdown",
   "metadata": {},
   "source": [
    "#### skipt the First 3 Customers and get the next 3 customers"
   ]
  },
  {
   "cell_type": "code",
   "execution_count": 54,
   "metadata": {},
   "outputs": [
    {
     "data": {
      "text/html": [
       "<style  type=\"text/css\" >\n",
       "</style><table id=\"T_a0760e44_f82c_11ea_9e72_40ec9983c6f0\" ><thead>    <tr>        <th class=\"col_heading level0 col0\" >id</th>        <th class=\"col_heading level0 col1\" >name</th>        <th class=\"col_heading level0 col2\" >country</th>        <th class=\"col_heading level0 col3\" >email</th>    </tr></thead><tbody>\n",
       "                <tr>\n",
       "                                <td id=\"T_a0760e44_f82c_11ea_9e72_40ec9983c6f0row0_col0\" class=\"data row0 col0\" >4</td>\n",
       "                        <td id=\"T_a0760e44_f82c_11ea_9e72_40ec9983c6f0row0_col1\" class=\"data row0 col1\" >Jean Lime</td>\n",
       "                        <td id=\"T_a0760e44_f82c_11ea_9e72_40ec9983c6f0row0_col2\" class=\"data row0 col2\" >Canda</td>\n",
       "                        <td id=\"T_a0760e44_f82c_11ea_9e72_40ec9983c6f0row0_col3\" class=\"data row0 col3\" >jeanlime@gmail.com</td>\n",
       "            </tr>\n",
       "            <tr>\n",
       "                                <td id=\"T_a0760e44_f82c_11ea_9e72_40ec9983c6f0row1_col0\" class=\"data row1 col0\" >5</td>\n",
       "                        <td id=\"T_a0760e44_f82c_11ea_9e72_40ec9983c6f0row1_col1\" class=\"data row1 col1\" >Hassan Eldeeb</td>\n",
       "                        <td id=\"T_a0760e44_f82c_11ea_9e72_40ec9983c6f0row1_col2\" class=\"data row1 col2\" >Egypt</td>\n",
       "                        <td id=\"T_a0760e44_f82c_11ea_9e72_40ec9983c6f0row1_col3\" class=\"data row1 col3\" >None</td>\n",
       "            </tr>\n",
       "    </tbody></table>"
      ],
      "text/plain": [
       "<pandas.io.formats.style.Styler at 0x286863692e0>"
      ]
     },
     "metadata": {},
     "output_type": "display_data"
    }
   ],
   "source": [
    "next_3_Customers= psql.read_sql(\"SELECT * FROM customer OFFSET 3 LIMIT 3 \", con)\n",
    "display(next_3_Customers.style.hide_index())"
   ]
  },
  {
   "cell_type": "markdown",
   "metadata": {},
   "source": [
    "#### Try another way to ge the same result of the previous cell\n",
    "- **Hint** : use OFFSET with FETCH FIRST"
   ]
  },
  {
   "cell_type": "code",
   "execution_count": 66,
   "metadata": {},
   "outputs": [
    {
     "data": {
      "text/html": [
       "<style  type=\"text/css\" >\n",
       "</style><table id=\"T_1164fce0_f82d_11ea_9a39_40ec9983c6f0\" ><thead>    <tr>        <th class=\"col_heading level0 col0\" >id</th>        <th class=\"col_heading level0 col1\" >name</th>        <th class=\"col_heading level0 col2\" >country</th>        <th class=\"col_heading level0 col3\" >email</th>    </tr></thead><tbody>\n",
       "                <tr>\n",
       "                                <td id=\"T_1164fce0_f82d_11ea_9a39_40ec9983c6f0row0_col0\" class=\"data row0 col0\" >4</td>\n",
       "                        <td id=\"T_1164fce0_f82d_11ea_9a39_40ec9983c6f0row0_col1\" class=\"data row0 col1\" >Jean Lime</td>\n",
       "                        <td id=\"T_1164fce0_f82d_11ea_9a39_40ec9983c6f0row0_col2\" class=\"data row0 col2\" >Canda</td>\n",
       "                        <td id=\"T_1164fce0_f82d_11ea_9a39_40ec9983c6f0row0_col3\" class=\"data row0 col3\" >jeanlime@gmail.com</td>\n",
       "            </tr>\n",
       "            <tr>\n",
       "                                <td id=\"T_1164fce0_f82d_11ea_9a39_40ec9983c6f0row1_col0\" class=\"data row1 col0\" >5</td>\n",
       "                        <td id=\"T_1164fce0_f82d_11ea_9a39_40ec9983c6f0row1_col1\" class=\"data row1 col1\" >Hassan Eldeeb</td>\n",
       "                        <td id=\"T_1164fce0_f82d_11ea_9a39_40ec9983c6f0row1_col2\" class=\"data row1 col2\" >Egypt</td>\n",
       "                        <td id=\"T_1164fce0_f82d_11ea_9a39_40ec9983c6f0row1_col3\" class=\"data row1 col3\" >None</td>\n",
       "            </tr>\n",
       "    </tbody></table>"
      ],
      "text/plain": [
       "<pandas.io.formats.style.Styler at 0x28686369cd0>"
      ]
     },
     "metadata": {},
     "output_type": "display_data"
    }
   ],
   "source": [
    "#OR you can do the same using the following Query\n",
    "# Don't RUN before you put your SQL Query\n",
    "next_3_Customers= psql.read_sql(\"SELECT * FROM customer OFFSET 3 FETCH FIRST 3 ROWS ONLY\", con)\n",
    "display(next_3_Customers.style.hide_index())"
   ]
  },
  {
   "cell_type": "markdown",
   "metadata": {},
   "source": [
    "## Let's have some statiscs and aggregations (SQL GROUP BY & aggregation functions)\n",
    "\n",
    "- The GROUP BY statement groups rows that have the same values into summary rows.\n",
    "- The GROUP BY statement is often used with aggregate functions (COUNT, MAX, MIN, SUM, AVG) to group the result-set by one or more columns.\n"
   ]
  },
  {
   "cell_type": "markdown",
   "metadata": {},
   "source": [
    "#### Get the count of  customers in your DB"
   ]
  },
  {
   "cell_type": "code",
   "execution_count": 68,
   "metadata": {},
   "outputs": [
    {
     "data": {
      "text/html": [
       "<style  type=\"text/css\" >\n",
       "</style><table id=\"T_51776f46_f82d_11ea_b785_40ec9983c6f0\" ><thead>    <tr>        <th class=\"col_heading level0 col0\" >count</th>    </tr></thead><tbody>\n",
       "                <tr>\n",
       "                                <td id=\"T_51776f46_f82d_11ea_b785_40ec9983c6f0row0_col0\" class=\"data row0 col0\" >5</td>\n",
       "            </tr>\n",
       "    </tbody></table>"
      ],
      "text/plain": [
       "<pandas.io.formats.style.Styler at 0x28686369880>"
      ]
     },
     "metadata": {},
     "output_type": "display_data"
    }
   ],
   "source": [
    "# Don't RUN before you put your SQL Query\n",
    "Customers_Cnt= psql.read_sql(\"SELECT COUNT(*) FROM customer\", con)\n",
    "display(Customers_Cnt.style.hide_index())"
   ]
  },
  {
   "cell_type": "markdown",
   "metadata": {},
   "source": [
    "#### Get the Distinct Countries and how many customers are in each country"
   ]
  },
  {
   "cell_type": "code",
   "execution_count": 69,
   "metadata": {},
   "outputs": [
    {
     "data": {
      "text/html": [
       "<style  type=\"text/css\" >\n",
       "</style><table id=\"T_5582a334_f82d_11ea_9819_40ec9983c6f0\" ><thead>    <tr>        <th class=\"col_heading level0 col0\" >country</th>        <th class=\"col_heading level0 col1\" >count</th>    </tr></thead><tbody>\n",
       "                <tr>\n",
       "                                <td id=\"T_5582a334_f82d_11ea_9819_40ec9983c6f0row0_col0\" class=\"data row0 col0\" >India</td>\n",
       "                        <td id=\"T_5582a334_f82d_11ea_9819_40ec9983c6f0row0_col1\" class=\"data row0 col1\" >1</td>\n",
       "            </tr>\n",
       "            <tr>\n",
       "                                <td id=\"T_5582a334_f82d_11ea_9819_40ec9983c6f0row1_col0\" class=\"data row1 col0\" >Canda</td>\n",
       "                        <td id=\"T_5582a334_f82d_11ea_9819_40ec9983c6f0row1_col1\" class=\"data row1 col1\" >1</td>\n",
       "            </tr>\n",
       "            <tr>\n",
       "                                <td id=\"T_5582a334_f82d_11ea_9819_40ec9983c6f0row2_col0\" class=\"data row2 col0\" >Finland</td>\n",
       "                        <td id=\"T_5582a334_f82d_11ea_9819_40ec9983c6f0row2_col1\" class=\"data row2 col1\" >1</td>\n",
       "            </tr>\n",
       "            <tr>\n",
       "                                <td id=\"T_5582a334_f82d_11ea_9819_40ec9983c6f0row3_col0\" class=\"data row3 col0\" >Egypt</td>\n",
       "                        <td id=\"T_5582a334_f82d_11ea_9819_40ec9983c6f0row3_col1\" class=\"data row3 col1\" >2</td>\n",
       "            </tr>\n",
       "    </tbody></table>"
      ],
      "text/plain": [
       "<pandas.io.formats.style.Styler at 0x28686369fd0>"
      ]
     },
     "metadata": {},
     "output_type": "display_data"
    }
   ],
   "source": [
    "Countries_Customers_Cnt= psql.read_sql(\"SELECT DISTINCT country , COUNT (*) FROM customer GROUP BY country\", con)\n",
    "display(Countries_Customers_Cnt.style.hide_index())"
   ]
  },
  {
   "cell_type": "markdown",
   "metadata": {},
   "source": [
    "#### Get the Distinct Countries and how many people are in each country, and filter the count to be greater than 1"
   ]
  },
  {
   "cell_type": "code",
   "execution_count": 70,
   "metadata": {},
   "outputs": [
    {
     "data": {
      "text/html": [
       "<style  type=\"text/css\" >\n",
       "</style><table id=\"T_58459bfa_f82d_11ea_8d1c_40ec9983c6f0\" ><thead>    <tr>        <th class=\"col_heading level0 col0\" >country</th>        <th class=\"col_heading level0 col1\" >count</th>    </tr></thead><tbody>\n",
       "                <tr>\n",
       "                                <td id=\"T_58459bfa_f82d_11ea_8d1c_40ec9983c6f0row0_col0\" class=\"data row0 col0\" >Egypt</td>\n",
       "                        <td id=\"T_58459bfa_f82d_11ea_8d1c_40ec9983c6f0row0_col1\" class=\"data row0 col1\" >2</td>\n",
       "            </tr>\n",
       "    </tbody></table>"
      ],
      "text/plain": [
       "<pandas.io.formats.style.Styler at 0x2868636cbe0>"
      ]
     },
     "metadata": {},
     "output_type": "display_data"
    }
   ],
   "source": [
    "### USE of HAVING with GROUP BY and Aggregation Functions\n",
    "Countries_Customers_Cnt_gt1= psql.read_sql(\"\"\"SELECT DISTINCT country , COUNT (*) \n",
    "                                          FROM customer \n",
    "                                          GROUP BY country \n",
    "                                          HAVING count(*)>1\n",
    "                                          \"\"\", con)\n",
    "display(Countries_Customers_Cnt_gt1.style.hide_index())"
   ]
  },
  {
   "cell_type": "markdown",
   "metadata": {},
   "source": [
    "##### Give an Alias for the count (change it to be Customers_number)"
   ]
  },
  {
   "cell_type": "code",
   "execution_count": 72,
   "metadata": {},
   "outputs": [
    {
     "data": {
      "text/html": [
       "<style  type=\"text/css\" >\n",
       "</style><table id=\"T_877e2ad4_f82d_11ea_a306_40ec9983c6f0\" ><thead>    <tr>        <th class=\"col_heading level0 col0\" >country</th>        <th class=\"col_heading level0 col1\" >Customers_number</th>    </tr></thead><tbody>\n",
       "                <tr>\n",
       "                                <td id=\"T_877e2ad4_f82d_11ea_a306_40ec9983c6f0row0_col0\" class=\"data row0 col0\" >Egypt</td>\n",
       "                        <td id=\"T_877e2ad4_f82d_11ea_a306_40ec9983c6f0row0_col1\" class=\"data row0 col1\" >2</td>\n",
       "            </tr>\n",
       "    </tbody></table>"
      ],
      "text/plain": [
       "<pandas.io.formats.style.Styler at 0x2868636b2e0>"
      ]
     },
     "metadata": {},
     "output_type": "display_data"
    }
   ],
   "source": [
    "# Don't RUN before you put your SQL Query\n",
    "Countries_Customers_Cnt_gt1= psql.read_sql(\n",
    "    \"\"\"SELECT DISTINCT country , COUNT (*) as \"Customers_number\"\n",
    "                                          FROM customer \n",
    "                                          GROUP BY country \n",
    "                                          HAVING count(*)>1\n",
    "                                          \"\"\", con)\n",
    "display(Countries_Customers_Cnt_gt1.style.hide_index())"
   ]
  },
  {
   "cell_type": "markdown",
   "metadata": {},
   "source": [
    "##### We're going to leave link here for more details about the other aggregate functions such as (MIN, MAX, SUM,...)\n",
    "PostgreSQL Aggregates: https://www.postgresql.org/docs/9.5/functions-aggregate.html"
   ]
  },
  {
   "cell_type": "markdown",
   "metadata": {},
   "source": [
    "### Let's Create the Second Table (Order)\n",
    "- ***Reminder: One-to-many*** relationship is handled as follows : Use a foreign key on the many side of the relationship linking back to the \"one\" side.\n",
    "- ***Note:*** Order is a reserved keyword in SQL, It's not recommended to use such keywords, but if you want to do so, we can use double quoutes \"\" arrount those keywords."
   ]
  },
  {
   "cell_type": "code",
   "execution_count": 73,
   "metadata": {},
   "outputs": [
    {
     "name": "stdout",
     "output_type": "stream",
     "text": [
      "Table (order) created successfully in PostgreSQL \n"
     ]
    }
   ],
   "source": [
    "#Create Order Table\n",
    "\n",
    "try:\n",
    "    ordersTable=\"order\"\n",
    "    create_ordersTable_query = '''CREATE TABLE \"'''+ ordersTable+'''\" \n",
    "              (id INT  PRIMARY KEY,\n",
    "               customer_id  INT  REFERENCES customer(id),\n",
    "               product      TEXT    NOT NULL\n",
    "               ); '''\n",
    "\n",
    "    \n",
    "    #Execute this command (SQL Query)\n",
    "    cursor.execute(create_ordersTable_query)\n",
    "    con.commit()\n",
    "    print(\"Table (\"+ ordersTable +\") created successfully in PostgreSQL \")\n",
    "except:\n",
    "    con.rollback()\n",
    "    print(\"Table (\"+ ordersTable +\") already Existed! \")"
   ]
  },
  {
   "cell_type": "markdown",
   "metadata": {},
   "source": [
    "#### Can we create this table (Order) before the (customer) table? (YES/NO, and Why)?!"
   ]
  },
  {
   "cell_type": "markdown",
   "metadata": {},
   "source": [
    "<font color='red'>***Answer:***</font> We need to have the customer_id reference to customer.id field."
   ]
  },
  {
   "cell_type": "markdown",
   "metadata": {},
   "source": [
    "#### Insert Some Data into the (Order) Table"
   ]
  },
  {
   "cell_type": "code",
   "execution_count": 74,
   "metadata": {},
   "outputs": [
    {
     "name": "stdout",
     "output_type": "stream",
     "text": [
      "6 Record inserted successfully into customers table\n"
     ]
    }
   ],
   "source": [
    "sql_insert_orders = '''INSERT INTO \"order\" (id,customer_id,product) VALUES(%s,%s,%s)'''\n",
    "\n",
    "#list of customers\n",
    "orders_List=[\n",
    "        (1,1, \"Coffee - Irish Cream\"),\n",
    "        (2,1, \"Sauce - Demi Glace\"),\n",
    "        (3,2,\"Corn Meal\"),\n",
    "        (4,1,\"Cumin - Whole\"),\n",
    "        (5,3,\"Chocolate - Sugar Free Semi Choc\"),\n",
    "        (6,4,\"Rolled Oats\")]\n",
    "try:\n",
    "    # execute the INSERT statement\n",
    "    cursor.executemany(sql_insert_orders,orders_List)\n",
    "    # commit the changes to the database\n",
    "    con.commit()\n",
    "\n",
    "except (Exception, psycopg2.Error) as error :\n",
    "    con.rollback()\n",
    "    print (\"Error while exccuting the query at PostgreSQL\",error)\n",
    "    \n",
    "finally:\n",
    "    \n",
    "    count = cursor.rowcount\n",
    "    print (count, \"Record inserted successfully into customers table\")"
   ]
  },
  {
   "cell_type": "markdown",
   "metadata": {},
   "source": [
    "## Bring Data from multiple Tables (SQL JOINS)"
   ]
  },
  {
   "cell_type": "markdown",
   "metadata": {},
   "source": [
    "#### What are SQL Joins?\n",
    "\n",
    "An SQL JOIN clause combines rows from two or more tables. It creates a set of rows in a temporary table. "
   ]
  },
  {
   "cell_type": "markdown",
   "metadata": {},
   "source": [
    "#### How to Join two tables in SQL?\n",
    "- A JOIN works on two or more tables if they have at least one common field and have a relationship between them.\n",
    "\n",
    "- JOIN keeps the base tables (structure and data) unchanged."
   ]
  },
  {
   "cell_type": "markdown",
   "metadata": {},
   "source": [
    "#### Looking only at \"order\" Table, we don't know names (or any further details of the csuomers)\n",
    "- Here'is the role of JOINS Comes to the Scene :) "
   ]
  },
  {
   "cell_type": "code",
   "execution_count": 75,
   "metadata": {},
   "outputs": [
    {
     "data": {
      "text/html": [
       "<style  type=\"text/css\" >\n",
       "</style><table id=\"T_bbe4527a_f82d_11ea_9205_40ec9983c6f0\" ><thead>    <tr>        <th class=\"col_heading level0 col0\" >id</th>        <th class=\"col_heading level0 col1\" >customer_id</th>        <th class=\"col_heading level0 col2\" >product</th>    </tr></thead><tbody>\n",
       "                <tr>\n",
       "                                <td id=\"T_bbe4527a_f82d_11ea_9205_40ec9983c6f0row0_col0\" class=\"data row0 col0\" >1</td>\n",
       "                        <td id=\"T_bbe4527a_f82d_11ea_9205_40ec9983c6f0row0_col1\" class=\"data row0 col1\" >1</td>\n",
       "                        <td id=\"T_bbe4527a_f82d_11ea_9205_40ec9983c6f0row0_col2\" class=\"data row0 col2\" >Coffee - Irish Cream</td>\n",
       "            </tr>\n",
       "            <tr>\n",
       "                                <td id=\"T_bbe4527a_f82d_11ea_9205_40ec9983c6f0row1_col0\" class=\"data row1 col0\" >2</td>\n",
       "                        <td id=\"T_bbe4527a_f82d_11ea_9205_40ec9983c6f0row1_col1\" class=\"data row1 col1\" >1</td>\n",
       "                        <td id=\"T_bbe4527a_f82d_11ea_9205_40ec9983c6f0row1_col2\" class=\"data row1 col2\" >Sauce - Demi Glace</td>\n",
       "            </tr>\n",
       "            <tr>\n",
       "                                <td id=\"T_bbe4527a_f82d_11ea_9205_40ec9983c6f0row2_col0\" class=\"data row2 col0\" >3</td>\n",
       "                        <td id=\"T_bbe4527a_f82d_11ea_9205_40ec9983c6f0row2_col1\" class=\"data row2 col1\" >2</td>\n",
       "                        <td id=\"T_bbe4527a_f82d_11ea_9205_40ec9983c6f0row2_col2\" class=\"data row2 col2\" >Corn Meal</td>\n",
       "            </tr>\n",
       "            <tr>\n",
       "                                <td id=\"T_bbe4527a_f82d_11ea_9205_40ec9983c6f0row3_col0\" class=\"data row3 col0\" >4</td>\n",
       "                        <td id=\"T_bbe4527a_f82d_11ea_9205_40ec9983c6f0row3_col1\" class=\"data row3 col1\" >1</td>\n",
       "                        <td id=\"T_bbe4527a_f82d_11ea_9205_40ec9983c6f0row3_col2\" class=\"data row3 col2\" >Cumin - Whole</td>\n",
       "            </tr>\n",
       "            <tr>\n",
       "                                <td id=\"T_bbe4527a_f82d_11ea_9205_40ec9983c6f0row4_col0\" class=\"data row4 col0\" >5</td>\n",
       "                        <td id=\"T_bbe4527a_f82d_11ea_9205_40ec9983c6f0row4_col1\" class=\"data row4 col1\" >3</td>\n",
       "                        <td id=\"T_bbe4527a_f82d_11ea_9205_40ec9983c6f0row4_col2\" class=\"data row4 col2\" >Chocolate - Sugar Free Semi Choc</td>\n",
       "            </tr>\n",
       "            <tr>\n",
       "                                <td id=\"T_bbe4527a_f82d_11ea_9205_40ec9983c6f0row5_col0\" class=\"data row5 col0\" >6</td>\n",
       "                        <td id=\"T_bbe4527a_f82d_11ea_9205_40ec9983c6f0row5_col1\" class=\"data row5 col1\" >4</td>\n",
       "                        <td id=\"T_bbe4527a_f82d_11ea_9205_40ec9983c6f0row5_col2\" class=\"data row5 col2\" >Rolled Oats</td>\n",
       "            </tr>\n",
       "    </tbody></table>"
      ],
      "text/plain": [
       "<pandas.io.formats.style.Styler at 0x286863e9400>"
      ]
     },
     "metadata": {},
     "output_type": "display_data"
    }
   ],
   "source": [
    "orders= psql.read_sql('''SELECT * FROM \"order\" ''', con)\n",
    "display(orders.style.hide_index())"
   ]
  },
  {
   "cell_type": "markdown",
   "metadata": {},
   "source": [
    "#### INNER JOIN\n",
    "\n",
    "- The SQL INNER JOIN is similar to the Set intersection.\n",
    "- INNER JOIN selects rows from table1 and table2 where they match the selecting column.\n"
   ]
  },
  {
   "cell_type": "code",
   "execution_count": 76,
   "metadata": {},
   "outputs": [
    {
     "data": {
      "text/html": [
       "<div>\n",
       "<style scoped>\n",
       "    .dataframe tbody tr th:only-of-type {\n",
       "        vertical-align: middle;\n",
       "    }\n",
       "\n",
       "    .dataframe tbody tr th {\n",
       "        vertical-align: top;\n",
       "    }\n",
       "\n",
       "    .dataframe thead th {\n",
       "        text-align: right;\n",
       "    }\n",
       "</style>\n",
       "<table border=\"1\" class=\"dataframe\">\n",
       "  <thead>\n",
       "    <tr style=\"text-align: right;\">\n",
       "      <th></th>\n",
       "      <th>id</th>\n",
       "      <th>name</th>\n",
       "      <th>country</th>\n",
       "      <th>email</th>\n",
       "      <th>id</th>\n",
       "      <th>customer_id</th>\n",
       "      <th>product</th>\n",
       "    </tr>\n",
       "  </thead>\n",
       "  <tbody>\n",
       "    <tr>\n",
       "      <th>0</th>\n",
       "      <td>1</td>\n",
       "      <td>Mohamed Ragab</td>\n",
       "      <td>Egypt</td>\n",
       "      <td>mohamed.ragb@ut.ee</td>\n",
       "      <td>1</td>\n",
       "      <td>1</td>\n",
       "      <td>Coffee - Irish Cream</td>\n",
       "    </tr>\n",
       "    <tr>\n",
       "      <th>1</th>\n",
       "      <td>1</td>\n",
       "      <td>Mohamed Ragab</td>\n",
       "      <td>Egypt</td>\n",
       "      <td>mohamed.ragb@ut.ee</td>\n",
       "      <td>2</td>\n",
       "      <td>1</td>\n",
       "      <td>Sauce - Demi Glace</td>\n",
       "    </tr>\n",
       "    <tr>\n",
       "      <th>2</th>\n",
       "      <td>1</td>\n",
       "      <td>Mohamed Ragab</td>\n",
       "      <td>Egypt</td>\n",
       "      <td>mohamed.ragb@ut.ee</td>\n",
       "      <td>4</td>\n",
       "      <td>1</td>\n",
       "      <td>Cumin - Whole</td>\n",
       "    </tr>\n",
       "    <tr>\n",
       "      <th>3</th>\n",
       "      <td>2</td>\n",
       "      <td>John Smith</td>\n",
       "      <td>Finland</td>\n",
       "      <td>j.smith@hotmail.com</td>\n",
       "      <td>3</td>\n",
       "      <td>2</td>\n",
       "      <td>Corn Meal</td>\n",
       "    </tr>\n",
       "    <tr>\n",
       "      <th>4</th>\n",
       "      <td>4</td>\n",
       "      <td>Jean Lime</td>\n",
       "      <td>Canda</td>\n",
       "      <td>jeanlime@gmail.com</td>\n",
       "      <td>6</td>\n",
       "      <td>4</td>\n",
       "      <td>Rolled Oats</td>\n",
       "    </tr>\n",
       "    <tr>\n",
       "      <th>5</th>\n",
       "      <td>3</td>\n",
       "      <td>Aisha Kareem</td>\n",
       "      <td>India</td>\n",
       "      <td>None</td>\n",
       "      <td>5</td>\n",
       "      <td>3</td>\n",
       "      <td>Chocolate - Sugar Free Semi Choc</td>\n",
       "    </tr>\n",
       "  </tbody>\n",
       "</table>\n",
       "</div>"
      ],
      "text/plain": [
       "   id           name  country                email  id  customer_id  \\\n",
       "0   1  Mohamed Ragab    Egypt   mohamed.ragb@ut.ee   1            1   \n",
       "1   1  Mohamed Ragab    Egypt   mohamed.ragb@ut.ee   2            1   \n",
       "2   1  Mohamed Ragab    Egypt   mohamed.ragb@ut.ee   4            1   \n",
       "3   2     John Smith  Finland  j.smith@hotmail.com   3            2   \n",
       "4   4      Jean Lime    Canda   jeanlime@gmail.com   6            4   \n",
       "5   3   Aisha Kareem    India                 None   5            3   \n",
       "\n",
       "                            product  \n",
       "0              Coffee - Irish Cream  \n",
       "1                Sauce - Demi Glace  \n",
       "2                     Cumin - Whole  \n",
       "3                         Corn Meal  \n",
       "4                       Rolled Oats  \n",
       "5  Chocolate - Sugar Free Semi Choc  "
      ]
     },
     "metadata": {},
     "output_type": "display_data"
    }
   ],
   "source": [
    "innerJoined= psql.read_sql(\"\"\"SELECT * FROM customer \n",
    "                              INNER JOIN  \"order\" \n",
    "                              ON customer.id = \"order\".customer_id\n",
    "                              ORDER BY name DESC\n",
    "                      \"\"\", con)\n",
    "display(innerJoined)"
   ]
  },
  {
   "cell_type": "markdown",
   "metadata": {},
   "source": [
    "#### If it's Confusing Just show the name and the product"
   ]
  },
  {
   "cell_type": "code",
   "execution_count": 79,
   "metadata": {},
   "outputs": [
    {
     "data": {
      "text/html": [
       "<div>\n",
       "<style scoped>\n",
       "    .dataframe tbody tr th:only-of-type {\n",
       "        vertical-align: middle;\n",
       "    }\n",
       "\n",
       "    .dataframe tbody tr th {\n",
       "        vertical-align: top;\n",
       "    }\n",
       "\n",
       "    .dataframe thead th {\n",
       "        text-align: right;\n",
       "    }\n",
       "</style>\n",
       "<table border=\"1\" class=\"dataframe\">\n",
       "  <thead>\n",
       "    <tr style=\"text-align: right;\">\n",
       "      <th></th>\n",
       "      <th>name</th>\n",
       "      <th>product</th>\n",
       "    </tr>\n",
       "  </thead>\n",
       "  <tbody>\n",
       "    <tr>\n",
       "      <th>0</th>\n",
       "      <td>Mohamed Ragab</td>\n",
       "      <td>Coffee - Irish Cream</td>\n",
       "    </tr>\n",
       "    <tr>\n",
       "      <th>1</th>\n",
       "      <td>Mohamed Ragab</td>\n",
       "      <td>Sauce - Demi Glace</td>\n",
       "    </tr>\n",
       "    <tr>\n",
       "      <th>2</th>\n",
       "      <td>Mohamed Ragab</td>\n",
       "      <td>Cumin - Whole</td>\n",
       "    </tr>\n",
       "    <tr>\n",
       "      <th>3</th>\n",
       "      <td>John Smith</td>\n",
       "      <td>Corn Meal</td>\n",
       "    </tr>\n",
       "    <tr>\n",
       "      <th>4</th>\n",
       "      <td>Jean Lime</td>\n",
       "      <td>Rolled Oats</td>\n",
       "    </tr>\n",
       "    <tr>\n",
       "      <th>5</th>\n",
       "      <td>Aisha Kareem</td>\n",
       "      <td>Chocolate - Sugar Free Semi Choc</td>\n",
       "    </tr>\n",
       "  </tbody>\n",
       "</table>\n",
       "</div>"
      ],
      "text/plain": [
       "            name                           product\n",
       "0  Mohamed Ragab              Coffee - Irish Cream\n",
       "1  Mohamed Ragab                Sauce - Demi Glace\n",
       "2  Mohamed Ragab                     Cumin - Whole\n",
       "3     John Smith                         Corn Meal\n",
       "4      Jean Lime                       Rolled Oats\n",
       "5   Aisha Kareem  Chocolate - Sugar Free Semi Choc"
      ]
     },
     "metadata": {},
     "output_type": "display_data"
    }
   ],
   "source": [
    "innerJoined= psql.read_sql(\"\"\" SELECT C.name, O.product\n",
    "FROM customer C \n",
    "INNER JOIN \"order\" O ON (C.id = O.customer_id)\n",
    "ORDER BY name DESC\"\"\", con)\n",
    "display(innerJoined)"
   ]
  },
  {
   "cell_type": "markdown",
   "metadata": {},
   "source": [
    "###  LEFT JOIN\n",
    "\n",
    "- This selects all rows from the table1 ( on the left), the rows from the  table2 (on the right) if they match.\n",
    "- If they don’t match, the data for the right table is blank (NULLS)."
   ]
  },
  {
   "cell_type": "markdown",
   "metadata": {},
   "source": [
    "#### Get all the customers with Orders details, even get customers who don't made orderes \n",
    "- Other way to say! Get all the customers, and Products , and if the customer didn't order product the product will be blank"
   ]
  },
  {
   "cell_type": "code",
   "execution_count": 80,
   "metadata": {},
   "outputs": [
    {
     "data": {
      "text/html": [
       "<div>\n",
       "<style scoped>\n",
       "    .dataframe tbody tr th:only-of-type {\n",
       "        vertical-align: middle;\n",
       "    }\n",
       "\n",
       "    .dataframe tbody tr th {\n",
       "        vertical-align: top;\n",
       "    }\n",
       "\n",
       "    .dataframe thead th {\n",
       "        text-align: right;\n",
       "    }\n",
       "</style>\n",
       "<table border=\"1\" class=\"dataframe\">\n",
       "  <thead>\n",
       "    <tr style=\"text-align: right;\">\n",
       "      <th></th>\n",
       "      <th>id</th>\n",
       "      <th>name</th>\n",
       "      <th>country</th>\n",
       "      <th>email</th>\n",
       "      <th>id</th>\n",
       "      <th>customer_id</th>\n",
       "      <th>product</th>\n",
       "    </tr>\n",
       "  </thead>\n",
       "  <tbody>\n",
       "    <tr>\n",
       "      <th>0</th>\n",
       "      <td>1</td>\n",
       "      <td>Mohamed Ragab</td>\n",
       "      <td>Egypt</td>\n",
       "      <td>mohamed.ragb@ut.ee</td>\n",
       "      <td>4.0</td>\n",
       "      <td>1.0</td>\n",
       "      <td>Cumin - Whole</td>\n",
       "    </tr>\n",
       "    <tr>\n",
       "      <th>1</th>\n",
       "      <td>1</td>\n",
       "      <td>Mohamed Ragab</td>\n",
       "      <td>Egypt</td>\n",
       "      <td>mohamed.ragb@ut.ee</td>\n",
       "      <td>2.0</td>\n",
       "      <td>1.0</td>\n",
       "      <td>Sauce - Demi Glace</td>\n",
       "    </tr>\n",
       "    <tr>\n",
       "      <th>2</th>\n",
       "      <td>1</td>\n",
       "      <td>Mohamed Ragab</td>\n",
       "      <td>Egypt</td>\n",
       "      <td>mohamed.ragb@ut.ee</td>\n",
       "      <td>1.0</td>\n",
       "      <td>1.0</td>\n",
       "      <td>Coffee - Irish Cream</td>\n",
       "    </tr>\n",
       "    <tr>\n",
       "      <th>3</th>\n",
       "      <td>2</td>\n",
       "      <td>John Smith</td>\n",
       "      <td>Finland</td>\n",
       "      <td>j.smith@hotmail.com</td>\n",
       "      <td>3.0</td>\n",
       "      <td>2.0</td>\n",
       "      <td>Corn Meal</td>\n",
       "    </tr>\n",
       "    <tr>\n",
       "      <th>4</th>\n",
       "      <td>4</td>\n",
       "      <td>Jean Lime</td>\n",
       "      <td>Canda</td>\n",
       "      <td>jeanlime@gmail.com</td>\n",
       "      <td>6.0</td>\n",
       "      <td>4.0</td>\n",
       "      <td>Rolled Oats</td>\n",
       "    </tr>\n",
       "    <tr>\n",
       "      <th>5</th>\n",
       "      <td>5</td>\n",
       "      <td>Hassan Eldeeb</td>\n",
       "      <td>Egypt</td>\n",
       "      <td>None</td>\n",
       "      <td>NaN</td>\n",
       "      <td>NaN</td>\n",
       "      <td>None</td>\n",
       "    </tr>\n",
       "    <tr>\n",
       "      <th>6</th>\n",
       "      <td>3</td>\n",
       "      <td>Aisha Kareem</td>\n",
       "      <td>India</td>\n",
       "      <td>None</td>\n",
       "      <td>5.0</td>\n",
       "      <td>3.0</td>\n",
       "      <td>Chocolate - Sugar Free Semi Choc</td>\n",
       "    </tr>\n",
       "  </tbody>\n",
       "</table>\n",
       "</div>"
      ],
      "text/plain": [
       "   id           name  country                email   id  customer_id  \\\n",
       "0   1  Mohamed Ragab    Egypt   mohamed.ragb@ut.ee  4.0          1.0   \n",
       "1   1  Mohamed Ragab    Egypt   mohamed.ragb@ut.ee  2.0          1.0   \n",
       "2   1  Mohamed Ragab    Egypt   mohamed.ragb@ut.ee  1.0          1.0   \n",
       "3   2     John Smith  Finland  j.smith@hotmail.com  3.0          2.0   \n",
       "4   4      Jean Lime    Canda   jeanlime@gmail.com  6.0          4.0   \n",
       "5   5  Hassan Eldeeb    Egypt                 None  NaN          NaN   \n",
       "6   3   Aisha Kareem    India                 None  5.0          3.0   \n",
       "\n",
       "                            product  \n",
       "0                     Cumin - Whole  \n",
       "1                Sauce - Demi Glace  \n",
       "2              Coffee - Irish Cream  \n",
       "3                         Corn Meal  \n",
       "4                       Rolled Oats  \n",
       "5                              None  \n",
       "6  Chocolate - Sugar Free Semi Choc  "
      ]
     },
     "metadata": {},
     "output_type": "display_data"
    }
   ],
   "source": [
    "leftJoined= psql.read_sql(\"\"\"SELECT *  FROM customer \n",
    "                        LEFT JOIN  \"order\" \n",
    "                        ON customer.id = \"order\".customer_id\n",
    "                        ORDER BY name DESC\n",
    "                      \"\"\", con)\n",
    "display(leftJoined)"
   ]
  },
  {
   "cell_type": "markdown",
   "metadata": {},
   "source": [
    "#### perform the same query but projecting on customer_name and the products "
   ]
  },
  {
   "cell_type": "code",
   "execution_count": 81,
   "metadata": {},
   "outputs": [
    {
     "data": {
      "text/html": [
       "<div>\n",
       "<style scoped>\n",
       "    .dataframe tbody tr th:only-of-type {\n",
       "        vertical-align: middle;\n",
       "    }\n",
       "\n",
       "    .dataframe tbody tr th {\n",
       "        vertical-align: top;\n",
       "    }\n",
       "\n",
       "    .dataframe thead th {\n",
       "        text-align: right;\n",
       "    }\n",
       "</style>\n",
       "<table border=\"1\" class=\"dataframe\">\n",
       "  <thead>\n",
       "    <tr style=\"text-align: right;\">\n",
       "      <th></th>\n",
       "      <th>name</th>\n",
       "      <th>product</th>\n",
       "    </tr>\n",
       "  </thead>\n",
       "  <tbody>\n",
       "    <tr>\n",
       "      <th>0</th>\n",
       "      <td>Mohamed Ragab</td>\n",
       "      <td>Cumin - Whole</td>\n",
       "    </tr>\n",
       "    <tr>\n",
       "      <th>1</th>\n",
       "      <td>Mohamed Ragab</td>\n",
       "      <td>Sauce - Demi Glace</td>\n",
       "    </tr>\n",
       "    <tr>\n",
       "      <th>2</th>\n",
       "      <td>Mohamed Ragab</td>\n",
       "      <td>Coffee - Irish Cream</td>\n",
       "    </tr>\n",
       "    <tr>\n",
       "      <th>3</th>\n",
       "      <td>John Smith</td>\n",
       "      <td>Corn Meal</td>\n",
       "    </tr>\n",
       "    <tr>\n",
       "      <th>4</th>\n",
       "      <td>Jean Lime</td>\n",
       "      <td>Rolled Oats</td>\n",
       "    </tr>\n",
       "    <tr>\n",
       "      <th>5</th>\n",
       "      <td>Hassan Eldeeb</td>\n",
       "      <td>None</td>\n",
       "    </tr>\n",
       "    <tr>\n",
       "      <th>6</th>\n",
       "      <td>Aisha Kareem</td>\n",
       "      <td>Chocolate - Sugar Free Semi Choc</td>\n",
       "    </tr>\n",
       "  </tbody>\n",
       "</table>\n",
       "</div>"
      ],
      "text/plain": [
       "            name                           product\n",
       "0  Mohamed Ragab                     Cumin - Whole\n",
       "1  Mohamed Ragab                Sauce - Demi Glace\n",
       "2  Mohamed Ragab              Coffee - Irish Cream\n",
       "3     John Smith                         Corn Meal\n",
       "4      Jean Lime                       Rolled Oats\n",
       "5  Hassan Eldeeb                              None\n",
       "6   Aisha Kareem  Chocolate - Sugar Free Semi Choc"
      ]
     },
     "metadata": {},
     "output_type": "display_data"
    }
   ],
   "source": [
    "#the same query but projecting on customer_name  and the products \n",
    "leftJoined= psql.read_sql(\"\"\"SELECT name, product FROM customer \n",
    "                        LEFT JOIN  \"order\" \n",
    "                        ON customer.id = \"order\".customer_id\n",
    "                        ORDER BY name DESC\n",
    "                      \"\"\", con)\n",
    "display(leftJoined)"
   ]
  },
  {
   "cell_type": "markdown",
   "metadata": {},
   "source": [
    "### RIGHT JOIN\n",
    "- Opposite to LEFT JOIN\n",
    "- This selects all the rows from the table on the right, and then rows from the left if they match.\n",
    "- If they don’t match, the data for the table on the left is blank (NULLS).\n"
   ]
  },
  {
   "cell_type": "markdown",
   "metadata": {},
   "source": [
    "##### Now, we insert one product that doen't have customer to buy (don't make alot of sense, but just for the example!!)"
   ]
  },
  {
   "cell_type": "code",
   "execution_count": 82,
   "metadata": {},
   "outputs": [
    {
     "name": "stdout",
     "output_type": "stream",
     "text": [
      "1 Record inserted successfully into person table\n"
     ]
    }
   ],
   "source": [
    "postgres_insert_query = \"\"\" INSERT INTO \"order\" (id,customer_id,product) VALUES (%s,%s,%s)\"\"\"\n",
    "record_to_insert = (7,None,'Dark Choclate')\n",
    "\n",
    "try:\n",
    "    cursor.execute(postgres_insert_query, record_to_insert)\n",
    "    con.commit()\n",
    "except (Exception, psycopg2.Error) as error :\n",
    "    con.rollback()\n",
    "    print(\"ERROR\",error)\n",
    "    \n",
    "count = cursor.rowcount\n",
    "print (count, \"Record inserted successfully into person table\")"
   ]
  },
  {
   "cell_type": "markdown",
   "metadata": {},
   "source": [
    "#### Perform the same query but projecting on customer_name and the products "
   ]
  },
  {
   "cell_type": "code",
   "execution_count": 83,
   "metadata": {},
   "outputs": [
    {
     "data": {
      "text/html": [
       "<div>\n",
       "<style scoped>\n",
       "    .dataframe tbody tr th:only-of-type {\n",
       "        vertical-align: middle;\n",
       "    }\n",
       "\n",
       "    .dataframe tbody tr th {\n",
       "        vertical-align: top;\n",
       "    }\n",
       "\n",
       "    .dataframe thead th {\n",
       "        text-align: right;\n",
       "    }\n",
       "</style>\n",
       "<table border=\"1\" class=\"dataframe\">\n",
       "  <thead>\n",
       "    <tr style=\"text-align: right;\">\n",
       "      <th></th>\n",
       "      <th>name</th>\n",
       "      <th>product</th>\n",
       "    </tr>\n",
       "  </thead>\n",
       "  <tbody>\n",
       "    <tr>\n",
       "      <th>0</th>\n",
       "      <td>None</td>\n",
       "      <td>Dark Choclate</td>\n",
       "    </tr>\n",
       "    <tr>\n",
       "      <th>1</th>\n",
       "      <td>Mohamed Ragab</td>\n",
       "      <td>Sauce - Demi Glace</td>\n",
       "    </tr>\n",
       "    <tr>\n",
       "      <th>2</th>\n",
       "      <td>Mohamed Ragab</td>\n",
       "      <td>Coffee - Irish Cream</td>\n",
       "    </tr>\n",
       "    <tr>\n",
       "      <th>3</th>\n",
       "      <td>Mohamed Ragab</td>\n",
       "      <td>Cumin - Whole</td>\n",
       "    </tr>\n",
       "    <tr>\n",
       "      <th>4</th>\n",
       "      <td>John Smith</td>\n",
       "      <td>Corn Meal</td>\n",
       "    </tr>\n",
       "    <tr>\n",
       "      <th>5</th>\n",
       "      <td>Jean Lime</td>\n",
       "      <td>Rolled Oats</td>\n",
       "    </tr>\n",
       "    <tr>\n",
       "      <th>6</th>\n",
       "      <td>Aisha Kareem</td>\n",
       "      <td>Chocolate - Sugar Free Semi Choc</td>\n",
       "    </tr>\n",
       "  </tbody>\n",
       "</table>\n",
       "</div>"
      ],
      "text/plain": [
       "            name                           product\n",
       "0           None                     Dark Choclate\n",
       "1  Mohamed Ragab                Sauce - Demi Glace\n",
       "2  Mohamed Ragab              Coffee - Irish Cream\n",
       "3  Mohamed Ragab                     Cumin - Whole\n",
       "4     John Smith                         Corn Meal\n",
       "5      Jean Lime                       Rolled Oats\n",
       "6   Aisha Kareem  Chocolate - Sugar Free Semi Choc"
      ]
     },
     "metadata": {},
     "output_type": "display_data"
    }
   ],
   "source": [
    "RightJoined= psql.read_sql(\"\"\"SELECT name, product FROM customer \n",
    "                        RIGHT JOIN  \"order\" \n",
    "                        ON customer.id = \"order\".customer_id\n",
    "                        ORDER BY name DESC\n",
    "                      \"\"\", con)\n",
    "display(RightJoined)"
   ]
  },
  {
   "cell_type": "markdown",
   "metadata": {},
   "source": [
    "### FULL JOIN\n",
    "- This selects all rows from both tables, matching them if there is a match on the selecting column.\n",
    "\n",
    "- Think of it as a LEFT and a RIGHT join.\n"
   ]
  },
  {
   "cell_type": "code",
   "execution_count": 84,
   "metadata": {},
   "outputs": [
    {
     "data": {
      "text/html": [
       "<div>\n",
       "<style scoped>\n",
       "    .dataframe tbody tr th:only-of-type {\n",
       "        vertical-align: middle;\n",
       "    }\n",
       "\n",
       "    .dataframe tbody tr th {\n",
       "        vertical-align: top;\n",
       "    }\n",
       "\n",
       "    .dataframe thead th {\n",
       "        text-align: right;\n",
       "    }\n",
       "</style>\n",
       "<table border=\"1\" class=\"dataframe\">\n",
       "  <thead>\n",
       "    <tr style=\"text-align: right;\">\n",
       "      <th></th>\n",
       "      <th>name</th>\n",
       "      <th>product</th>\n",
       "    </tr>\n",
       "  </thead>\n",
       "  <tbody>\n",
       "    <tr>\n",
       "      <th>0</th>\n",
       "      <td>None</td>\n",
       "      <td>Dark Choclate</td>\n",
       "    </tr>\n",
       "    <tr>\n",
       "      <th>1</th>\n",
       "      <td>Mohamed Ragab</td>\n",
       "      <td>Sauce - Demi Glace</td>\n",
       "    </tr>\n",
       "    <tr>\n",
       "      <th>2</th>\n",
       "      <td>Mohamed Ragab</td>\n",
       "      <td>Cumin - Whole</td>\n",
       "    </tr>\n",
       "    <tr>\n",
       "      <th>3</th>\n",
       "      <td>Mohamed Ragab</td>\n",
       "      <td>Coffee - Irish Cream</td>\n",
       "    </tr>\n",
       "    <tr>\n",
       "      <th>4</th>\n",
       "      <td>John Smith</td>\n",
       "      <td>Corn Meal</td>\n",
       "    </tr>\n",
       "    <tr>\n",
       "      <th>5</th>\n",
       "      <td>Jean Lime</td>\n",
       "      <td>Rolled Oats</td>\n",
       "    </tr>\n",
       "    <tr>\n",
       "      <th>6</th>\n",
       "      <td>Hassan Eldeeb</td>\n",
       "      <td>None</td>\n",
       "    </tr>\n",
       "    <tr>\n",
       "      <th>7</th>\n",
       "      <td>Aisha Kareem</td>\n",
       "      <td>Chocolate - Sugar Free Semi Choc</td>\n",
       "    </tr>\n",
       "  </tbody>\n",
       "</table>\n",
       "</div>"
      ],
      "text/plain": [
       "            name                           product\n",
       "0           None                     Dark Choclate\n",
       "1  Mohamed Ragab                Sauce - Demi Glace\n",
       "2  Mohamed Ragab                     Cumin - Whole\n",
       "3  Mohamed Ragab              Coffee - Irish Cream\n",
       "4     John Smith                         Corn Meal\n",
       "5      Jean Lime                       Rolled Oats\n",
       "6  Hassan Eldeeb                              None\n",
       "7   Aisha Kareem  Chocolate - Sugar Free Semi Choc"
      ]
     },
     "metadata": {},
     "output_type": "display_data"
    }
   ],
   "source": [
    "fullJoined= psql.read_sql(\"\"\"SELECT name, product FROM customer \n",
    "                             FULL JOIN  \"order\" \n",
    "                             ON customer.id = \"order\".customer_id\n",
    "                             ORDER BY name DESC \"\"\", con)\n",
    "display(fullJoined)"
   ]
  },
  {
   "cell_type": "markdown",
   "metadata": {},
   "source": [
    "## Task 2: Create another RDB model (MovieDB)\n",
    "\n",
    "This is another DB about movies and actors who played roles in these movies. Particularly, this DB is consisted of the following tables:  \n",
    "\n",
    "- A ***\"Person\"*** table who has a unique **id**, and another **name** field.\n",
    "- Another ***\"Movie\"*** table that has a unique **id**, a **title**, a **country** where it was made, and a **year** when it was released.\n",
    "\n",
    "- There is (***m-n**) or ***\"many-many\"** relationship between these two tables (i.e basically, many actors can act in many movies, and the movie include many actors).\n",
    "- ***Many-to-many*** are handeled as follows: We have to use a ***junction table** (<font color='green'>example</font>: https://gist.github.com/anonymous/79c2eed2a634777b16ff)\n",
    "- Therefore, we use the **\"Roles\"** table in which we can deduct which person has acted in which movie, and what role(s) they played in this movie.\n"
   ]
  },
  {
   "cell_type": "markdown",
   "metadata": {},
   "source": [
    "#### Use one of the drawing tools to plot an ER model of this described DB\n",
    "- you can use the mentioned ER diagramitic tool in lecture slides (link: https://erdplus.com/)"
   ]
  },
  {
   "attachments": {
    "image.png": {
     "image/png": "[encoded data removed]"
    }
   },
   "cell_type": "markdown",
   "metadata": {},
   "source": [
    "##### <font color='red'>YOUR DB SCHEMA IMAGE HERE: </font> ![image.png](attachment:image.png)"
   ]
  },
  {
   "cell_type": "markdown",
   "metadata": {},
   "source": [
    "#### Create the MovieDB "
   ]
  },
  {
   "cell_type": "code",
   "execution_count": 94,
   "metadata": {},
   "outputs": [
    {
     "name": "stdout",
     "output_type": "stream",
     "text": [
      "Error While Creating the DB:  database \"moviedb\" already exists\n",
      "\n"
     ]
    }
   ],
   "source": [
    "name_Database = \"MovieDB\";\n",
    "\n",
    "sqlCreateDatabase = \"CREATE DATABASE \"+name_Database+\";\"\n",
    "\n",
    "try:\n",
    "    # Execute a SQL command: this creates a new DB\n",
    "    cursor.execute(sqlCreateDatabase);\n",
    "    print(\"Database '\"+name_Database+\"' Created Successfully!\")\n",
    "except (Exception, psycopg2.Error) as error :\n",
    "    print(\"Error While Creating the DB: \",error)"
   ]
  },
  {
   "cell_type": "code",
   "execution_count": 190,
   "metadata": {},
   "outputs": [
    {
     "ename": "TypeError",
     "evalue": "'NoneType' object is not iterable",
     "output_type": "error",
     "traceback": [
      "\u001b[1;31m---------------------------------------------------------------------------\u001b[0m",
      "\u001b[1;31mTypeError\u001b[0m                                 Traceback (most recent call last)",
      "\u001b[1;32m<ipython-input-190-0876717be1c7>\u001b[0m in \u001b[0;36m<module>\u001b[1;34m\u001b[0m\n\u001b[1;32m----> 1\u001b[1;33m \u001b[0mpsql\u001b[0m\u001b[1;33m.\u001b[0m\u001b[0mread_sql\u001b[0m\u001b[1;33m(\u001b[0m\u001b[1;34m\"DROP TABLE person\"\u001b[0m\u001b[1;33m,\u001b[0m \u001b[0mcon\u001b[0m\u001b[1;33m)\u001b[0m\u001b[1;33m\u001b[0m\u001b[1;33m\u001b[0m\u001b[0m\n\u001b[0m",
      "\u001b[1;32mC:\\ProgramData\\Anaconda3\\lib\\site-packages\\pandas\\io\\sql.py\u001b[0m in \u001b[0;36mread_sql\u001b[1;34m(sql, con, index_col, coerce_float, params, parse_dates, columns, chunksize)\u001b[0m\n\u001b[0;32m    404\u001b[0m \u001b[1;33m\u001b[0m\u001b[0m\n\u001b[0;32m    405\u001b[0m     \u001b[1;32mif\u001b[0m \u001b[0misinstance\u001b[0m\u001b[1;33m(\u001b[0m\u001b[0mpandas_sql\u001b[0m\u001b[1;33m,\u001b[0m \u001b[0mSQLiteDatabase\u001b[0m\u001b[1;33m)\u001b[0m\u001b[1;33m:\u001b[0m\u001b[1;33m\u001b[0m\u001b[1;33m\u001b[0m\u001b[0m\n\u001b[1;32m--> 406\u001b[1;33m         return pandas_sql.read_query(\n\u001b[0m\u001b[0;32m    407\u001b[0m             \u001b[0msql\u001b[0m\u001b[1;33m,\u001b[0m\u001b[1;33m\u001b[0m\u001b[1;33m\u001b[0m\u001b[0m\n\u001b[0;32m    408\u001b[0m             \u001b[0mindex_col\u001b[0m\u001b[1;33m=\u001b[0m\u001b[0mindex_col\u001b[0m\u001b[1;33m,\u001b[0m\u001b[1;33m\u001b[0m\u001b[1;33m\u001b[0m\u001b[0m\n",
      "\u001b[1;32mC:\\ProgramData\\Anaconda3\\lib\\site-packages\\pandas\\io\\sql.py\u001b[0m in \u001b[0;36mread_query\u001b[1;34m(self, sql, index_col, coerce_float, params, parse_dates, chunksize)\u001b[0m\n\u001b[0;32m   1632\u001b[0m         \u001b[0margs\u001b[0m \u001b[1;33m=\u001b[0m \u001b[0m_convert_params\u001b[0m\u001b[1;33m(\u001b[0m\u001b[0msql\u001b[0m\u001b[1;33m,\u001b[0m \u001b[0mparams\u001b[0m\u001b[1;33m)\u001b[0m\u001b[1;33m\u001b[0m\u001b[1;33m\u001b[0m\u001b[0m\n\u001b[0;32m   1633\u001b[0m         \u001b[0mcursor\u001b[0m \u001b[1;33m=\u001b[0m \u001b[0mself\u001b[0m\u001b[1;33m.\u001b[0m\u001b[0mexecute\u001b[0m\u001b[1;33m(\u001b[0m\u001b[1;33m*\u001b[0m\u001b[0margs\u001b[0m\u001b[1;33m)\u001b[0m\u001b[1;33m\u001b[0m\u001b[1;33m\u001b[0m\u001b[0m\n\u001b[1;32m-> 1634\u001b[1;33m         \u001b[0mcolumns\u001b[0m \u001b[1;33m=\u001b[0m \u001b[1;33m[\u001b[0m\u001b[0mcol_desc\u001b[0m\u001b[1;33m[\u001b[0m\u001b[1;36m0\u001b[0m\u001b[1;33m]\u001b[0m \u001b[1;32mfor\u001b[0m \u001b[0mcol_desc\u001b[0m \u001b[1;32min\u001b[0m \u001b[0mcursor\u001b[0m\u001b[1;33m.\u001b[0m\u001b[0mdescription\u001b[0m\u001b[1;33m]\u001b[0m\u001b[1;33m\u001b[0m\u001b[1;33m\u001b[0m\u001b[0m\n\u001b[0m\u001b[0;32m   1635\u001b[0m \u001b[1;33m\u001b[0m\u001b[0m\n\u001b[0;32m   1636\u001b[0m         \u001b[1;32mif\u001b[0m \u001b[0mchunksize\u001b[0m \u001b[1;32mis\u001b[0m \u001b[1;32mnot\u001b[0m \u001b[1;32mNone\u001b[0m\u001b[1;33m:\u001b[0m\u001b[1;33m\u001b[0m\u001b[1;33m\u001b[0m\u001b[0m\n",
      "\u001b[1;31mTypeError\u001b[0m: 'NoneType' object is not iterable"
     ]
    }
   ],
   "source": [
    "psql.read_sql(\"DROP TABLE person\", con)"
   ]
  },
  {
   "cell_type": "markdown",
   "metadata": {},
   "source": [
    "#### Creating  the Movie Table"
   ]
  },
  {
   "cell_type": "code",
   "execution_count": 191,
   "metadata": {},
   "outputs": [
    {
     "name": "stdout",
     "output_type": "stream",
     "text": [
      "Table (movie) created successfully in PostgreSQL \n"
     ]
    }
   ],
   "source": [
    "try:\n",
    "    MovieTable=\"movie\"\n",
    "    create_m_query = '''CREATE TABLE '''+ MovieTable+''' \n",
    "              (id INT  PRIMARY KEY     NOT NULL,\n",
    "               title           TEXT    ,\n",
    "               country        TEXT    ,\n",
    "               year          INT   \n",
    "               ); '''\n",
    "\n",
    "    #Execute this command (SQL Query)\n",
    "    cursor.execute(create_m_query)\n",
    "    \n",
    "    # Make the changes to the database persistent\n",
    "    con.commit()\n",
    "    print(\"Table (\"+ MovieTable +\") created successfully in PostgreSQL \")\n",
    "except (Exception, psycopg2.Error) as error:\n",
    "    # if it exits with an exception the transaction is rolled back.\n",
    "    con.rollback()\n",
    "    print(\"Error While Creating the DB: \",error)\n"
   ]
  },
  {
   "cell_type": "markdown",
   "metadata": {},
   "source": [
    "#### Creating  the \"Person\" Table"
   ]
  },
  {
   "cell_type": "code",
   "execution_count": 192,
   "metadata": {},
   "outputs": [
    {
     "name": "stdout",
     "output_type": "stream",
     "text": [
      "Table (person) created successfully in PostgreSQL \n"
     ]
    }
   ],
   "source": [
    "try:\n",
    "    Table=\"person\"\n",
    "    create_query = '''CREATE TABLE '''+ Table+''' \n",
    "              (id INT  PRIMARY KEY     NOT NULL,\n",
    "               name           TEXT      \n",
    "               ); '''\n",
    "\n",
    "    #Execute this command (SQL Query)\n",
    "    cursor.execute(create_query)\n",
    "    \n",
    "    # Make the changes to the database persistent\n",
    "    con.commit()\n",
    "    print(\"Table (\"+ Table +\") created successfully in PostgreSQL \")\n",
    "except (Exception, psycopg2.Error) as error:\n",
    "    # if it exits with an exception the transaction is rolled back.\n",
    "    con.rollback()\n",
    "    print(\"Error While Creating the DB: \",error)\n"
   ]
  },
  {
   "cell_type": "markdown",
   "metadata": {},
   "source": [
    "#### Creating  the \"Roles\" relationship Table"
   ]
  },
  {
   "cell_type": "code",
   "execution_count": 193,
   "metadata": {},
   "outputs": [
    {
     "name": "stdout",
     "output_type": "stream",
     "text": [
      "Table (roles) created successfully in PostgreSQL \n"
     ]
    }
   ],
   "source": [
    "try:\n",
    "    Table=\"roles\"\n",
    "    create_query = '''CREATE TABLE '''+ Table+''' \n",
    "              (movie_id INT  REFERENCES movie(id),\n",
    "               person_id INT REFERENCES person(id),\n",
    "               role TEXT\n",
    "               ); '''\n",
    "\n",
    "    #Execute this command (SQL Query)\n",
    "    cursor.execute(create_query)\n",
    "    \n",
    "    # Make the changes to the database persistent\n",
    "    con.commit()\n",
    "    print(\"Table (\"+ Table +\") created successfully in PostgreSQL \")\n",
    "except (Exception, psycopg2.Error) as error:\n",
    "    # if it exits with an exception the transaction is rolled back.\n",
    "    con.rollback()\n",
    "    print(\"Error While Creating the DB: \",error)"
   ]
  },
  {
   "cell_type": "markdown",
   "metadata": {},
   "source": [
    "### Data Insertions\n",
    "\n",
    "Please, use the following demo datasets for allocating some data in the tables\n",
    "\n",
    "- **Person Table**:\n",
    "        id,name\n",
    "        1,Charlie Sheen\n",
    "        2,Michael Douglas\n",
    "        3,Martin Sheen\n",
    "        4,Morgan Freeman\n",
    "\n",
    "- ***Movie Table***:\n",
    "        id,title,country,year\n",
    "        1,Wall Street,USA,1987\n",
    "        2,The American President,USA,1995\n",
    "        3,The Shawshank Redemption,USA,1994\n",
    "\n",
    "- ***Roles Relationship*** (<font color='green'>Conjunction Table</font>):\n",
    "        personId,movieId,role\n",
    "        1,1,Bud Fox\n",
    "        2,1,Carl Fox\n",
    "        3,1,Gordon Gekko\n",
    "        2,2,A.J. MacInerney\n",
    "        3,2,President Andrew Shepherd\n",
    "        4,3,Ellis Boyd 'Red' Redding"
   ]
  },
  {
   "cell_type": "markdown",
   "metadata": {},
   "source": [
    "#### Insert Data to the Person Table"
   ]
  },
  {
   "cell_type": "code",
   "execution_count": 194,
   "metadata": {},
   "outputs": [
    {
     "name": "stdout",
     "output_type": "stream",
     "text": [
      "Successfully added  4 new records\n"
     ]
    }
   ],
   "source": [
    "sql_insert = \"INSERT INTO person (id,name) VALUES(%s,%s)\"\n",
    "\n",
    "List=[\n",
    "  (1,\"Charlie Sheen\"),\n",
    "  (2,\"Michael Douglas\"),\n",
    "  (3,\"Martin Sheen\"),\n",
    "  (4,\"Morgan Freeman\")]\n",
    "\n",
    "try:\n",
    "    cursor.executemany(sql_insert,List)\n",
    "    con.commit()\n",
    "    count = cursor.rowcount\n",
    "    print (\"Successfully added \", count, \"new records\")\n",
    "\n",
    "except (Exception, psycopg2.Error) as error :\n",
    "    con.rollback()\n",
    "    print (\"Error while Inserting the data to the table, Details: \",error)"
   ]
  },
  {
   "cell_type": "markdown",
   "metadata": {},
   "source": [
    "#### Insert Data to the Movie Table"
   ]
  },
  {
   "cell_type": "code",
   "execution_count": 195,
   "metadata": {},
   "outputs": [
    {
     "name": "stdout",
     "output_type": "stream",
     "text": [
      "Successfully added  3 new records\n"
     ]
    }
   ],
   "source": [
    "sql_insert = \"INSERT INTO movie (id, title, country, year) VALUES(%s,%s,%s,%s)\"\n",
    "\n",
    "List=[\n",
    "  (1,\"Wall Street\",\"USA\",1987),\n",
    "  (2,\"The American President\",\"USA\",1995),\n",
    "  (3,\"The Shawshank Redemption\",\"USA\",1994)]\n",
    "\n",
    "try:\n",
    "    cursor.executemany(sql_insert,List)\n",
    "    con.commit()\n",
    "    count = cursor.rowcount\n",
    "    print (\"Successfully added \", count, \"new records\")\n",
    "\n",
    "except (Exception, psycopg2.Error) as error :\n",
    "    con.rollback()\n",
    "    print (\"Error while Inserting the data to the table, Details: \",error)"
   ]
  },
  {
   "cell_type": "markdown",
   "metadata": {},
   "source": [
    "#### Insert Data to the Roles Table"
   ]
  },
  {
   "cell_type": "code",
   "execution_count": 196,
   "metadata": {},
   "outputs": [
    {
     "name": "stdout",
     "output_type": "stream",
     "text": [
      "Successfully added  6 new records\n"
     ]
    }
   ],
   "source": [
    "sql_insert = \"INSERT INTO roles (person_id, movie_id, role) VALUES(%s,%s,%s)\"\n",
    "\n",
    "List=[\n",
    "  (1,1,\"Bud Fox\"),\n",
    "  (2,1,\"Carl Fox\"),\n",
    "  (3,1,\"Gordon Gekko\"),\n",
    "  (2,2,\"A.J. MacInerney\"),\n",
    "  (3,2,\"President Andrew Shepherd\"),\n",
    "  (4,3,\"Ellis Boyd 'Red' Redding\")]\n",
    "\n",
    "try:\n",
    "    cursor.executemany(sql_insert,List)\n",
    "    con.commit()\n",
    "    count = cursor.rowcount\n",
    "    print (\"Successfully added \", count, \"new records\")\n",
    "\n",
    "except (Exception, psycopg2.Error) as error :\n",
    "    con.rollback()\n",
    "    print (\"Error while Inserting the data to the table, Details: \",error)"
   ]
  },
  {
   "cell_type": "markdown",
   "metadata": {},
   "source": [
    "#### Get all Actors (Persons) from the movie DB"
   ]
  },
  {
   "cell_type": "code",
   "execution_count": 197,
   "metadata": {},
   "outputs": [
    {
     "data": {
      "text/html": [
       "<style  type=\"text/css\" >\n",
       "</style><table id=\"T_c7367980_f83b_11ea_847a_40ec9983c6f0\" ><thead>    <tr>        <th class=\"col_heading level0 col0\" >name</th>    </tr></thead><tbody>\n",
       "                <tr>\n",
       "                                <td id=\"T_c7367980_f83b_11ea_847a_40ec9983c6f0row0_col0\" class=\"data row0 col0\" >Morgan Freeman</td>\n",
       "            </tr>\n",
       "            <tr>\n",
       "                                <td id=\"T_c7367980_f83b_11ea_847a_40ec9983c6f0row1_col0\" class=\"data row1 col0\" >Martin Sheen</td>\n",
       "            </tr>\n",
       "            <tr>\n",
       "                                <td id=\"T_c7367980_f83b_11ea_847a_40ec9983c6f0row2_col0\" class=\"data row2 col0\" >Michael Douglas</td>\n",
       "            </tr>\n",
       "            <tr>\n",
       "                                <td id=\"T_c7367980_f83b_11ea_847a_40ec9983c6f0row3_col0\" class=\"data row3 col0\" >Charlie Sheen</td>\n",
       "            </tr>\n",
       "    </tbody></table>"
      ],
      "text/plain": [
       "<pandas.io.formats.style.Styler at 0x286872b6b80>"
      ]
     },
     "metadata": {},
     "output_type": "display_data"
    }
   ],
   "source": [
    "my_table= pd.read_sql(\"\"\"SELECT DISTINCT name FROM person\"\"\", con)\n",
    "display(my_table.style.hide_index())"
   ]
  },
  {
   "cell_type": "markdown",
   "metadata": {},
   "source": [
    "#### Get All Movies , sorted from recent to old"
   ]
  },
  {
   "cell_type": "code",
   "execution_count": 198,
   "metadata": {},
   "outputs": [
    {
     "data": {
      "text/html": [
       "<style  type=\"text/css\" >\n",
       "</style><table id=\"T_c871be31_f83b_11ea_8cfb_40ec9983c6f0\" ><thead>    <tr>        <th class=\"col_heading level0 col0\" >title</th>        <th class=\"col_heading level0 col1\" >year</th>    </tr></thead><tbody>\n",
       "                <tr>\n",
       "                                <td id=\"T_c871be31_f83b_11ea_8cfb_40ec9983c6f0row0_col0\" class=\"data row0 col0\" >The American President</td>\n",
       "                        <td id=\"T_c871be31_f83b_11ea_8cfb_40ec9983c6f0row0_col1\" class=\"data row0 col1\" >1995</td>\n",
       "            </tr>\n",
       "            <tr>\n",
       "                                <td id=\"T_c871be31_f83b_11ea_8cfb_40ec9983c6f0row1_col0\" class=\"data row1 col0\" >The Shawshank Redemption</td>\n",
       "                        <td id=\"T_c871be31_f83b_11ea_8cfb_40ec9983c6f0row1_col1\" class=\"data row1 col1\" >1994</td>\n",
       "            </tr>\n",
       "            <tr>\n",
       "                                <td id=\"T_c871be31_f83b_11ea_8cfb_40ec9983c6f0row2_col0\" class=\"data row2 col0\" >Wall Street</td>\n",
       "                        <td id=\"T_c871be31_f83b_11ea_8cfb_40ec9983c6f0row2_col1\" class=\"data row2 col1\" >1987</td>\n",
       "            </tr>\n",
       "    </tbody></table>"
      ],
      "text/plain": [
       "<pandas.io.formats.style.Styler at 0x28687856ac0>"
      ]
     },
     "metadata": {},
     "output_type": "display_data"
    }
   ],
   "source": [
    "moviesOrdered = pd.read_sql(''' SELECT DISTINCT title, year FROM movie ORDER BY year DESC''', con)\n",
    "display(moviesOrdered.style.hide_index())"
   ]
  },
  {
   "cell_type": "markdown",
   "metadata": {},
   "source": [
    "#### Get All Movies released in the 90s (after year (1990) and before 2000) ordered from old to recent."
   ]
  },
  {
   "cell_type": "code",
   "execution_count": 221,
   "metadata": {},
   "outputs": [
    {
     "data": {
      "text/html": [
       "<style  type=\"text/css\" >\n",
       "</style><table id=\"T_66c029f5_f83e_11ea_a51a_40ec9983c6f0\" ><thead>    <tr>        <th class=\"col_heading level0 col0\" >id</th>        <th class=\"col_heading level0 col1\" >title</th>        <th class=\"col_heading level0 col2\" >country</th>        <th class=\"col_heading level0 col3\" >year</th>        <th class=\"col_heading level0 col4\" >tagline</th>    </tr></thead><tbody>\n",
       "                <tr>\n",
       "                                <td id=\"T_66c029f5_f83e_11ea_a51a_40ec9983c6f0row0_col0\" class=\"data row0 col0\" >4</td>\n",
       "                        <td id=\"T_66c029f5_f83e_11ea_a51a_40ec9983c6f0row0_col1\" class=\"data row0 col1\" >The Matrix</td>\n",
       "                        <td id=\"T_66c029f5_f83e_11ea_a51a_40ec9983c6f0row0_col2\" class=\"data row0 col2\" >None</td>\n",
       "                        <td id=\"T_66c029f5_f83e_11ea_a51a_40ec9983c6f0row0_col3\" class=\"data row0 col3\" >1999</td>\n",
       "                        <td id=\"T_66c029f5_f83e_11ea_a51a_40ec9983c6f0row0_col4\" class=\"data row0 col4\" >Welcome to the Real World</td>\n",
       "            </tr>\n",
       "            <tr>\n",
       "                                <td id=\"T_66c029f5_f83e_11ea_a51a_40ec9983c6f0row1_col0\" class=\"data row1 col0\" >2</td>\n",
       "                        <td id=\"T_66c029f5_f83e_11ea_a51a_40ec9983c6f0row1_col1\" class=\"data row1 col1\" >The American President</td>\n",
       "                        <td id=\"T_66c029f5_f83e_11ea_a51a_40ec9983c6f0row1_col2\" class=\"data row1 col2\" >USA</td>\n",
       "                        <td id=\"T_66c029f5_f83e_11ea_a51a_40ec9983c6f0row1_col3\" class=\"data row1 col3\" >1995</td>\n",
       "                        <td id=\"T_66c029f5_f83e_11ea_a51a_40ec9983c6f0row1_col4\" class=\"data row1 col4\" >None</td>\n",
       "            </tr>\n",
       "            <tr>\n",
       "                                <td id=\"T_66c029f5_f83e_11ea_a51a_40ec9983c6f0row2_col0\" class=\"data row2 col0\" >3</td>\n",
       "                        <td id=\"T_66c029f5_f83e_11ea_a51a_40ec9983c6f0row2_col1\" class=\"data row2 col1\" >The Shawshank Redemption</td>\n",
       "                        <td id=\"T_66c029f5_f83e_11ea_a51a_40ec9983c6f0row2_col2\" class=\"data row2 col2\" >USA</td>\n",
       "                        <td id=\"T_66c029f5_f83e_11ea_a51a_40ec9983c6f0row2_col3\" class=\"data row2 col3\" >1994</td>\n",
       "                        <td id=\"T_66c029f5_f83e_11ea_a51a_40ec9983c6f0row2_col4\" class=\"data row2 col4\" >None</td>\n",
       "            </tr>\n",
       "    </tbody></table>"
      ],
      "text/plain": [
       "<pandas.io.formats.style.Styler at 0x28687876c70>"
      ]
     },
     "metadata": {},
     "output_type": "display_data"
    }
   ],
   "source": [
    "movies90 = pd.read_sql(''' SELECT * FROM movie WHERE year between 1991 and 1999 ORDER BY year DESC  ''', con)\n",
    "display(movies90.style.hide_index())"
   ]
  },
  {
   "cell_type": "markdown",
   "metadata": {},
   "source": [
    "#### Get Movies and Actors from your  \"movies\" DB"
   ]
  },
  {
   "cell_type": "code",
   "execution_count": 200,
   "metadata": {},
   "outputs": [
    {
     "data": {
      "text/html": [
       "<style  type=\"text/css\" >\n",
       "</style><table id=\"T_cac555bb_f83b_11ea_af14_40ec9983c6f0\" ><thead>    <tr>        <th class=\"col_heading level0 col0\" >name</th>        <th class=\"col_heading level0 col1\" >title</th>    </tr></thead><tbody>\n",
       "                <tr>\n",
       "                                <td id=\"T_cac555bb_f83b_11ea_af14_40ec9983c6f0row0_col0\" class=\"data row0 col0\" >Charlie Sheen</td>\n",
       "                        <td id=\"T_cac555bb_f83b_11ea_af14_40ec9983c6f0row0_col1\" class=\"data row0 col1\" >Wall Street</td>\n",
       "            </tr>\n",
       "            <tr>\n",
       "                                <td id=\"T_cac555bb_f83b_11ea_af14_40ec9983c6f0row1_col0\" class=\"data row1 col0\" >Michael Douglas</td>\n",
       "                        <td id=\"T_cac555bb_f83b_11ea_af14_40ec9983c6f0row1_col1\" class=\"data row1 col1\" >Wall Street</td>\n",
       "            </tr>\n",
       "            <tr>\n",
       "                                <td id=\"T_cac555bb_f83b_11ea_af14_40ec9983c6f0row2_col0\" class=\"data row2 col0\" >Martin Sheen</td>\n",
       "                        <td id=\"T_cac555bb_f83b_11ea_af14_40ec9983c6f0row2_col1\" class=\"data row2 col1\" >Wall Street</td>\n",
       "            </tr>\n",
       "            <tr>\n",
       "                                <td id=\"T_cac555bb_f83b_11ea_af14_40ec9983c6f0row3_col0\" class=\"data row3 col0\" >Michael Douglas</td>\n",
       "                        <td id=\"T_cac555bb_f83b_11ea_af14_40ec9983c6f0row3_col1\" class=\"data row3 col1\" >The American President</td>\n",
       "            </tr>\n",
       "            <tr>\n",
       "                                <td id=\"T_cac555bb_f83b_11ea_af14_40ec9983c6f0row4_col0\" class=\"data row4 col0\" >Martin Sheen</td>\n",
       "                        <td id=\"T_cac555bb_f83b_11ea_af14_40ec9983c6f0row4_col1\" class=\"data row4 col1\" >The American President</td>\n",
       "            </tr>\n",
       "            <tr>\n",
       "                                <td id=\"T_cac555bb_f83b_11ea_af14_40ec9983c6f0row5_col0\" class=\"data row5 col0\" >Morgan Freeman</td>\n",
       "                        <td id=\"T_cac555bb_f83b_11ea_af14_40ec9983c6f0row5_col1\" class=\"data row5 col1\" >The Shawshank Redemption</td>\n",
       "            </tr>\n",
       "    </tbody></table>"
      ],
      "text/plain": [
       "<pandas.io.formats.style.Styler at 0x286872b67c0>"
      ]
     },
     "metadata": {},
     "output_type": "display_data"
    }
   ],
   "source": [
    "moviesActors = pd.read_sql(''' SELECT p.name, m.title\n",
    "FROM person p \n",
    "INNER JOIN roles r ON (p.id = r.person_id)\n",
    "INNER JOIN movie m ON (r.movie_id = m.id)''', con)\n",
    "\n",
    "display(moviesActors.style.hide_index())"
   ]
  },
  {
   "cell_type": "markdown",
   "metadata": {},
   "source": [
    "#### Get count of \"Movies\" in your DB"
   ]
  },
  {
   "cell_type": "code",
   "execution_count": 201,
   "metadata": {},
   "outputs": [
    {
     "data": {
      "text/html": [
       "<style  type=\"text/css\" >\n",
       "</style><table id=\"T_ccad21ba_f83b_11ea_9862_40ec9983c6f0\" ><thead>    <tr>        <th class=\"col_heading level0 col0\" >count</th>    </tr></thead><tbody>\n",
       "                <tr>\n",
       "                                <td id=\"T_ccad21ba_f83b_11ea_9862_40ec9983c6f0row0_col0\" class=\"data row0 col0\" >3</td>\n",
       "            </tr>\n",
       "    </tbody></table>"
      ],
      "text/plain": [
       "<pandas.io.formats.style.Styler at 0x286872ab730>"
      ]
     },
     "metadata": {},
     "output_type": "display_data"
    }
   ],
   "source": [
    "count_table= pd.read_sql('SELECT COUNT(*) FROM movie ', con)\n",
    "display(count_table.style.hide_index())"
   ]
  },
  {
   "cell_type": "markdown",
   "metadata": {},
   "source": [
    "#### In this DB, for every \"Actor\" get the number of movies he played"
   ]
  },
  {
   "cell_type": "code",
   "execution_count": 202,
   "metadata": {},
   "outputs": [
    {
     "data": {
      "text/html": [
       "<style  type=\"text/css\" >\n",
       "</style><table id=\"T_cf3cdd3b_f83b_11ea_9c5f_40ec9983c6f0\" ><thead>    <tr>        <th class=\"col_heading level0 col0\" >name</th>        <th class=\"col_heading level0 col1\" >Nbr of movies</th>    </tr></thead><tbody>\n",
       "                <tr>\n",
       "                                <td id=\"T_cf3cdd3b_f83b_11ea_9c5f_40ec9983c6f0row0_col0\" class=\"data row0 col0\" >Morgan Freeman</td>\n",
       "                        <td id=\"T_cf3cdd3b_f83b_11ea_9c5f_40ec9983c6f0row0_col1\" class=\"data row0 col1\" >1</td>\n",
       "            </tr>\n",
       "            <tr>\n",
       "                                <td id=\"T_cf3cdd3b_f83b_11ea_9c5f_40ec9983c6f0row1_col0\" class=\"data row1 col0\" >Martin Sheen</td>\n",
       "                        <td id=\"T_cf3cdd3b_f83b_11ea_9c5f_40ec9983c6f0row1_col1\" class=\"data row1 col1\" >2</td>\n",
       "            </tr>\n",
       "            <tr>\n",
       "                                <td id=\"T_cf3cdd3b_f83b_11ea_9c5f_40ec9983c6f0row2_col0\" class=\"data row2 col0\" >Michael Douglas</td>\n",
       "                        <td id=\"T_cf3cdd3b_f83b_11ea_9c5f_40ec9983c6f0row2_col1\" class=\"data row2 col1\" >2</td>\n",
       "            </tr>\n",
       "            <tr>\n",
       "                                <td id=\"T_cf3cdd3b_f83b_11ea_9c5f_40ec9983c6f0row3_col0\" class=\"data row3 col0\" >Charlie Sheen</td>\n",
       "                        <td id=\"T_cf3cdd3b_f83b_11ea_9c5f_40ec9983c6f0row3_col1\" class=\"data row3 col1\" >1</td>\n",
       "            </tr>\n",
       "    </tbody></table>"
      ],
      "text/plain": [
       "<pandas.io.formats.style.Styler at 0x286872b6a00>"
      ]
     },
     "metadata": {},
     "output_type": "display_data"
    }
   ],
   "source": [
    "actorMoviesAgg= pd.read_sql(\"\"\" SELECT p.name, count(m.title) as \"Nbr of movies\"\n",
    "FROM person p \n",
    "INNER JOIN roles r ON (p.id = r.person_id)\n",
    "INNER JOIN movie m ON (r.movie_id = m.id)\n",
    "GROUP BY 1\"\"\", con)\n",
    "display(actorMoviesAgg.style.hide_index())"
   ]
  },
  {
   "cell_type": "markdown",
   "metadata": {},
   "source": [
    "#### In this DB, List the movies that every Actor Played\n",
    "<b>Hint:</b> use the aggregation function <b>\"ARRAY_AGG\"</b> to group movies as a list."
   ]
  },
  {
   "cell_type": "code",
   "execution_count": 222,
   "metadata": {},
   "outputs": [
    {
     "data": {
      "text/html": [
       "<style  type=\"text/css\" >\n",
       "</style><table id=\"T_985afdc5_f83e_11ea_9f4b_40ec9983c6f0\" ><thead>    <tr>        <th class=\"col_heading level0 col0\" >name</th>        <th class=\"col_heading level0 col1\" >List of movies</th>    </tr></thead><tbody>\n",
       "                <tr>\n",
       "                                <td id=\"T_985afdc5_f83e_11ea_9f4b_40ec9983c6f0row0_col0\" class=\"data row0 col0\" >Morgan Freeman</td>\n",
       "                        <td id=\"T_985afdc5_f83e_11ea_9f4b_40ec9983c6f0row0_col1\" class=\"data row0 col1\" >['The Shawshank Redemption']</td>\n",
       "            </tr>\n",
       "            <tr>\n",
       "                                <td id=\"T_985afdc5_f83e_11ea_9f4b_40ec9983c6f0row1_col0\" class=\"data row1 col0\" >Martin Sheen</td>\n",
       "                        <td id=\"T_985afdc5_f83e_11ea_9f4b_40ec9983c6f0row1_col1\" class=\"data row1 col1\" >['The American President']</td>\n",
       "            </tr>\n",
       "            <tr>\n",
       "                                <td id=\"T_985afdc5_f83e_11ea_9f4b_40ec9983c6f0row2_col0\" class=\"data row2 col0\" >Michael Douglas</td>\n",
       "                        <td id=\"T_985afdc5_f83e_11ea_9f4b_40ec9983c6f0row2_col1\" class=\"data row2 col1\" >['The American President']</td>\n",
       "            </tr>\n",
       "    </tbody></table>"
      ],
      "text/plain": [
       "<pandas.io.formats.style.Styler at 0x286877721c0>"
      ]
     },
     "metadata": {},
     "output_type": "display_data"
    }
   ],
   "source": [
    "actorMoviesAggList= pd.read_sql(\"\"\" SELECT p.name, ARRAY_AGG(m.title) as \"List of movies\"\n",
    "FROM person p \n",
    "INNER JOIN roles r ON (p.id = r.person_id)\n",
    "INNER JOIN movie m ON (r.movie_id = m.id)\n",
    "GROUP BY 1\"\"\", con)\n",
    "display(actorMoviesAggList.style.hide_index())"
   ]
  },
  {
   "cell_type": "markdown",
   "metadata": {},
   "source": [
    "### UPDATE Table Data\n",
    "\n",
    "#### Update the year of production of the movie \"Wall Street\" to be 2000 instead of it's current year. Show the record before and after the update."
   ]
  },
  {
   "cell_type": "code",
   "execution_count": 219,
   "metadata": {},
   "outputs": [
    {
     "data": {
      "text/plain": [
       "'Before: '"
      ]
     },
     "metadata": {},
     "output_type": "display_data"
    },
    {
     "data": {
      "text/html": [
       "<style  type=\"text/css\" >\n",
       "</style><table id=\"T_553bd365_f83e_11ea_b929_40ec9983c6f0\" ><thead>    <tr>        <th class=\"col_heading level0 col0\" >id</th>        <th class=\"col_heading level0 col1\" >title</th>        <th class=\"col_heading level0 col2\" >country</th>        <th class=\"col_heading level0 col3\" >year</th>        <th class=\"col_heading level0 col4\" >tagline</th>    </tr></thead><tbody>\n",
       "        </tbody></table>"
      ],
      "text/plain": [
       "<pandas.io.formats.style.Styler at 0x286878760a0>"
      ]
     },
     "metadata": {},
     "output_type": "display_data"
    },
    {
     "data": {
      "text/plain": [
       "'Now: '"
      ]
     },
     "metadata": {},
     "output_type": "display_data"
    },
    {
     "data": {
      "text/html": [
       "<style  type=\"text/css\" >\n",
       "</style><table id=\"T_553c94cf_f83e_11ea_8498_40ec9983c6f0\" ><thead>    <tr>        <th class=\"col_heading level0 col0\" >id</th>        <th class=\"col_heading level0 col1\" >title</th>        <th class=\"col_heading level0 col2\" >country</th>        <th class=\"col_heading level0 col3\" >year</th>        <th class=\"col_heading level0 col4\" >tagline</th>    </tr></thead><tbody>\n",
       "        </tbody></table>"
      ],
      "text/plain": [
       "<pandas.io.formats.style.Styler at 0x286872b6580>"
      ]
     },
     "metadata": {},
     "output_type": "display_data"
    }
   ],
   "source": [
    "old_table = pd.read_sql(\"SELECT * FROM movie WHERE title = 'Wall Street'\", con)\n",
    "display(\"Before: \", old_table.style.hide_index())\n",
    "\n",
    "update_value = \"\"\"UPDATE movie SET year=2000 WHERE title='Wall Street' \"\"\"\n",
    "try:\n",
    "    cursor.execute(update_value)\n",
    "    con.commit()\n",
    "except (Exception, psycopg2.Error) as error :\n",
    "    con.rollback()\n",
    "    print(\"ERROR\",error)\n",
    "\n",
    "new_table = pd.read_sql(\"SELECT * FROM movie WHERE title = 'Wall Street'\", con)\n",
    "display(\"Now: \", new_table.style.hide_index())"
   ]
  },
  {
   "cell_type": "markdown",
   "metadata": {},
   "source": [
    "## Delete Table rows\n",
    "\n",
    "#### Delete the movie with id =1 , and show the person table before and after the deletion."
   ]
  },
  {
   "cell_type": "code",
   "execution_count": 205,
   "metadata": {},
   "outputs": [
    {
     "data": {
      "text/plain": [
       "'Before: '"
      ]
     },
     "metadata": {},
     "output_type": "display_data"
    },
    {
     "data": {
      "text/html": [
       "<style  type=\"text/css\" >\n",
       "</style><table id=\"T_d44fd9d6_f83b_11ea_b5a7_40ec9983c6f0\" ><thead>    <tr>        <th class=\"col_heading level0 col0\" >id</th>        <th class=\"col_heading level0 col1\" >name</th>    </tr></thead><tbody>\n",
       "                <tr>\n",
       "                                <td id=\"T_d44fd9d6_f83b_11ea_b5a7_40ec9983c6f0row0_col0\" class=\"data row0 col0\" >1</td>\n",
       "                        <td id=\"T_d44fd9d6_f83b_11ea_b5a7_40ec9983c6f0row0_col1\" class=\"data row0 col1\" >Charlie Sheen</td>\n",
       "            </tr>\n",
       "            <tr>\n",
       "                                <td id=\"T_d44fd9d6_f83b_11ea_b5a7_40ec9983c6f0row1_col0\" class=\"data row1 col0\" >2</td>\n",
       "                        <td id=\"T_d44fd9d6_f83b_11ea_b5a7_40ec9983c6f0row1_col1\" class=\"data row1 col1\" >Michael Douglas</td>\n",
       "            </tr>\n",
       "            <tr>\n",
       "                                <td id=\"T_d44fd9d6_f83b_11ea_b5a7_40ec9983c6f0row2_col0\" class=\"data row2 col0\" >3</td>\n",
       "                        <td id=\"T_d44fd9d6_f83b_11ea_b5a7_40ec9983c6f0row2_col1\" class=\"data row2 col1\" >Martin Sheen</td>\n",
       "            </tr>\n",
       "            <tr>\n",
       "                                <td id=\"T_d44fd9d6_f83b_11ea_b5a7_40ec9983c6f0row3_col0\" class=\"data row3 col0\" >4</td>\n",
       "                        <td id=\"T_d44fd9d6_f83b_11ea_b5a7_40ec9983c6f0row3_col1\" class=\"data row3 col1\" >Morgan Freeman</td>\n",
       "            </tr>\n",
       "    </tbody></table>"
      ],
      "text/plain": [
       "<pandas.io.formats.style.Styler at 0x28687876700>"
      ]
     },
     "metadata": {},
     "output_type": "display_data"
    },
    {
     "data": {
      "text/plain": [
       "'Now: '"
      ]
     },
     "metadata": {},
     "output_type": "display_data"
    },
    {
     "data": {
      "text/html": [
       "<style  type=\"text/css\" >\n",
       "</style><table id=\"T_d450e499_f83b_11ea_ae9c_40ec9983c6f0\" ><thead>    <tr>        <th class=\"col_heading level0 col0\" >id</th>        <th class=\"col_heading level0 col1\" >name</th>    </tr></thead><tbody>\n",
       "                <tr>\n",
       "                                <td id=\"T_d450e499_f83b_11ea_ae9c_40ec9983c6f0row0_col0\" class=\"data row0 col0\" >1</td>\n",
       "                        <td id=\"T_d450e499_f83b_11ea_ae9c_40ec9983c6f0row0_col1\" class=\"data row0 col1\" >Charlie Sheen</td>\n",
       "            </tr>\n",
       "            <tr>\n",
       "                                <td id=\"T_d450e499_f83b_11ea_ae9c_40ec9983c6f0row1_col0\" class=\"data row1 col0\" >2</td>\n",
       "                        <td id=\"T_d450e499_f83b_11ea_ae9c_40ec9983c6f0row1_col1\" class=\"data row1 col1\" >Michael Douglas</td>\n",
       "            </tr>\n",
       "            <tr>\n",
       "                                <td id=\"T_d450e499_f83b_11ea_ae9c_40ec9983c6f0row2_col0\" class=\"data row2 col0\" >3</td>\n",
       "                        <td id=\"T_d450e499_f83b_11ea_ae9c_40ec9983c6f0row2_col1\" class=\"data row2 col1\" >Martin Sheen</td>\n",
       "            </tr>\n",
       "            <tr>\n",
       "                                <td id=\"T_d450e499_f83b_11ea_ae9c_40ec9983c6f0row3_col0\" class=\"data row3 col0\" >4</td>\n",
       "                        <td id=\"T_d450e499_f83b_11ea_ae9c_40ec9983c6f0row3_col1\" class=\"data row3 col1\" >Morgan Freeman</td>\n",
       "            </tr>\n",
       "    </tbody></table>"
      ],
      "text/plain": [
       "<pandas.io.formats.style.Styler at 0x28687876be0>"
      ]
     },
     "metadata": {},
     "output_type": "display_data"
    }
   ],
   "source": [
    "old_table = pd.read_sql(\"SELECT * FROM person\", con)\n",
    "display(\"Before: \", old_table.style.hide_index())\n",
    "\n",
    "delete_entry = \"\"\"DELETE FROM roles WHERE movie_id=1 \"\"\"\n",
    "try:\n",
    "    cursor.execute(delete_entry)\n",
    "    con.commit()\n",
    "except (Exception, psycopg2.Error) as error :\n",
    "    con.rollback()\n",
    "    print(\"ERROR\",error)\n",
    "    \n",
    "delete_entry = \"\"\"DELETE FROM movie WHERE id=1 \"\"\"\n",
    "try:\n",
    "    cursor.execute(delete_entry)\n",
    "    con.commit()\n",
    "except (Exception, psycopg2.Error) as error :\n",
    "    con.rollback()\n",
    "    print(\"ERROR\",error)\n",
    "\n",
    "new_table = pd.read_sql(\"SELECT * FROM person\", con)\n",
    "display(\"Now: \", new_table.style.hide_index())"
   ]
  },
  {
   "cell_type": "markdown",
   "metadata": {},
   "source": [
    "## Extend you \"Movies\" DB \n",
    "\n",
    "Imagine now that we are going to extend our DB with new movies, actors, even with new directors.\n",
    "\n",
    "- We add <b>**\"The matrix\"**</b> movie which was released in <b>(1999)</b>, and has a new property \"Tagline\" <b>(\"Welcome to the Real World\")</b>.\n",
    "    - <font color='red'> Adding the \"Tagline\" new property (attribute) require changing the table schema</font>\n",
    "\n",
    "- We will also add 4 new actors (Person):\n",
    "    - **\"Keanu Reeves\"** who was born in (1964). Note \"born\" property is also new.\n",
    "    - **\"Carrie-Anne Moss\"** who was born in (1967).\n",
    "    - **\"Laurence Fishburne\"** who was born in (1960).\n",
    "    - **\"Hugo Weaving\"** who was born in (1960).\n",
    "    * <font color='red'> **Note**: Adding the new \"born\" Property require changing the table schema</font>    \n",
    "- Moreover, we add 2 directors (Person) :\n",
    "    - **\"Lilly Wachowski\"**, born in (1967)\n",
    "    - **\"Lana Wachowski\"**, born in(1965)\n",
    "- For these directors specify one more Label (\"Director\").\n",
    "    - <font color='red'> This new Label Will require **\"Denormalization\"** Or smothing</font>\n",
    "    \n",
    "- We will also Create a new <b>RelationType \"DIRECTED\" </b> that is directed from the later 3 director to \"the Matrix\" movie.\n",
    "    - - <font color='red'> New created table for **Directed** relationship </font>"
   ]
  },
  {
   "cell_type": "markdown",
   "metadata": {},
   "source": [
    "#### Adding Tagline column to the movie table requires, altering the table schema"
   ]
  },
  {
   "cell_type": "code",
   "execution_count": 206,
   "metadata": {},
   "outputs": [
    {
     "ename": "TypeError",
     "evalue": "'NoneType' object is not iterable",
     "output_type": "error",
     "traceback": [
      "\u001b[1;31m---------------------------------------------------------------------------\u001b[0m",
      "\u001b[1;31mTypeError\u001b[0m                                 Traceback (most recent call last)",
      "\u001b[1;32m<ipython-input-206-65c6052bd241>\u001b[0m in \u001b[0;36m<module>\u001b[1;34m\u001b[0m\n\u001b[1;32m----> 1\u001b[1;33m \u001b[0mpsql\u001b[0m\u001b[1;33m.\u001b[0m\u001b[0mread_sql\u001b[0m\u001b[1;33m(\u001b[0m\u001b[1;34m\"\"\"ALTER TABLE movie ADD tagline TEXT\"\"\"\u001b[0m\u001b[1;33m,\u001b[0m \u001b[0mcon\u001b[0m\u001b[1;33m)\u001b[0m\u001b[1;33m\u001b[0m\u001b[1;33m\u001b[0m\u001b[0m\n\u001b[0m",
      "\u001b[1;32mC:\\ProgramData\\Anaconda3\\lib\\site-packages\\pandas\\io\\sql.py\u001b[0m in \u001b[0;36mread_sql\u001b[1;34m(sql, con, index_col, coerce_float, params, parse_dates, columns, chunksize)\u001b[0m\n\u001b[0;32m    404\u001b[0m \u001b[1;33m\u001b[0m\u001b[0m\n\u001b[0;32m    405\u001b[0m     \u001b[1;32mif\u001b[0m \u001b[0misinstance\u001b[0m\u001b[1;33m(\u001b[0m\u001b[0mpandas_sql\u001b[0m\u001b[1;33m,\u001b[0m \u001b[0mSQLiteDatabase\u001b[0m\u001b[1;33m)\u001b[0m\u001b[1;33m:\u001b[0m\u001b[1;33m\u001b[0m\u001b[1;33m\u001b[0m\u001b[0m\n\u001b[1;32m--> 406\u001b[1;33m         return pandas_sql.read_query(\n\u001b[0m\u001b[0;32m    407\u001b[0m             \u001b[0msql\u001b[0m\u001b[1;33m,\u001b[0m\u001b[1;33m\u001b[0m\u001b[1;33m\u001b[0m\u001b[0m\n\u001b[0;32m    408\u001b[0m             \u001b[0mindex_col\u001b[0m\u001b[1;33m=\u001b[0m\u001b[0mindex_col\u001b[0m\u001b[1;33m,\u001b[0m\u001b[1;33m\u001b[0m\u001b[1;33m\u001b[0m\u001b[0m\n",
      "\u001b[1;32mC:\\ProgramData\\Anaconda3\\lib\\site-packages\\pandas\\io\\sql.py\u001b[0m in \u001b[0;36mread_query\u001b[1;34m(self, sql, index_col, coerce_float, params, parse_dates, chunksize)\u001b[0m\n\u001b[0;32m   1632\u001b[0m         \u001b[0margs\u001b[0m \u001b[1;33m=\u001b[0m \u001b[0m_convert_params\u001b[0m\u001b[1;33m(\u001b[0m\u001b[0msql\u001b[0m\u001b[1;33m,\u001b[0m \u001b[0mparams\u001b[0m\u001b[1;33m)\u001b[0m\u001b[1;33m\u001b[0m\u001b[1;33m\u001b[0m\u001b[0m\n\u001b[0;32m   1633\u001b[0m         \u001b[0mcursor\u001b[0m \u001b[1;33m=\u001b[0m \u001b[0mself\u001b[0m\u001b[1;33m.\u001b[0m\u001b[0mexecute\u001b[0m\u001b[1;33m(\u001b[0m\u001b[1;33m*\u001b[0m\u001b[0margs\u001b[0m\u001b[1;33m)\u001b[0m\u001b[1;33m\u001b[0m\u001b[1;33m\u001b[0m\u001b[0m\n\u001b[1;32m-> 1634\u001b[1;33m         \u001b[0mcolumns\u001b[0m \u001b[1;33m=\u001b[0m \u001b[1;33m[\u001b[0m\u001b[0mcol_desc\u001b[0m\u001b[1;33m[\u001b[0m\u001b[1;36m0\u001b[0m\u001b[1;33m]\u001b[0m \u001b[1;32mfor\u001b[0m \u001b[0mcol_desc\u001b[0m \u001b[1;32min\u001b[0m \u001b[0mcursor\u001b[0m\u001b[1;33m.\u001b[0m\u001b[0mdescription\u001b[0m\u001b[1;33m]\u001b[0m\u001b[1;33m\u001b[0m\u001b[1;33m\u001b[0m\u001b[0m\n\u001b[0m\u001b[0;32m   1635\u001b[0m \u001b[1;33m\u001b[0m\u001b[0m\n\u001b[0;32m   1636\u001b[0m         \u001b[1;32mif\u001b[0m \u001b[0mchunksize\u001b[0m \u001b[1;32mis\u001b[0m \u001b[1;32mnot\u001b[0m \u001b[1;32mNone\u001b[0m\u001b[1;33m:\u001b[0m\u001b[1;33m\u001b[0m\u001b[1;33m\u001b[0m\u001b[0m\n",
      "\u001b[1;31mTypeError\u001b[0m: 'NoneType' object is not iterable"
     ]
    }
   ],
   "source": [
    "psql.read_sql(\"\"\"ALTER TABLE movie ADD tagline TEXT\"\"\", con)"
   ]
  },
  {
   "cell_type": "markdown",
   "metadata": {},
   "source": [
    "#### Inserting the new movie \"The Matrix\" with the prementioned attributes to movie table"
   ]
  },
  {
   "cell_type": "code",
   "execution_count": 207,
   "metadata": {},
   "outputs": [],
   "source": [
    "insert_query = \"\"\" INSERT INTO movie (id, title, country, year, tagline) VALUES (%s,%s,%s,%s,%s)\"\"\"\n",
    "record_to_insert = (4,\"The Matrix\",None, 1999, \"Welcome to the Real World\")\n",
    "\n",
    "try:\n",
    "    cursor.execute(insert_query, record_to_insert)\n",
    "    con.commit()\n",
    "except (Exception, psycopg2.Error) as error :\n",
    "    con.rollback()\n",
    "    print(\"ERROR\",error)"
   ]
  },
  {
   "cell_type": "markdown",
   "metadata": {},
   "source": [
    "#### Adding 'born' column to the person table also requires, altering the table schema"
   ]
  },
  {
   "cell_type": "code",
   "execution_count": 209,
   "metadata": {},
   "outputs": [
    {
     "ename": "TypeError",
     "evalue": "'NoneType' object is not iterable",
     "output_type": "error",
     "traceback": [
      "\u001b[1;31m---------------------------------------------------------------------------\u001b[0m",
      "\u001b[1;31mTypeError\u001b[0m                                 Traceback (most recent call last)",
      "\u001b[1;32m<ipython-input-209-a6522491075a>\u001b[0m in \u001b[0;36m<module>\u001b[1;34m\u001b[0m\n\u001b[1;32m----> 1\u001b[1;33m \u001b[0mpsql\u001b[0m\u001b[1;33m.\u001b[0m\u001b[0mread_sql\u001b[0m\u001b[1;33m(\u001b[0m\u001b[1;34m\"\"\"ALTER TABLE person ADD born INT\"\"\"\u001b[0m\u001b[1;33m,\u001b[0m \u001b[0mcon\u001b[0m\u001b[1;33m)\u001b[0m\u001b[1;33m\u001b[0m\u001b[1;33m\u001b[0m\u001b[0m\n\u001b[0m",
      "\u001b[1;32mC:\\ProgramData\\Anaconda3\\lib\\site-packages\\pandas\\io\\sql.py\u001b[0m in \u001b[0;36mread_sql\u001b[1;34m(sql, con, index_col, coerce_float, params, parse_dates, columns, chunksize)\u001b[0m\n\u001b[0;32m    404\u001b[0m \u001b[1;33m\u001b[0m\u001b[0m\n\u001b[0;32m    405\u001b[0m     \u001b[1;32mif\u001b[0m \u001b[0misinstance\u001b[0m\u001b[1;33m(\u001b[0m\u001b[0mpandas_sql\u001b[0m\u001b[1;33m,\u001b[0m \u001b[0mSQLiteDatabase\u001b[0m\u001b[1;33m)\u001b[0m\u001b[1;33m:\u001b[0m\u001b[1;33m\u001b[0m\u001b[1;33m\u001b[0m\u001b[0m\n\u001b[1;32m--> 406\u001b[1;33m         return pandas_sql.read_query(\n\u001b[0m\u001b[0;32m    407\u001b[0m             \u001b[0msql\u001b[0m\u001b[1;33m,\u001b[0m\u001b[1;33m\u001b[0m\u001b[1;33m\u001b[0m\u001b[0m\n\u001b[0;32m    408\u001b[0m             \u001b[0mindex_col\u001b[0m\u001b[1;33m=\u001b[0m\u001b[0mindex_col\u001b[0m\u001b[1;33m,\u001b[0m\u001b[1;33m\u001b[0m\u001b[1;33m\u001b[0m\u001b[0m\n",
      "\u001b[1;32mC:\\ProgramData\\Anaconda3\\lib\\site-packages\\pandas\\io\\sql.py\u001b[0m in \u001b[0;36mread_query\u001b[1;34m(self, sql, index_col, coerce_float, params, parse_dates, chunksize)\u001b[0m\n\u001b[0;32m   1632\u001b[0m         \u001b[0margs\u001b[0m \u001b[1;33m=\u001b[0m \u001b[0m_convert_params\u001b[0m\u001b[1;33m(\u001b[0m\u001b[0msql\u001b[0m\u001b[1;33m,\u001b[0m \u001b[0mparams\u001b[0m\u001b[1;33m)\u001b[0m\u001b[1;33m\u001b[0m\u001b[1;33m\u001b[0m\u001b[0m\n\u001b[0;32m   1633\u001b[0m         \u001b[0mcursor\u001b[0m \u001b[1;33m=\u001b[0m \u001b[0mself\u001b[0m\u001b[1;33m.\u001b[0m\u001b[0mexecute\u001b[0m\u001b[1;33m(\u001b[0m\u001b[1;33m*\u001b[0m\u001b[0margs\u001b[0m\u001b[1;33m)\u001b[0m\u001b[1;33m\u001b[0m\u001b[1;33m\u001b[0m\u001b[0m\n\u001b[1;32m-> 1634\u001b[1;33m         \u001b[0mcolumns\u001b[0m \u001b[1;33m=\u001b[0m \u001b[1;33m[\u001b[0m\u001b[0mcol_desc\u001b[0m\u001b[1;33m[\u001b[0m\u001b[1;36m0\u001b[0m\u001b[1;33m]\u001b[0m \u001b[1;32mfor\u001b[0m \u001b[0mcol_desc\u001b[0m \u001b[1;32min\u001b[0m \u001b[0mcursor\u001b[0m\u001b[1;33m.\u001b[0m\u001b[0mdescription\u001b[0m\u001b[1;33m]\u001b[0m\u001b[1;33m\u001b[0m\u001b[1;33m\u001b[0m\u001b[0m\n\u001b[0m\u001b[0;32m   1635\u001b[0m \u001b[1;33m\u001b[0m\u001b[0m\n\u001b[0;32m   1636\u001b[0m         \u001b[1;32mif\u001b[0m \u001b[0mchunksize\u001b[0m \u001b[1;32mis\u001b[0m \u001b[1;32mnot\u001b[0m \u001b[1;32mNone\u001b[0m\u001b[1;33m:\u001b[0m\u001b[1;33m\u001b[0m\u001b[1;33m\u001b[0m\u001b[0m\n",
      "\u001b[1;31mTypeError\u001b[0m: 'NoneType' object is not iterable"
     ]
    }
   ],
   "source": [
    "psql.read_sql(\"\"\"ALTER TABLE person ADD born INT\"\"\", con)"
   ]
  },
  {
   "cell_type": "markdown",
   "metadata": {},
   "source": [
    "#### Inserting the  \"4\" more Actors."
   ]
  },
  {
   "cell_type": "code",
   "execution_count": 210,
   "metadata": {},
   "outputs": [
    {
     "name": "stdout",
     "output_type": "stream",
     "text": [
      "Successfully added  4 new records\n"
     ]
    }
   ],
   "source": [
    "sql_insert = \"INSERT INTO person (id,name, born) VALUES(%s,%s,%s)\"\n",
    "\n",
    "List=[\n",
    "(5, \"Keanu Reeves\",1964),\n",
    "(6, \"Carrie-Anne Moss\",1967),\n",
    "(7, \"Laurence Fishburne\",1960),\n",
    "(8, \"Hugo Weaving\",1960)\n",
    "]\n",
    "\n",
    "try:\n",
    "    cursor.executemany(sql_insert,List)\n",
    "    con.commit()\n",
    "    count = cursor.rowcount\n",
    "    print (\"Successfully added \", count, \"new records\")\n",
    "\n",
    "except (Exception, psycopg2.Error) as error :\n",
    "    con.rollback()\n",
    "    print (\"Error while Inserting the data to the table, Details: \",error)\n",
    "    \n"
   ]
  },
  {
   "cell_type": "markdown",
   "metadata": {},
   "source": [
    "#### Inserting the  \"2\" Directors"
   ]
  },
  {
   "cell_type": "code",
   "execution_count": 212,
   "metadata": {},
   "outputs": [
    {
     "name": "stdout",
     "output_type": "stream",
     "text": [
      "Successfully added  2 new records\n"
     ]
    }
   ],
   "source": [
    "sql_insert = \"INSERT INTO person (id,name, born) VALUES(%s,%s,%s)\"\n",
    "\n",
    "List=[\n",
    "(9,  \"Lilly Wachowski\", 1967),\n",
    "(10, \"Lana Wachowski\", 1965)\n",
    "]\n",
    "\n",
    "try:\n",
    "    cursor.executemany(sql_insert,List)\n",
    "    con.commit()\n",
    "    count = cursor.rowcount\n",
    "    print (\"Successfully added \", count, \"new records\")\n",
    "\n",
    "except (Exception, psycopg2.Error) as error :\n",
    "    con.rollback()\n",
    "    print (\"Error while Inserting the data to the table, Details: \",error)"
   ]
  },
  {
   "cell_type": "markdown",
   "metadata": {},
   "source": [
    "#### Specifying this new Label (\"Director\") will require \"normalization\"\n",
    "\n",
    "I highly suggest modeling this a little more \"normalized\". You are already on the right track by realizing that both \"Directors\" and maybe after that \"Actors\" are the same entity (Person). The trick is that you should model \"roles\", and then model user's roles as well. That makes 3 total tables for this small portion of your model.\n",
    "\n",
    "<img src= 'NormalizationTrick.JPG'>"
   ]
  },
  {
   "cell_type": "code",
   "execution_count": 223,
   "metadata": {},
   "outputs": [
    {
     "name": "stdout",
     "output_type": "stream",
     "text": [
      "Table (label) created successfully in PostgreSQL \n"
     ]
    }
   ],
   "source": [
    "try:\n",
    "    Table=\"label\"\n",
    "    create_query = '''CREATE TABLE '''+ Table+''' \n",
    "              (id INT PRIMARY KEY,\n",
    "              label TEXT\n",
    "               ); '''\n",
    "\n",
    "    #Execute this command (SQL Query)\n",
    "    cursor.execute(create_query)\n",
    "    \n",
    "    # Make the changes to the database persistent\n",
    "    con.commit()\n",
    "    print(\"Table (\"+ Table +\") created successfully in PostgreSQL \")\n",
    "except (Exception, psycopg2.Error) as error:\n",
    "    # if it exits with an exception the transaction is rolled back.\n",
    "    con.rollback()\n",
    "    print(\"Error While Creating the DB: \",error)"
   ]
  },
  {
   "cell_type": "code",
   "execution_count": 225,
   "metadata": {},
   "outputs": [
    {
     "name": "stdout",
     "output_type": "stream",
     "text": [
      "Table (person_label) created successfully in PostgreSQL \n"
     ]
    }
   ],
   "source": [
    "try:\n",
    "    Table=\"person_label\"\n",
    "    create_query = '''CREATE TABLE '''+ Table+''' \n",
    "              (person_id INT  REFERENCES person(id),\n",
    "              label_id INT  REFERENCES label(id)\n",
    "               ); '''\n",
    "\n",
    "    #Execute this command (SQL Query)\n",
    "    cursor.execute(create_query)\n",
    "    \n",
    "    # Make the changes to the database persistent\n",
    "    con.commit()\n",
    "    print(\"Table (\"+ Table +\") created successfully in PostgreSQL \")\n",
    "except (Exception, psycopg2.Error) as error:\n",
    "    # if it exits with an exception the transaction is rolled back.\n",
    "    con.rollback()\n",
    "    print(\"Error While Creating the DB: \",error)"
   ]
  },
  {
   "cell_type": "markdown",
   "metadata": {},
   "source": [
    "#### Insert Data into the two new normalized tables (\"Person_label\", and \"Label\") "
   ]
  },
  {
   "cell_type": "code",
   "execution_count": 243,
   "metadata": {},
   "outputs": [
    {
     "name": "stdout",
     "output_type": "stream",
     "text": [
      "Error while Inserting the data to the table, Details:  duplicate key value violates unique constraint \"label_pkey\"\n",
      "DETAIL:  Key (id)=(1) already exists.\n",
      "\n",
      "Successfully added  10 new records\n"
     ]
    }
   ],
   "source": [
    "sql_insert1 = \"INSERT INTO label (id, label) VALUES(%s,%s)\"\n",
    "\n",
    "List1=[\n",
    "(1,  \"Actor\"),\n",
    "(2, \"Director\")\n",
    "]\n",
    "\n",
    "try:\n",
    "    cursor.executemany(sql_insert1,List1)\n",
    "    con.commit()\n",
    "    count = cursor.rowcount\n",
    "    print (\"Successfully added \", count, \"new records\")\n",
    "\n",
    "except (Exception, psycopg2.Error) as error :\n",
    "    con.rollback()\n",
    "    print (\"Error while Inserting the data to the table, Details: \",error)\n",
    "\n",
    "sql_insert2 = \"INSERT INTO person_label (person_id,label_id) VALUES(%s,%s)\"\n",
    "\n",
    "query= \"SELECT id FROM person\"\n",
    "try:\n",
    "    cursor.execute(query, (1,))\n",
    "    person_ids = cursor.fetchall() \n",
    "\n",
    "    List2=[]\n",
    "    for row in person_ids:\n",
    "        id = row[0]\n",
    "        if id == 9 or id == 10:\n",
    "            List2.append([id, 2])\n",
    "        else:\n",
    "            List2.append([id, 1])\n",
    "except(Exception, psycopg2.Error) as error :\n",
    "    con.rollback()\n",
    "    print(\"Error:\", error)\n",
    "    \n",
    "    \n",
    "\n",
    "try:\n",
    "    cursor.executemany(sql_insert2,List2)\n",
    "    con.commit()\n",
    "    count = cursor.rowcount\n",
    "    print (\"Successfully added \", count, \"new records\")\n",
    "\n",
    "except (Exception, psycopg2.Error) as error :\n",
    "    con.rollback()\n",
    "    print (\"Error while Inserting the data to the table, Details: \",error)"
   ]
  },
  {
   "cell_type": "markdown",
   "metadata": {},
   "source": [
    "#### Perform a query that shows only the \"Directors\""
   ]
  },
  {
   "cell_type": "code",
   "execution_count": 246,
   "metadata": {},
   "outputs": [
    {
     "data": {
      "text/html": [
       "<style  type=\"text/css\" >\n",
       "</style><table id=\"T_d694f070_f843_11ea_a405_40ec9983c6f0\" ><thead>    <tr>        <th class=\"col_heading level0 col0\" >name</th>    </tr></thead><tbody>\n",
       "                <tr>\n",
       "                                <td id=\"T_d694f070_f843_11ea_a405_40ec9983c6f0row0_col0\" class=\"data row0 col0\" >Lilly Wachowski</td>\n",
       "            </tr>\n",
       "            <tr>\n",
       "                                <td id=\"T_d694f070_f843_11ea_a405_40ec9983c6f0row1_col0\" class=\"data row1 col0\" >Lana Wachowski</td>\n",
       "            </tr>\n",
       "    </tbody></table>"
      ],
      "text/plain": [
       "<pandas.io.formats.style.Styler at 0x28687876c40>"
      ]
     },
     "metadata": {},
     "output_type": "display_data"
    }
   ],
   "source": [
    "directors=psql.read_sql(\"\"\"SELECT p.name FROM person p\n",
    "INNER JOIN person_label pl ON (p.id = pl.person_id)\n",
    "INNER JOIN label l ON (pl.label_id = l.id)\n",
    "WHERE l.label = 'Director' \"\"\", con)\n",
    "display(directors.style.hide_index())"
   ]
  },
  {
   "cell_type": "markdown",
   "metadata": {},
   "source": [
    "#### \"Directed\" Relationship creation"
   ]
  },
  {
   "cell_type": "code",
   "execution_count": 248,
   "metadata": {},
   "outputs": [
    {
     "name": "stdout",
     "output_type": "stream",
     "text": [
      "Table (directed) created successfully in PostgreSQL \n"
     ]
    }
   ],
   "source": [
    "try:\n",
    "    Table=\"directed\"\n",
    "    create_query = '''CREATE TABLE '''+ Table+''' \n",
    "              (movie_id INT  REFERENCES movie(id),\n",
    "               person_id INT REFERENCES person(id)\n",
    "               ); '''\n",
    "\n",
    "    #Execute this command (SQL Query)\n",
    "    cursor.execute(create_query)\n",
    "    \n",
    "    # Make the changes to the database persistent\n",
    "    con.commit()\n",
    "    print(\"Table (\"+ Table +\") created successfully in PostgreSQL \")\n",
    "except (Exception, psycopg2.Error) as error:\n",
    "    # if it exits with an exception the transaction is rolled back.\n",
    "    con.rollback()\n",
    "    print(\"Error While Creating the DB: \",error)"
   ]
  },
  {
   "cell_type": "markdown",
   "metadata": {},
   "source": [
    "#### Insert data to the \"Directed\" table "
   ]
  },
  {
   "cell_type": "code",
   "execution_count": 254,
   "metadata": {},
   "outputs": [
    {
     "name": "stdout",
     "output_type": "stream",
     "text": [
      "Successfully added  2 new records\n"
     ]
    }
   ],
   "source": [
    "sql_insert = \"INSERT INTO directed (movie_id, person_id) VALUES(%s,%s)\"\n",
    "\n",
    "query= \"SELECT id FROM movie WHERE title='The Matrix'\"\n",
    "try:\n",
    "    cursor.execute(query, (1,))\n",
    "    movie_id = cursor.fetchone() \n",
    "\n",
    "    List=[\n",
    "    (movie_id,  9),\n",
    "    (movie_id, 10)\n",
    "    ]\n",
    "\n",
    "except(Exception, psycopg2.Error) as error :\n",
    "    con.rollback()\n",
    "    print(\"Error:\", error)\n",
    "\n",
    "\n",
    "try:\n",
    "    cursor.executemany(sql_insert,List)\n",
    "    con.commit()\n",
    "    count = cursor.rowcount\n",
    "    print (\"Successfully added \", count, \"new records\")\n",
    "\n",
    "except (Exception, psycopg2.Error) as error :\n",
    "    con.rollback()\n",
    "    print (\"Error while Inserting the data to the table, Details: \",error)\n"
   ]
  },
  {
   "cell_type": "markdown",
   "metadata": {},
   "source": [
    "### Perform a query that get persons who Directed \"The matrix\" movie."
   ]
  },
  {
   "cell_type": "code",
   "execution_count": 258,
   "metadata": {},
   "outputs": [
    {
     "data": {
      "text/html": [
       "<style  type=\"text/css\" >\n",
       "</style><table id=\"T_04d6410b_f846_11ea_9d5a_40ec9983c6f0\" ><thead>    <tr>        <th class=\"col_heading level0 col0\" >title</th>        <th class=\"col_heading level0 col1\" >Director</th>    </tr></thead><tbody>\n",
       "                <tr>\n",
       "                                <td id=\"T_04d6410b_f846_11ea_9d5a_40ec9983c6f0row0_col0\" class=\"data row0 col0\" >The Matrix</td>\n",
       "                        <td id=\"T_04d6410b_f846_11ea_9d5a_40ec9983c6f0row0_col1\" class=\"data row0 col1\" >Lilly Wachowski</td>\n",
       "            </tr>\n",
       "            <tr>\n",
       "                                <td id=\"T_04d6410b_f846_11ea_9d5a_40ec9983c6f0row1_col0\" class=\"data row1 col0\" >The Matrix</td>\n",
       "                        <td id=\"T_04d6410b_f846_11ea_9d5a_40ec9983c6f0row1_col1\" class=\"data row1 col1\" >Lana Wachowski</td>\n",
       "            </tr>\n",
       "    </tbody></table>"
      ],
      "text/plain": [
       "<pandas.io.formats.style.Styler at 0x28687876670>"
      ]
     },
     "metadata": {},
     "output_type": "display_data"
    }
   ],
   "source": [
    "matrix=psql.read_sql(\"\"\"SELECT m.title, p.name as \"Director\" FROM person p\n",
    "INNER JOIN directed d ON (p.id = d.person_id)\n",
    "INNER JOIN movie m ON (d.movie_id = m.id)\n",
    "WHERE m.title ='The Matrix' \"\"\", con)\n",
    "display(matrix.style.hide_index())\n"
   ]
  },
  {
   "cell_type": "markdown",
   "metadata": {},
   "source": [
    "## Task 3 (Tartu Country Club): \n",
    "\n",
    "- The DB  centered arround a **\"country club\"**, with a set of **members**, **facilities** such as tennis courts, and booking history for those facilities. \n",
    "- Amongst other things, the club wants to understand how they can use their information to analyze facility usage/demand.\n",
    "\n",
    "<img src=\"DBSchema.JPG\">"
   ]
  },
  {
   "cell_type": "markdown",
   "metadata": {},
   "source": [
    "#### From the above schema Diagram, answer the following questions:\n",
    "- What is the relationship type(i.e. nature) between the **\"memebers\"** and **\"facilities\"** tables?"
   ]
  },
  {
   "cell_type": "markdown",
   "metadata": {},
   "source": [
    "##### <font color='green'>Answer: </font> many to many . "
   ]
  },
  {
   "cell_type": "markdown",
   "metadata": {},
   "source": [
    "- Mention How was this relationship handled ? "
   ]
  },
  {
   "cell_type": "markdown",
   "metadata": {},
   "source": [
    "##### <font color='green'>Answer: </font> Relationship was handled by adding booking relation in between."
   ]
  },
  {
   "cell_type": "markdown",
   "metadata": {},
   "source": [
    "- Mention what are the keys (PRIMARY, FORIEN,..) in all the three tables (DB schema)."
   ]
  },
  {
   "cell_type": "markdown",
   "metadata": {},
   "source": [
    "##### <font color='green'>Answer: </font>\n",
    "members: primary key = memid, foreign key = recommendedby\n",
    "\n",
    "bookings: foreign keys: memid, facid\n",
    "\n",
    "facilities: primary key = facid\n"
   ]
  },
  {
   "cell_type": "markdown",
   "metadata": {},
   "source": [
    "- What is the Degree of each Table in the above DB schema?"
   ]
  },
  {
   "cell_type": "markdown",
   "metadata": {},
   "source": [
    "##### <font color='green'>Answer: </font>\n",
    "members: 8\n",
    "\n",
    "bookings: 4\n",
    "\n",
    "facilities: 6"
   ]
  },
  {
   "cell_type": "markdown",
   "metadata": {},
   "source": [
    "#### Use the attached  <font color='green'> \"clubdata.sql\" </font> script to create DB , tables, and insert data in the created tables.\n",
    "- login to your postgres command line as shown above.\n",
    "- use the command in your ***PSQL SHELL***  <code>\\i 'your/path/clubdata.sql'</code> to run the script."
   ]
  },
  {
   "cell_type": "markdown",
   "metadata": {},
   "source": [
    "#### Use SQL commands using python like in this jupyter note book, or use \"PgAdmin\" to answer the following:"
   ]
  },
  {
   "cell_type": "markdown",
   "metadata": {},
   "source": [
    "#### Get a list of all of the facilities and their cost to members."
   ]
  },
  {
   "cell_type": "code",
   "execution_count": 262,
   "metadata": {},
   "outputs": [
    {
     "ename": "SyntaxError",
     "evalue": "invalid syntax (<ipython-input-262-9806a7154d73>, line 1)",
     "output_type": "error",
     "traceback": [
      "\u001b[1;36m  File \u001b[1;32m\"<ipython-input-262-9806a7154d73>\"\u001b[1;36m, line \u001b[1;32m1\u001b[0m\n\u001b[1;33m    select \"name\", membercost from cd.facilities\u001b[0m\n\u001b[1;37m           ^\u001b[0m\n\u001b[1;31mSyntaxError\u001b[0m\u001b[1;31m:\u001b[0m invalid syntax\n"
     ]
    }
   ],
   "source": [
    "select \"name\", membercost from cd.facilities"
   ]
  },
  {
   "cell_type": "markdown",
   "metadata": {},
   "source": [
    "#### How can you produce a list of facilities that charge a fee to members (membercost>0)?"
   ]
  },
  {
   "cell_type": "code",
   "execution_count": null,
   "metadata": {},
   "outputs": [],
   "source": [
    "select \"name\" from cd.facilities\n",
    "where membercost > 0"
   ]
  },
  {
   "cell_type": "markdown",
   "metadata": {},
   "source": [
    "####  How can you produce a list of all facilities with the word 'Tennis' in their name?"
   ]
  },
  {
   "cell_type": "code",
   "execution_count": null,
   "metadata": {},
   "outputs": [],
   "source": [
    "select \"name\" from cd.facilities\n",
    "where lower(\"name\") like '%tennis%'"
   ]
  },
  {
   "cell_type": "markdown",
   "metadata": {},
   "source": [
    "#### How can you retrieve the details of facilities with ID 1 and 5? <font color=red>Try to do it without using the OR operator.</font>"
   ]
  },
  {
   "cell_type": "code",
   "execution_count": null,
   "metadata": {},
   "outputs": [],
   "source": [
    "select * from cd.facilities\n",
    "where facid in (1,5)"
   ]
  },
  {
   "cell_type": "markdown",
   "metadata": {},
   "source": [
    "####  How can you produce a list of facilities, with each labelled as 'cheap' or 'expensive' depending on if their monthly maintenance cost is more than $100? Return the name and monthly maintenance of the facilities in question. "
   ]
  },
  {
   "cell_type": "code",
   "execution_count": null,
   "metadata": {},
   "outputs": [],
   "source": [
    "select name, \n",
    "case when monthlymaintenance > 100 then 'expensive'\n",
    "else 'cheap' end as \"maintenance\",\n",
    "monthlymaintenance\n",
    "from cd.facilities"
   ]
  },
  {
   "cell_type": "markdown",
   "metadata": {},
   "source": [
    "####  get the signup date of your last member. How can you retrieve this information? "
   ]
  },
  {
   "cell_type": "code",
   "execution_count": null,
   "metadata": {},
   "outputs": [],
   "source": [
    "select max(joindate) from cd.members"
   ]
  },
  {
   "cell_type": "markdown",
   "metadata": {},
   "source": [
    " #### Retrieve the start times of members' bookings\n",
    " * Get a list of the start times for bookings by members named 'David Farrell'? "
   ]
  },
  {
   "cell_type": "code",
   "execution_count": null,
   "metadata": {},
   "outputs": [],
   "source": [
    "select b.starttime from cd.bookings b\n",
    "inner join cd.members m on (b.memid = m.memid)\n",
    "where \n",
    "firstname || ' ' || surname = 'David Farrell'\n"
   ]
  },
  {
   "cell_type": "markdown",
   "metadata": {},
   "source": [
    "#### The club is adding a new facility - a spa. We need to add it into the facilities table. Use the following values:\n",
    "\n",
    "    facid: 9, Name: 'Spa', membercost: 20, guestcost: 30, initialoutlay: 100000, monthlymaintenance: 800."
   ]
  },
  {
   "cell_type": "code",
   "execution_count": null,
   "metadata": {},
   "outputs": [],
   "source": [
    "insert into cd.facilities \n",
    "(facid, Name, membercost, guestcost, initialoutlay, monthlymaintenance)\n",
    "values (9, 'Spa', 20, 30, 100000, 800)"
   ]
  },
  {
   "cell_type": "markdown",
   "metadata": {},
   "source": [
    "#### We made a mistake when entering the data for the \"Spa\" facility. \n",
    "    - The \"initial outlay\" should be 20000 rather than 100000: \n",
    "    - you need to alter the data to fix the error.\n",
    "    \n"
   ]
  },
  {
   "cell_type": "code",
   "execution_count": null,
   "metadata": {},
   "outputs": [],
   "source": [
    "update cd.facilities \n",
    "set initialoutlay=20000\n",
    "where name='Spa'"
   ]
  },
  {
   "cell_type": "markdown",
   "metadata": {},
   "source": [
    "#### List the total slots booked per facility "
   ]
  },
  {
   "cell_type": "code",
   "execution_count": null,
   "metadata": {},
   "outputs": [],
   "source": [
    "select f.name, \n",
    "case when sum(b.slots) is null then 0\n",
    "else sum(b.slots) end as \"total slots\"\n",
    "from cd.bookings b \n",
    "right outer join cd.facilities f on (b.facid = f.facid)\n",
    "group by 1"
   ]
  },
  {
   "cell_type": "markdown",
   "metadata": {},
   "source": [
    "####  Delete all bookings \n",
    "*  As part of a clearout of our database, we want to delete all bookings from the cd.bookings table. How can we accomplish this? "
   ]
  },
  {
   "cell_type": "code",
   "execution_count": null,
   "metadata": {},
   "outputs": [],
   "source": [
    "delete from cd.bookings"
   ]
  },
  {
   "cell_type": "markdown",
   "metadata": {},
   "source": [
    " ## How long did it take you to solve the homework?\n",
    " \n",
    "Please answer as precisely as you can. It does not affect your points or grade in any way. It is okey, if it took 0.5 hours or 24 hours. The collected information will be used to improve future homeworks."
   ]
  },
  {
   "cell_type": "markdown",
   "metadata": {},
   "source": [
    "<font color=\"red\"><b>Answer:</b></font> 4,5 hours"
   ]
  },
  {
   "cell_type": "markdown",
   "metadata": {},
   "source": [
    "**<center> <font color='red'>THANK YOU FOR YOUR EFFORT!</font></center>**"
   ]
  }
 ],
 "metadata": {
  "kernelspec": {
   "display_name": "Python 3",
   "language": "python",
   "name": "python3"
  },
  "language_info": {
   "codemirror_mode": {
    "name": "ipython",
    "version": 3
   },
   "file_extension": ".py",
   "mimetype": "text/x-python",
   "name": "python",
   "nbconvert_exporter": "python",
   "pygments_lexer": "ipython3",
   "version": "3.8.5"
  }
 },
 "nbformat": 4,
 "nbformat_minor": 2
}
