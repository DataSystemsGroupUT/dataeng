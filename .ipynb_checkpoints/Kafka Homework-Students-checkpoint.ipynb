{
 "cells": [
  {
   "cell_type": "markdown",
   "metadata": {},
   "source": [
    "# Week 5: Data Ingestion (Kafka)\n"
   ]
  },
  {
   "cell_type": "markdown",
   "metadata": {},
   "source": [
    "![](https://camo.githubusercontent.com/56166d361c3975dee750ecce16d605bbbf66516b/68747470733a2f2f75706c6f61642e77696b696d656469612e6f72672f77696b6970656469612f636f6d6d6f6e732f352f35332f4170616368655f6b61666b615f776f7264747970652e737667)"
   ]
  },
  {
   "cell_type": "markdown",
   "metadata": {},
   "source": [
    "### Student ID: [#####]\n",
    "### Subtasks Done: [#,#,..]"
   ]
  },
  {
   "cell_type": "markdown",
   "metadata": {},
   "source": [
    "# Working with sensor data\n",
    "\n",
    "We want to monitor the status of three smart buildings.\n",
    "Each building has 8 floors and each floor has 20 rooms, that have a max capacity of 10 people each.\n",
    "\n",
    "Rooms are equipped with sensors that counts how many people are currently inside the rooms. \n",
    "\n",
    "Due to COVID-19, we want monitor how many people are in the various rooms, floors, and buildings."
   ]
  },
  {
   "cell_type": "markdown",
   "metadata": {},
   "source": [
    "![](./buildings.png)"
   ]
  },
  {
   "cell_type": "markdown",
   "metadata": {},
   "source": [
    "# Notes before starting!!!\n",
    " \n",
    "- Look at the whole notebook (tasks) before starting\n",
    "    - (Hint: task 2 and 3 depends on 0 and 1)\n",
    "- you can create as many topics as you want \n",
    "    - (Hint 3 or more)\n",
    "- each topic in the exercise should have **at least** 2 partitions. \n",
    "    - (HINT: to decide how many partition look at task 3)\n",
    "- we assume a replication factor of 1 for all the topics is sufficient.\n",
    "- The minimal required dependencies have been already imported."
   ]
  },
  {
   "cell_type": "markdown",
   "metadata": {},
   "source": [
    "## Task 0: Setting the environment"
   ]
  },
  {
   "cell_type": "code",
   "execution_count": 1,
   "metadata": {},
   "outputs": [],
   "source": [
    "from confluent_kafka import SerializingProducer, DeserializingConsumer\n",
    "from confluent_kafka.serialization import StringSerializer, StringDeserializer\n",
    "from confluent_kafka.serialization import IntegerSerializer, IntegerDeserializer\n",
    "from confluent_kafka.admin import AdminClient, NewTopic, NewPartitions\n",
    "from uuid import uuid4\n",
    "import sys, lorem, random, time, json, csv\n",
    "\n",
    "brokers = \"kafka1:9092,kafka2:9093\"\n",
    "topics = [\"ingestion\", \"by_floor\", \"by_building\"] ## Add here your topics"
   ]
  },
  {
   "cell_type": "markdown",
   "metadata": {},
   "source": [
    "####  Create new topics"
   ]
  },
  {
   "cell_type": "code",
   "execution_count": 3,
   "metadata": {},
   "outputs": [
    {
     "data": {
      "text/plain": [
       "{'ingestion': <Future at 0x7f8184430370 state=running>,\n",
       " 'by_floor': <Future at 0x7f81841ec190 state=running>,\n",
       " 'by_building': <Future at 0x7f81841ec850 state=running>}"
      ]
     },
     "execution_count": 3,
     "metadata": {},
     "output_type": "execute_result"
    }
   ],
   "source": [
    "new_topics = [NewTopic(topic, num_partitions=3, replication_factor=1) for topic in topics]\n",
    "a = AdminClient({'bootstrap.servers': brokers})\n",
    "\n",
    "a.create_topics(new_topics)"
   ]
  },
  {
   "cell_type": "code",
   "execution_count": 4,
   "metadata": {},
   "outputs": [],
   "source": [
    "new_parts = [NewPartitions(topics[0], int(24))]\n",
    "fs = a.create_partitions(new_parts, validate_only=False)"
   ]
  },
  {
   "cell_type": "code",
   "execution_count": 5,
   "metadata": {},
   "outputs": [
    {
     "name": "stdout",
     "output_type": "stream",
     "text": [
      "by_floor\n",
      "dict_values([PartitionMetadata(0), PartitionMetadata(1), PartitionMetadata(2)])\n",
      "by_building\n",
      "dict_values([PartitionMetadata(0), PartitionMetadata(1), PartitionMetadata(2)])\n",
      "_schemas\n",
      "dict_values([PartitionMetadata(0)])\n",
      "__consumer_offsets\n",
      "dict_values([PartitionMetadata(0), PartitionMetadata(1), PartitionMetadata(2), PartitionMetadata(3), PartitionMetadata(4), PartitionMetadata(5), PartitionMetadata(6), PartitionMetadata(7), PartitionMetadata(8), PartitionMetadata(9), PartitionMetadata(10), PartitionMetadata(11), PartitionMetadata(12), PartitionMetadata(13), PartitionMetadata(14), PartitionMetadata(15), PartitionMetadata(16), PartitionMetadata(17), PartitionMetadata(18), PartitionMetadata(19), PartitionMetadata(20), PartitionMetadata(21), PartitionMetadata(22), PartitionMetadata(23), PartitionMetadata(24), PartitionMetadata(25), PartitionMetadata(26), PartitionMetadata(27), PartitionMetadata(28), PartitionMetadata(29), PartitionMetadata(30), PartitionMetadata(31), PartitionMetadata(32), PartitionMetadata(33), PartitionMetadata(34), PartitionMetadata(35), PartitionMetadata(36), PartitionMetadata(37), PartitionMetadata(38), PartitionMetadata(39), PartitionMetadata(40), PartitionMetadata(41), PartitionMetadata(42), PartitionMetadata(43), PartitionMetadata(44), PartitionMetadata(45), PartitionMetadata(46), PartitionMetadata(47), PartitionMetadata(48), PartitionMetadata(49)])\n",
      "ingestion\n",
      "dict_values([PartitionMetadata(0), PartitionMetadata(1), PartitionMetadata(2), PartitionMetadata(3), PartitionMetadata(4), PartitionMetadata(5), PartitionMetadata(6), PartitionMetadata(7), PartitionMetadata(8), PartitionMetadata(9), PartitionMetadata(10), PartitionMetadata(11), PartitionMetadata(12), PartitionMetadata(13), PartitionMetadata(14), PartitionMetadata(15), PartitionMetadata(16), PartitionMetadata(17), PartitionMetadata(18), PartitionMetadata(19), PartitionMetadata(20), PartitionMetadata(21), PartitionMetadata(22), PartitionMetadata(23)])\n",
      "_confluent-metrics\n",
      "dict_values([PartitionMetadata(0), PartitionMetadata(1), PartitionMetadata(2), PartitionMetadata(3), PartitionMetadata(4), PartitionMetadata(5), PartitionMetadata(6), PartitionMetadata(7), PartitionMetadata(8), PartitionMetadata(9), PartitionMetadata(10), PartitionMetadata(11)])\n",
      "__confluent.support.metrics\n",
      "dict_values([PartitionMetadata(0)])\n"
     ]
    }
   ],
   "source": [
    "for t in a.list_topics().topics.values():\n",
    "    print(t)\n",
    "    print(t.partitions.values())"
   ]
  },
  {
   "cell_type": "code",
   "execution_count": null,
   "metadata": {},
   "outputs": [],
   "source": []
  },
  {
   "cell_type": "markdown",
   "metadata": {},
   "source": [
    "## Task 1: Counting People\n",
    "\n",
    "Write a Kafka Producer that generates the observations every 5 seconds (system time)\n",
    "for each building, floor, and room, and pushes them to a topic.\n",
    "\n",
    "We recommend \"murmur2_random\" as partitioner."
   ]
  },
  {
   "cell_type": "markdown",
   "metadata": {},
   "source": [
    "#### Populate the topics with 1000 observations"
   ]
  },
  {
   "cell_type": "code",
   "execution_count": 38,
   "metadata": {},
   "outputs": [],
   "source": [
    "pconf = {\n",
    "    'bootstrap.servers': brokers,\n",
    "    'partitioner': 'murmur2_random',\n",
    "    'key.serializer': StringSerializer('utf_8'),\n",
    "    'value.serializer':  StringSerializer()\n",
    "}"
   ]
  },
  {
   "cell_type": "code",
   "execution_count": 39,
   "metadata": {},
   "outputs": [],
   "source": [
    "p = SerializingProducer(pconf)"
   ]
  },
  {
   "cell_type": "markdown",
   "metadata": {},
   "source": [
    "#### Populate a topic with the 1000 observations in obs.csv, sending one every 5 seconds (system time)\n",
    "\n",
    "#### Hints:\n",
    "- represent the message as a json\n",
    "- use the a random key (check the json)"
   ]
  },
  {
   "cell_type": "code",
   "execution_count": null,
   "metadata": {},
   "outputs": [],
   "source": [
    "f = open('obs.csv', 'r')\n",
    "with f:\n",
    "    reader = csv.reader(f)\n",
    "    for row in reader:\n",
    "        try:\n",
    "    \n",
    "            k = { 'building': row[2], 'floor': row[3] }\n",
    "            v = { 'room': row[4], 'count': row[1], 'uuid': row[0]}\n",
    "\n",
    "            p.produce(topics[0], key=json.dumps(k), value=json.dumps(v))\n",
    "            p.poll(0)\n",
    "            p.flush()\n",
    "            time.sleep(5)\n",
    "        except KeyboardInterrupt:\n",
    "            sys.stderr.write('%% Aborted by user\\n')\n",
    "        except BufferError:\n",
    "            sys.stderr.write('%% Local producer queue is full (%d messages awaiting delivery): try again\\n' % len(p))"
   ]
  },
  {
   "cell_type": "markdown",
   "metadata": {},
   "source": [
    "## Task 2: Reading observations\n",
    "\n",
    "Write a Kafka Consumer that reads the previous topic and prints the result out."
   ]
  },
  {
   "cell_type": "code",
   "execution_count": 11,
   "metadata": {},
   "outputs": [],
   "source": [
    "consumer_conf = {\n",
    "    'bootstrap.servers': brokers,\n",
    "    'key.deserializer': StringDeserializer('utf_8'),\n",
    "    'value.deserializer': StringDeserializer(),\n",
    "    'group.id': str(uuid4()),\n",
    "    'session.timeout.ms': 6000,\n",
    "    'auto.offset.reset': 'earliest'\n",
    "}"
   ]
  },
  {
   "cell_type": "code",
   "execution_count": 12,
   "metadata": {},
   "outputs": [],
   "source": [
    "consumer = DeserializingConsumer(consumer_conf)\n",
    "consumer.subscribe([topics[0]])"
   ]
  },
  {
   "cell_type": "code",
   "execution_count": 13,
   "metadata": {},
   "outputs": [
    {
     "data": {
      "text/plain": [
       "'ingestion'"
      ]
     },
     "execution_count": 13,
     "metadata": {},
     "output_type": "execute_result"
    }
   ],
   "source": [
    "topics[0]"
   ]
  },
  {
   "cell_type": "markdown",
   "metadata": {},
   "source": [
    "#### Consume 1000 observations"
   ]
  },
  {
   "cell_type": "code",
   "execution_count": 14,
   "metadata": {
    "scrolled": true
   },
   "outputs": [
    {
     "name": "stdout",
     "output_type": "stream",
     "text": [
      "2 : {\"building\": \"2\", \"floor\": \"1\"}->{\"count\": \"7\", \"uuid\": \"3263b63d-a202-476e-9caa-e78edbe66d8d\", \"room\": \"12\"}\n",
      "2 : {\"building\": \"2\", \"floor\": \"1\"}->{\"count\": \"6\", \"uuid\": \"5f9dd42c-812f-4210-b330-32806673a98b\", \"room\": \"1\"}\n",
      "4 : {\"building\": \"1\", \"floor\": \"6\"}->{\"count\": \"2\", \"uuid\": \"fcb8180a-377c-4e52-b032-1384a3b0b9c4\", \"room\": \"8\"}\n",
      "4 : {\"building\": \"1\", \"floor\": \"6\"}->{\"count\": \"4\", \"uuid\": \"893437bd-38d5-426a-a373-bf6d57ee6e63\", \"room\": \"11\"}\n",
      "6 : {\"building\": \"0\", \"floor\": \"1\"}->{\"count\": \"5\", \"uuid\": \"dae9bef5-1edc-496d-8bb4-dd63906546b8\", \"room\": \"13\"}\n",
      "6 : {\"building\": \"0\", \"floor\": \"1\"}->{\"count\": \"0\", \"uuid\": \"f60dd459-8eda-458e-a080-6b984f01cbe3\", \"room\": \"17\"}\n",
      "6 : {\"building\": \"0\", \"floor\": \"1\"}->{\"count\": \"4\", \"uuid\": \"ce7bc6af-4454-4e76-8a43-8bd7965a7c2f\", \"room\": \"11\"}\n",
      "8 : {\"building\": \"2\", \"floor\": \"2\"}->{\"count\": \"0\", \"uuid\": \"8ac9edde-a1c9-4350-8a16-a6db00c64f14\", \"room\": \"3\"}\n",
      "8 : {\"building\": \"0\", \"floor\": \"3\"}->{\"count\": \"6\", \"uuid\": \"4071de10-7dc1-49d3-aa6c-693a9e6b1196\", \"room\": \"2\"}\n",
      "8 : {\"building\": \"0\", \"floor\": \"3\"}->{\"count\": \"1\", \"uuid\": \"d408dfe6-b215-485a-aad3-528d4143f188\", \"room\": \"4\"}\n",
      "8 : {\"building\": \"0\", \"floor\": \"3\"}->{\"count\": \"6\", \"uuid\": \"2a237f9b-56e4-4b39-9ad5-3d7f29149d9f\", \"room\": \"16\"}\n",
      "10 : {\"building\": \"2\", \"floor\": \"0\"}->{\"count\": \"9\", \"uuid\": \"1051596c-21a5-47b0-b63e-efab157c92e6\", \"room\": \"16\"}\n",
      "10 : {\"building\": \"2\", \"floor\": \"0\"}->{\"count\": \"9\", \"uuid\": \"ea9af3d1-9639-4dc7-9614-772452b0bd06\", \"room\": \"15\"}\n",
      "12 : {\"building\": \"0\", \"floor\": \"6\"}->{\"count\": \"3\", \"uuid\": \"79b7585c-c56a-46c9-8278-b6935fb89c62\", \"room\": \"11\"}\n",
      "12 : {\"building\": \"1\", \"floor\": \"5\"}->{\"count\": \"4\", \"uuid\": \"e0207da1-2ff9-419b-a8a7-7f2559e95611\", \"room\": \"14\"}\n",
      "12 : {\"building\": \"1\", \"floor\": \"5\"}->{\"count\": \"3\", \"uuid\": \"954215bf-cfc3-43ae-a70b-bb030d15fd68\", \"room\": \"13\"}\n",
      "12 : {\"building\": \"0\", \"floor\": \"6\"}->{\"count\": \"3\", \"uuid\": \"37de8704-5db6-42db-9391-18446f54c5ca\", \"room\": \"9\"}\n",
      "12 : {\"building\": \"0\", \"floor\": \"6\"}->{\"count\": \"7\", \"uuid\": \"2e6fe083-25f4-472e-96a3-4d745107d72d\", \"room\": \"0\"}\n",
      "12 : {\"building\": \"0\", \"floor\": \"6\"}->{\"count\": \"5\", \"uuid\": \"0d3142d7-5e02-452c-9d67-48fef7dac338\", \"room\": \"18\"}\n",
      "16 : {\"building\": \"2\", \"floor\": \"4\"}->{\"count\": \"4\", \"uuid\": \"545d4eee-7849-4d24-a293-881ca3adec71\", \"room\": \"2\"}\n",
      "20 : {\"building\": \"2\", \"floor\": \"5\"}->{\"count\": \"6\", \"uuid\": \"9b19ffb8-33b8-4df5-bc84-3ae4880c759f\", \"room\": \"12\"}\n",
      "22 : {\"building\": \"0\", \"floor\": \"2\"}->{\"count\": \"0\", \"uuid\": \"1a72c1ac-a41a-4bfb-ae33-d8374503b1b6\", \"room\": \"7\"}\n",
      "22 : {\"building\": \"1\", \"floor\": \"2\"}->{\"count\": \"3\", \"uuid\": \"553dbef7-a38c-446b-a4ab-2427811ce0b4\", \"room\": \"7\"}\n",
      "22 : {\"building\": \"0\", \"floor\": \"2\"}->{\"count\": \"3\", \"uuid\": \"cb853dd8-b88e-4573-a5ef-301b758aa846\", \"room\": \"8\"}\n",
      "5 : {\"building\": \"1\", \"floor\": \"4\"}->{\"count\": \"0\", \"uuid\": \"88789d88-c5a6-4fae-b29a-0ffc62900607\", \"room\": \"2\"}\n",
      "9 : {\"building\": \"0\", \"floor\": \"5\"}->{\"count\": \"8\", \"uuid\": \"df8d5082-c8e4-412b-888a-3292064b926e\", \"room\": \"15\"}\n",
      "9 : {\"building\": \"0\", \"floor\": \"5\"}->{\"count\": \"6\", \"uuid\": \"4c589a4c-27d9-4deb-ac4a-96850a5c4126\", \"room\": \"12\"}\n",
      "11 : {\"building\": \"1\", \"floor\": \"0\"}->{\"count\": \"1\", \"uuid\": \"69e7bf8c-931d-4cd9-a359-2fb1866f2698\", \"room\": \"6\"}\n",
      "11 : {\"building\": \"1\", \"floor\": \"0\"}->{\"count\": \"2\", \"uuid\": \"120a26f2-3119-4c4d-badd-d9bc8eb6c6d6\", \"room\": \"15\"}\n",
      "11 : {\"building\": \"1\", \"floor\": \"7\"}->{\"count\": \"0\", \"uuid\": \"bb69bb41-b19a-4090-9539-43caee72a910\", \"room\": \"6\"}\n",
      "15 : {\"building\": \"2\", \"floor\": \"6\"}->{\"count\": \"8\", \"uuid\": \"634b3010-2a60-427b-a086-31e7a6e261fe\", \"room\": \"18\"}\n",
      "15 : {\"building\": \"2\", \"floor\": \"6\"}->{\"count\": \"6\", \"uuid\": \"57473145-4e9d-4451-931f-5bf5ac0d26da\", \"room\": \"14\"}\n",
      "15 : {\"building\": \"2\", \"floor\": \"6\"}->{\"count\": \"9\", \"uuid\": \"671b82dc-7b7f-42b9-9df8-28ed844c74e4\", \"room\": \"3\"}\n",
      "15 : {\"building\": \"2\", \"floor\": \"6\"}->{\"count\": \"1\", \"uuid\": \"ad64e144-62c5-4a7d-bad6-c93e7ec02d4b\", \"room\": \"14\"}\n",
      "15 : {\"building\": \"2\", \"floor\": \"6\"}->{\"count\": \"3\", \"uuid\": \"18683b33-5c51-4178-b907-becf2347edd8\", \"room\": \"18\"}\n",
      "15 : {\"building\": \"2\", \"floor\": \"6\"}->{\"count\": \"0\", \"uuid\": \"d9e0206a-2f06-4109-84cc-85af4b2f97fd\", \"room\": \"0\"}\n",
      "15 : {\"building\": \"2\", \"floor\": \"6\"}->{\"count\": \"3\", \"uuid\": \"4c158ef7-487d-44ce-b1b1-dd66831c7fa2\", \"room\": \"15\"}\n",
      "17 : {\"building\": \"2\", \"floor\": \"7\"}->{\"count\": \"2\", \"uuid\": \"edd6ba0d-a000-428d-a70a-1723d6dc15d4\", \"room\": \"15\"}\n",
      "17 : {\"building\": \"2\", \"floor\": \"7\"}->{\"count\": \"3\", \"uuid\": \"f3f24adc-5c56-48df-abad-89b826445006\", \"room\": \"3\"}\n",
      "19 : {\"building\": \"0\", \"floor\": \"4\"}->{\"count\": \"2\", \"uuid\": \"fdfa60a8-47e3-455d-bee4-76a0b0802112\", \"room\": \"9\"}\n",
      "19 : {\"building\": \"0\", \"floor\": \"4\"}->{\"count\": \"4\", \"uuid\": \"d5ca2db7-c2a2-4a9e-ace5-ff520fae4dad\", \"room\": \"16\"}\n",
      "19 : {\"building\": \"0\", \"floor\": \"4\"}->{\"count\": \"2\", \"uuid\": \"2afd174f-d46c-4de0-8ebb-cc540fa11ac7\", \"room\": \"5\"}\n",
      "19 : {\"building\": \"2\", \"floor\": \"3\"}->{\"count\": \"2\", \"uuid\": \"1e1c183e-d4be-4513-8e1f-a6d8ef9a1331\", \"room\": \"18\"}\n",
      "19 : {\"building\": \"2\", \"floor\": \"3\"}->{\"count\": \"2\", \"uuid\": \"a62429cb-313e-49cd-a1af-a8c4d280a0dc\", \"room\": \"13\"}\n",
      "4 : {\"building\": \"1\", \"floor\": \"6\"}->{\"count\": \"0\", \"uuid\": \"fc6e6696-d653-46d6-b8f7-1b1f0762584b\", \"room\": \"9\"}\n",
      "11 : {\"building\": \"1\", \"floor\": \"0\"}->{\"count\": \"8\", \"uuid\": \"6dfd7d4e-8cb4-47b4-a026-30ffb07fdd79\", \"room\": \"15\"}\n",
      "10 : {\"building\": \"2\", \"floor\": \"0\"}->{\"count\": \"4\", \"uuid\": \"b6a4e41e-2287-4ec7-ba92-800d83555131\", \"room\": \"9\"}\n",
      "22 : {\"building\": \"0\", \"floor\": \"2\"}->{\"count\": \"4\", \"uuid\": \"7b69f839-9d9c-4f0d-8f25-f644d7b5b7aa\", \"room\": \"14\"}\n",
      "10 : {\"building\": \"2\", \"floor\": \"0\"}->{\"count\": \"0\", \"uuid\": \"5d58f542-1dd3-4619-9a0c-bf47c5741916\", \"room\": \"5\"}\n",
      "12 : {\"building\": \"1\", \"floor\": \"5\"}->{\"count\": \"7\", \"uuid\": \"3dc47bfc-5b5f-4e86-ac6b-58a424fe24aa\", \"room\": \"15\"}\n",
      "22 : {\"building\": \"0\", \"floor\": \"2\"}->{\"count\": \"3\", \"uuid\": \"4ec4832e-e888-4c2e-9d69-f4b184279f6c\", \"room\": \"6\"}\n",
      "22 : {\"building\": \"1\", \"floor\": \"2\"}->{\"count\": \"2\", \"uuid\": \"8ac5d63d-ec6c-4593-8a0a-2dfc181c91f0\", \"room\": \"14\"}\n",
      "22 : {\"building\": \"1\", \"floor\": \"2\"}->{\"count\": \"1\", \"uuid\": \"e3daf6ab-a341-4abc-a790-e29a289f9397\", \"room\": \"18\"}\n",
      "4 : {\"building\": \"1\", \"floor\": \"6\"}->{\"count\": \"1\", \"uuid\": \"87342742-f37d-4fc9-a727-0529aaef8a50\", \"room\": \"16\"}\n",
      "4 : {\"building\": \"1\", \"floor\": \"6\"}->{\"count\": \"3\", \"uuid\": \"b1e980d0-3ef4-40a5-9f42-35c28c1336ea\", \"room\": \"2\"}\n",
      "4 : {\"building\": \"1\", \"floor\": \"6\"}->{\"count\": \"9\", \"uuid\": \"e5e1bd72-3457-4506-8b0b-0d5c13c0dcce\", \"room\": \"4\"}\n",
      "8 : {\"building\": \"1\", \"floor\": \"1\"}->{\"count\": \"0\", \"uuid\": \"0329f9a7-1a23-4de6-955a-7473804c3494\", \"room\": \"9\"}\n",
      "19 : {\"building\": \"0\", \"floor\": \"4\"}->{\"count\": \"6\", \"uuid\": \"266c8d81-4e06-4724-8269-1c29de943640\", \"room\": \"8\"}\n",
      "20 : {\"building\": \"2\", \"floor\": \"5\"}->{\"count\": \"6\", \"uuid\": \"e31b24ea-f609-4942-8884-a0428eae66e6\", \"room\": \"17\"}\n",
      "6 : {\"building\": \"0\", \"floor\": \"1\"}->{\"count\": \"4\", \"uuid\": \"402eb843-aa23-4771-b5b2-0249ee51ac81\", \"room\": \"17\"}\n",
      "8 : {\"building\": \"1\", \"floor\": \"1\"}->{\"count\": \"6\", \"uuid\": \"4cb45b99-e4f9-4d45-b6d5-dbef4878916e\", \"room\": \"13\"}\n",
      "8 : {\"building\": \"0\", \"floor\": \"3\"}->{\"count\": \"4\", \"uuid\": \"3fb02401-d26e-4ddd-961b-406d47d49ddd\", \"room\": \"18\"}\n",
      "20 : {\"building\": \"2\", \"floor\": \"5\"}->{\"count\": \"1\", \"uuid\": \"c6e9e17d-34da-4fec-9367-549b4a1a7e07\", \"room\": \"15\"}\n",
      "22 : {\"building\": \"0\", \"floor\": \"2\"}->{\"count\": \"3\", \"uuid\": \"24e47d2f-c48b-489e-9c17-b5ad0e452430\", \"room\": \"19\"}\n",
      "4 : {\"building\": \"0\", \"floor\": \"0\"}->{\"count\": \"1\", \"uuid\": \"8bdb2298-d7f7-44d1-82f9-5071916177e0\", \"room\": \"0\"}\n",
      "19 : {\"building\": \"2\", \"floor\": \"3\"}->{\"count\": \"5\", \"uuid\": \"bf16381d-02e3-4891-b117-c32b816c18e2\", \"room\": \"4\"}\n",
      "12 : {\"building\": \"0\", \"floor\": \"6\"}->{\"count\": \"8\", \"uuid\": \"e302bf57-f11a-45e8-9544-7c862c0fef55\", \"room\": \"3\"}\n",
      "22 : {\"building\": \"0\", \"floor\": \"2\"}->{\"count\": \"1\", \"uuid\": \"cfe2ace5-d93f-48c9-bd04-817343e61c6e\", \"room\": \"17\"}\n",
      "16 : {\"building\": \"2\", \"floor\": \"4\"}->{\"count\": \"5\", \"uuid\": \"76287b00-f7ff-4a8a-bcb4-928fe237b165\", \"room\": \"3\"}\n",
      "8 : {\"building\": \"0\", \"floor\": \"3\"}->{\"count\": \"7\", \"uuid\": \"590cf5c4-45b1-4a51-9d6e-466da5db43ab\", \"room\": \"2\"}\n",
      "5 : {\"building\": \"1\", \"floor\": \"4\"}->{\"count\": \"3\", \"uuid\": \"1251d399-a94b-42f0-a3b8-8564a6f50608\", \"room\": \"10\"}\n",
      "19 : {\"building\": \"0\", \"floor\": \"4\"}->{\"count\": \"6\", \"uuid\": \"07b8b43e-2e6a-475d-a261-d15b29b9154a\", \"room\": \"7\"}\n"
     ]
    },
    {
     "name": "stdout",
     "output_type": "stream",
     "text": [
      "12 : {\"building\": \"0\", \"floor\": \"6\"}->{\"count\": \"5\", \"uuid\": \"549d9bf5-ef29-44ca-b1d1-bd5c61b81ede\", \"room\": \"13\"}\n",
      "17 : {\"building\": \"2\", \"floor\": \"7\"}->{\"count\": \"0\", \"uuid\": \"0b721d1d-d523-4fd2-bdb2-6b542cbf037c\", \"room\": \"6\"}\n",
      "12 : {\"building\": \"0\", \"floor\": \"6\"}->{\"count\": \"8\", \"uuid\": \"0763a9f5-eaaa-4c64-addb-c6023e98adb4\", \"room\": \"5\"}\n",
      "8 : {\"building\": \"0\", \"floor\": \"3\"}->{\"count\": \"5\", \"uuid\": \"e906ef94-3cd5-4d49-be0e-a188cfbe1619\", \"room\": \"5\"}\n",
      "19 : {\"building\": \"0\", \"floor\": \"4\"}->{\"count\": \"2\", \"uuid\": \"b01ea143-c580-4a6a-8cfb-285821cc4d47\", \"room\": \"9\"}\n",
      "20 : {\"building\": \"1\", \"floor\": \"3\"}->{\"count\": \"3\", \"uuid\": \"4a1ac5d8-40ca-427a-b854-5f9ae1580f46\", \"room\": \"15\"}\n",
      "5 : {\"building\": \"1\", \"floor\": \"4\"}->{\"count\": \"5\", \"uuid\": \"dc170ea4-6635-4d41-812b-8c72f551e87e\", \"room\": \"12\"}\n",
      "8 : {\"building\": \"2\", \"floor\": \"2\"}->{\"count\": \"4\", \"uuid\": \"49c28b2e-9471-42a6-8772-76edf833f058\", \"room\": \"15\"}\n",
      "12 : {\"building\": \"0\", \"floor\": \"6\"}->{\"count\": \"5\", \"uuid\": \"8ef67c6f-3c87-4688-8298-448d63882869\", \"room\": \"3\"}\n",
      "8 : {\"building\": \"2\", \"floor\": \"2\"}->{\"count\": \"8\", \"uuid\": \"b94315c1-4e13-41e4-80e3-af3b940f985f\", \"room\": \"8\"}\n",
      "8 : {\"building\": \"0\", \"floor\": \"3\"}->{\"count\": \"5\", \"uuid\": \"fe8a0138-28e7-4465-8008-d0835f031621\", \"room\": \"7\"}\n",
      "21 : {\"building\": \"0\", \"floor\": \"7\"}->{\"count\": \"6\", \"uuid\": \"2185f9be-cf70-43b5-bdae-8ab7430e8938\", \"room\": \"13\"}\n",
      "20 : {\"building\": \"2\", \"floor\": \"5\"}->{\"count\": \"2\", \"uuid\": \"6f8e5eb6-c04b-4213-a71d-172cfcfe0b75\", \"room\": \"7\"}\n",
      "8 : {\"building\": \"2\", \"floor\": \"2\"}->{\"count\": \"5\", \"uuid\": \"757852e3-1b28-4e7c-a24d-d0e0a3319e08\", \"room\": \"7\"}\n",
      "4 : {\"building\": \"1\", \"floor\": \"6\"}->{\"count\": \"2\", \"uuid\": \"9de43373-b1ea-4b9b-ab2b-d14927c21393\", \"room\": \"13\"}\n",
      "22 : {\"building\": \"0\", \"floor\": \"2\"}->{\"count\": \"7\", \"uuid\": \"608d0035-7595-41e0-a723-ebfc1a267cf7\", \"room\": \"4\"}\n",
      "22 : {\"building\": \"0\", \"floor\": \"2\"}->{\"count\": \"8\", \"uuid\": \"233985b3-2e07-40b1-bbb3-252ebe0584cb\", \"room\": \"1\"}\n",
      "19 : {\"building\": \"0\", \"floor\": \"4\"}->{\"count\": \"9\", \"uuid\": \"7c8c9e89-1f19-4aaa-b166-77499c179bfd\", \"room\": \"8\"}\n",
      "12 : {\"building\": \"1\", \"floor\": \"5\"}->{\"count\": \"4\", \"uuid\": \"5e7dbba4-3621-49ec-820d-b38296f6089c\", \"room\": \"19\"}\n",
      "8 : {\"building\": \"0\", \"floor\": \"3\"}->{\"count\": \"7\", \"uuid\": \"bb1e911a-6e7c-4308-9375-e80e7e32c4b8\", \"room\": \"10\"}\n",
      "4 : {\"building\": \"0\", \"floor\": \"0\"}->{\"count\": \"7\", \"uuid\": \"9c2f844f-1608-499d-952e-3b56a2fc9bc9\", \"room\": \"19\"}\n",
      "19 : {\"building\": \"0\", \"floor\": \"4\"}->{\"count\": \"2\", \"uuid\": \"c2ebc9a0-11a3-46be-9827-51ebb9c578a6\", \"room\": \"6\"}\n",
      "4 : {\"building\": \"1\", \"floor\": \"6\"}->{\"count\": \"3\", \"uuid\": \"cf671048-61e2-4b66-b8f8-9c3111bb3754\", \"room\": \"0\"}\n",
      "11 : {\"building\": \"1\", \"floor\": \"0\"}->{\"count\": \"2\", \"uuid\": \"c9d48dc1-b5ca-4b8a-8bb5-f4d675a4930f\", \"room\": \"16\"}\n",
      "12 : {\"building\": \"0\", \"floor\": \"6\"}->{\"count\": \"1\", \"uuid\": \"24094670-9bda-430b-b12a-3c82ed8f818c\", \"room\": \"9\"}\n"
     ]
    },
    {
     "name": "stderr",
     "output_type": "stream",
     "text": [
      "%% Aborted by user\n"
     ]
    }
   ],
   "source": [
    "try:\n",
    "    for i in range(0,1000):\n",
    "        msg = consumer.poll(1.0)\n",
    "        if msg is None:\n",
    "            continue\n",
    "        else:\n",
    "            print(str(msg.partition()) + \" : \" + msg.key() + \"->\" + msg.value())\n",
    "except KeyboardInterrupt:\n",
    "    sys.stderr.write('%% Aborted by user\\n')\n",
    "finally:\n",
    "    # Close down consumer to commit final offsets.\n",
    "    consumer.close()"
   ]
  },
  {
   "cell_type": "markdown",
   "metadata": {},
   "source": [
    "## Task 3: Aggregating the number of people \n",
    "\n",
    "Write a Kafka Consumer that reads the previous topics and count\n",
    "the number of people per floor and per building every minute,\n",
    "\n",
    "Always ensure the result are durable (save them in a topic)\n",
    "\n",
    "Carry on the minimal ammount of information in the key and the value (remove unnecessary information)\n",
    "\n",
    "\n"
   ]
  },
  {
   "cell_type": "markdown",
   "metadata": {},
   "source": [
    "##### HINT: How did you organize the data in partitions?"
   ]
  },
  {
   "cell_type": "markdown",
   "metadata": {},
   "source": [
    "#### Change the message key to simplify counting by floor."
   ]
  },
  {
   "cell_type": "code",
   "execution_count": null,
   "metadata": {},
   "outputs": [],
   "source": [
    "consumer_conf = {\n",
    "    'bootstrap.servers': brokers,\n",
    "    ## Your Configuration Code Here\n",
    "}"
   ]
  },
  {
   "cell_type": "code",
   "execution_count": null,
   "metadata": {},
   "outputs": [],
   "source": [
    "## Your consumer Code Here"
   ]
  },
  {
   "cell_type": "code",
   "execution_count": null,
   "metadata": {},
   "outputs": [],
   "source": [
    "pconf = {\n",
    "    'bootstrap.servers': brokers,\n",
    "       ## Your Configuration Code Here\n",
    "}"
   ]
  },
  {
   "cell_type": "code",
   "execution_count": null,
   "metadata": {},
   "outputs": [],
   "source": [
    "## Your producer Code Here"
   ]
  },
  {
   "cell_type": "code",
   "execution_count": null,
   "metadata": {},
   "outputs": [],
   "source": [
    "try:\n",
    "    for i in range(0,1000):\n",
    "          # Your consuming and producing code here\n",
    "except KeyboardInterrupt:\n",
    "    sys.stderr.write('%% Aborted by user\\n')"
   ]
  },
  {
   "cell_type": "markdown",
   "metadata": {},
   "source": [
    "### Total number of people Per Floor"
   ]
  },
  {
   "cell_type": "markdown",
   "metadata": {},
   "source": [
    "keep the local count of people on each floor. Floor are uniquely identified by building and floor number. "
   ]
  },
  {
   "cell_type": "code",
   "execution_count": 15,
   "metadata": {},
   "outputs": [],
   "source": [
    "consumer_conf = {\n",
    "    'bootstrap.servers': brokers,\n",
    "    'key.deserializer': StringDeserializer('utf_8'),\n",
    "    'value.deserializer': StringDeserializer('utf_8'),\n",
    "    'group.id': str(uuid4()),\n",
    "    'session.timeout.ms': 6000,\n",
    "    'auto.offset.reset': 'earliest'\n",
    "}\n",
    "\n",
    "consumer = DeserializingConsumer(consumer_conf)\n",
    "consumer.subscribe([topics[0]])"
   ]
  },
  {
   "cell_type": "code",
   "execution_count": 16,
   "metadata": {},
   "outputs": [],
   "source": [
    "## Your Consumer Code Here"
   ]
  },
  {
   "cell_type": "markdown",
   "metadata": {},
   "source": [
    "### Use the following dictionary to maintain aggregate the results"
   ]
  },
  {
   "cell_type": "code",
   "execution_count": 17,
   "metadata": {},
   "outputs": [],
   "source": [
    "from collections import defaultdict"
   ]
  },
  {
   "cell_type": "code",
   "execution_count": 18,
   "metadata": {},
   "outputs": [],
   "source": [
    "floors = defaultdict(int)"
   ]
  },
  {
   "cell_type": "code",
   "execution_count": null,
   "metadata": {},
   "outputs": [],
   "source": []
  },
  {
   "cell_type": "code",
   "execution_count": 21,
   "metadata": {},
   "outputs": [],
   "source": [
    "try:\n",
    "    for i in range(0,1000):\n",
    "        msg = consumer.poll(0)\n",
    "        if msg is None:\n",
    "            continue\n",
    "        else:\n",
    "            floors[msg.key()] += int(json.loads(msg.value())['count'])\n",
    "except KeyboardInterrupt:\n",
    "    sys.stderr.write('%% Aborted by user\\n')"
   ]
  },
  {
   "cell_type": "code",
   "execution_count": 22,
   "metadata": {},
   "outputs": [
    {
     "data": {
      "text/plain": [
       "defaultdict(int,\n",
       "            {'{\"building\": \"2\", \"floor\": \"1\"}': 13,\n",
       "             '{\"building\": \"1\", \"floor\": \"6\"}': 24,\n",
       "             '{\"building\": \"0\", \"floor\": \"0\"}': 8,\n",
       "             '{\"building\": \"0\", \"floor\": \"1\"}': 13,\n",
       "             '{\"building\": \"2\", \"floor\": \"2\"}': 17,\n",
       "             '{\"building\": \"0\", \"floor\": \"3\"}': 41,\n",
       "             '{\"building\": \"1\", \"floor\": \"1\"}': 6,\n",
       "             '{\"building\": \"2\", \"floor\": \"0\"}': 22,\n",
       "             '{\"building\": \"0\", \"floor\": \"6\"}': 51,\n",
       "             '{\"building\": \"1\", \"floor\": \"5\"}': 18,\n",
       "             '{\"building\": \"2\", \"floor\": \"4\"}': 9,\n",
       "             '{\"building\": \"2\", \"floor\": \"5\"}': 15,\n",
       "             '{\"building\": \"1\", \"floor\": \"3\"}': 9,\n",
       "             '{\"building\": \"0\", \"floor\": \"2\"}': 29,\n",
       "             '{\"building\": \"1\", \"floor\": \"2\"}': 10,\n",
       "             '{\"building\": \"1\", \"floor\": \"4\"}': 13,\n",
       "             '{\"building\": \"0\", \"floor\": \"5\"}': 19,\n",
       "             '{\"building\": \"1\", \"floor\": \"0\"}': 13,\n",
       "             '{\"building\": \"1\", \"floor\": \"7\"}': 0,\n",
       "             '{\"building\": \"2\", \"floor\": \"6\"}': 30,\n",
       "             '{\"building\": \"2\", \"floor\": \"7\"}': 5,\n",
       "             '{\"building\": \"0\", \"floor\": \"4\"}': 41,\n",
       "             '{\"building\": \"2\", \"floor\": \"3\"}': 9,\n",
       "             '{\"building\": \"0\", \"floor\": \"7\"}': 6})"
      ]
     },
     "execution_count": 22,
     "metadata": {},
     "output_type": "execute_result"
    }
   ],
   "source": [
    "floors"
   ]
  },
  {
   "cell_type": "markdown",
   "metadata": {},
   "source": [
    "## Let's visualize the results"
   ]
  },
  {
   "cell_type": "code",
   "execution_count": 33,
   "metadata": {},
   "outputs": [],
   "source": [
    "better_keys = [ json.loads(k)['building']+json.loads(k)['floor'] for k in list(floors.keys())]"
   ]
  },
  {
   "cell_type": "code",
   "execution_count": 35,
   "metadata": {
    "scrolled": false
   },
   "outputs": [
    {
     "data": {
      "text/plain": [
       "<BarContainer object of 24 artists>"
      ]
     },
     "execution_count": 35,
     "metadata": {},
     "output_type": "execute_result"
    },
    {
     "data": {
      "image/png": "[encoded data removed]",
      "text/plain": [
       "<Figure size 432x288 with 1 Axes>"
      ]
     },
     "metadata": {
      "needs_background": "light"
     },
     "output_type": "display_data"
    }
   ],
   "source": [
    "import numpy as np\n",
    "import matplotlib.pyplot as plt\n",
    "plt.bar(sorted(better_keys), floors.values(), color='g')"
   ]
  },
  {
   "cell_type": "markdown",
   "metadata": {},
   "source": [
    "##  Let's save the aggregated result in a topic and progress from there."
   ]
  },
  {
   "cell_type": "code",
   "execution_count": 44,
   "metadata": {},
   "outputs": [],
   "source": [
    "pconf = {\n",
    "    'bootstrap.servers': brokers,\n",
    "    'partitioner': 'murmur2_random',\n",
    "    'key.serializer': StringSerializer('utf_8'),\n",
    "    'value.serializer':  IntegerSerializer()\n",
    "}"
   ]
  },
  {
   "cell_type": "code",
   "execution_count": 45,
   "metadata": {},
   "outputs": [],
   "source": [
    "p2 = SerializingProducer(pconf)"
   ]
  },
  {
   "cell_type": "code",
   "execution_count": 46,
   "metadata": {},
   "outputs": [
    {
     "ename": "TypeError",
     "evalue": "string indices must be integers",
     "output_type": "error",
     "traceback": [
      "\u001b[0;31m---------------------------------------------------------------------------\u001b[0m",
      "\u001b[0;31mTypeError\u001b[0m                                 Traceback (most recent call last)",
      "\u001b[0;32m<ipython-input-46-684b35c21a67>\u001b[0m in \u001b[0;36m<module>\u001b[0;34m\u001b[0m\n\u001b[1;32m      1\u001b[0m \u001b[0;32mtry\u001b[0m\u001b[0;34m:\u001b[0m\u001b[0;34m\u001b[0m\u001b[0;34m\u001b[0m\u001b[0m\n\u001b[1;32m      2\u001b[0m     \u001b[0;32mfor\u001b[0m \u001b[0mf\u001b[0m \u001b[0;32min\u001b[0m \u001b[0mfloors\u001b[0m\u001b[0;34m.\u001b[0m\u001b[0mkeys\u001b[0m\u001b[0;34m(\u001b[0m\u001b[0;34m)\u001b[0m\u001b[0;34m:\u001b[0m\u001b[0;34m\u001b[0m\u001b[0;34m\u001b[0m\u001b[0m\n\u001b[0;32m----> 3\u001b[0;31m         \u001b[0mp2\u001b[0m\u001b[0;34m.\u001b[0m\u001b[0mproduce\u001b[0m\u001b[0;34m(\u001b[0m\u001b[0mtopics\u001b[0m\u001b[0;34m[\u001b[0m\u001b[0;36m1\u001b[0m\u001b[0;34m]\u001b[0m\u001b[0;34m,\u001b[0m \u001b[0mkey\u001b[0m\u001b[0;34m=\u001b[0m\u001b[0mf\u001b[0m\u001b[0;34m[\u001b[0m\u001b[0;34m'building'\u001b[0m\u001b[0;34m]\u001b[0m\u001b[0;34m,\u001b[0m \u001b[0mvalue\u001b[0m\u001b[0;34m=\u001b[0m\u001b[0mfloors\u001b[0m\u001b[0;34m[\u001b[0m\u001b[0mf\u001b[0m\u001b[0;34m]\u001b[0m\u001b[0;34m)\u001b[0m\u001b[0;34m\u001b[0m\u001b[0;34m\u001b[0m\u001b[0m\n\u001b[0m\u001b[1;32m      4\u001b[0m \u001b[0;32mexcept\u001b[0m \u001b[0mKeyboardInterrupt\u001b[0m\u001b[0;34m:\u001b[0m\u001b[0;34m\u001b[0m\u001b[0;34m\u001b[0m\u001b[0m\n\u001b[1;32m      5\u001b[0m     \u001b[0msys\u001b[0m\u001b[0;34m.\u001b[0m\u001b[0mstderr\u001b[0m\u001b[0;34m.\u001b[0m\u001b[0mwrite\u001b[0m\u001b[0;34m(\u001b[0m\u001b[0;34m'%% Aborted by user\\n'\u001b[0m\u001b[0;34m)\u001b[0m\u001b[0;34m\u001b[0m\u001b[0;34m\u001b[0m\u001b[0m\n",
      "\u001b[0;31mTypeError\u001b[0m: string indices must be integers"
     ]
    }
   ],
   "source": [
    "try:\n",
    "    for f in floors.keys():\n",
    "        p2.produce(topics[2], key=json.loads(f)['building'], value=floors[f])\n",
    "except KeyboardInterrupt:\n",
    "    sys.stderr.write('%% Aborted by user\\n')"
   ]
  },
  {
   "cell_type": "markdown",
   "metadata": {},
   "source": [
    "Let's check the saved data"
   ]
  },
  {
   "cell_type": "code",
   "execution_count": 42,
   "metadata": {},
   "outputs": [],
   "source": [
    "consumer_conf = {\n",
    "    'bootstrap.servers': brokers,\n",
    "    'key.deserializer': StringDeserializer('utf_8'),\n",
    "    'value.deserializer': IntegerDeserializer(),\n",
    "    'group.id': str(uuid4()),\n",
    "    'session.timeout.ms': 6000,\n",
    "    'auto.offset.reset': 'earliest'\n",
    "}\n",
    "\n",
    "consumer = DeserializingConsumer(consumer_conf)\n",
    "consumer.subscribe([topics[1]])"
   ]
  },
  {
   "cell_type": "code",
   "execution_count": 43,
   "metadata": {},
   "outputs": [
    {
     "name": "stdout",
     "output_type": "stream",
     "text": [
      "{\"building\": \"1\", \"floor\": \"6\"}->24\n",
      "{\"building\": \"0\", \"floor\": \"0\"}->8\n",
      "{\"building\": \"2\", \"floor\": \"0\"}->22\n",
      "{\"building\": \"2\", \"floor\": \"4\"}->9\n",
      "{\"building\": \"0\", \"floor\": \"2\"}->29\n",
      "{\"building\": \"1\", \"floor\": \"2\"}->10\n",
      "{\"building\": \"0\", \"floor\": \"4\"}->41\n",
      "{\"building\": \"2\", \"floor\": \"3\"}->9\n",
      "{\"building\": \"0\", \"floor\": \"1\"}->13\n",
      "{\"building\": \"0\", \"floor\": \"6\"}->51\n",
      "{\"building\": \"1\", \"floor\": \"5\"}->18\n",
      "{\"building\": \"0\", \"floor\": \"5\"}->19\n",
      "{\"building\": \"2\", \"floor\": \"6\"}->30\n",
      "{\"building\": \"0\", \"floor\": \"7\"}->6\n",
      "{\"building\": \"2\", \"floor\": \"1\"}->13\n",
      "{\"building\": \"2\", \"floor\": \"2\"}->17\n",
      "{\"building\": \"0\", \"floor\": \"3\"}->41\n",
      "{\"building\": \"1\", \"floor\": \"1\"}->6\n",
      "{\"building\": \"2\", \"floor\": \"5\"}->15\n",
      "{\"building\": \"1\", \"floor\": \"3\"}->9\n",
      "{\"building\": \"1\", \"floor\": \"4\"}->13\n",
      "{\"building\": \"1\", \"floor\": \"0\"}->13\n",
      "{\"building\": \"1\", \"floor\": \"7\"}->0\n",
      "{\"building\": \"2\", \"floor\": \"7\"}->5\n"
     ]
    },
    {
     "name": "stderr",
     "output_type": "stream",
     "text": [
      "%% Aborted by user\n"
     ]
    }
   ],
   "source": [
    "try:\n",
    "    while True:\n",
    "            msg = consumer.poll(1.0)\n",
    "            if msg is None:\n",
    "                continue\n",
    "            else:\n",
    "                print(msg.key() +\"->\"+ str(msg.value()))\n",
    "except KeyboardInterrupt:\n",
    "    sys.stderr.write('%% Aborted by user\\n')\n",
    "finally:\n",
    "    # Close down consumer to commit final offsets.\n",
    "    consumer.close()"
   ]
  },
  {
   "cell_type": "markdown",
   "metadata": {},
   "source": [
    "## Total number of people per building"
   ]
  },
  {
   "cell_type": "code",
   "execution_count": null,
   "metadata": {},
   "outputs": [],
   "source": [
    "consumer_conf = {\n",
    "    'bootstrap.servers': brokers,\n",
    "   ## Your configuration Code Here\n",
    "}"
   ]
  },
  {
   "cell_type": "code",
   "execution_count": null,
   "metadata": {},
   "outputs": [],
   "source": [
    "## Your consumer Code Here"
   ]
  },
  {
   "cell_type": "code",
   "execution_count": null,
   "metadata": {},
   "outputs": [],
   "source": [
    "try:\n",
    "    for i in range(1,1000):\n",
    "         ## Your consuming Code Here\n",
    "except KeyboardInterrupt:\n",
    "    sys.stderr.write('%% Aborted by user\\n')"
   ]
  },
  {
   "cell_type": "markdown",
   "metadata": {},
   "source": [
    "## Let's visualize the results"
   ]
  },
  {
   "cell_type": "code",
   "execution_count": null,
   "metadata": {
    "scrolled": true
   },
   "outputs": [],
   "source": [
    "import numpy as np\n",
    "import matplotlib.pyplot as plt\n",
    "plt.bar(buildings.keys(), buildings.values(), color='g')"
   ]
  },
  {
   "cell_type": "markdown",
   "metadata": {},
   "source": [
    "### Draw the dataflow between topic using a tool of choice"
   ]
  },
  {
   "cell_type": "markdown",
   "metadata": {},
   "source": [
    "![](http://placehold.it/256x256)"
   ]
  },
  {
   "cell_type": "markdown",
   "metadata": {},
   "source": [
    "## Optional Tasks (but useful for preparing the final examm)"
   ]
  },
  {
   "cell_type": "markdown",
   "metadata": {},
   "source": [
    "## Task 4: Add a 1 minute window to the aggreagtion (see wordcount example)"
   ]
  },
  {
   "cell_type": "markdown",
   "metadata": {},
   "source": [
    "## Task 5 Redo Task 0-3 modelling observations using AVRO."
   ]
  },
  {
   "cell_type": "code",
   "execution_count": null,
   "metadata": {},
   "outputs": [],
   "source": []
  }
 ],
 "metadata": {
  "kernelspec": {
   "display_name": "Python 3",
   "language": "python",
   "name": "python3"
  },
  "language_info": {
   "codemirror_mode": {
    "name": "ipython",
    "version": 3
   },
   "file_extension": ".py",
   "mimetype": "text/x-python",
   "name": "python",
   "nbconvert_exporter": "python",
   "pygments_lexer": "ipython3",
   "version": "3.8.6"
  }
 },
 "nbformat": 4,
 "nbformat_minor": 4
}
