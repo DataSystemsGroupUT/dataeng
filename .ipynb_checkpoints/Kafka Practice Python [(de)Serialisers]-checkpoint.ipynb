{
 "cells": [
  {
   "cell_type": "markdown",
   "metadata": {},
   "source": [
    "# Advanced Serializion and Deserializion in Kafka"
   ]
  },
  {
   "cell_type": "markdown",
   "metadata": {},
   "source": [
    "![](https://camo.githubusercontent.com/56166d361c3975dee750ecce16d605bbbf66516b/68747470733a2f2f75706c6f61642e77696b696d656469612e6f72672f77696b6970656469612f636f6d6d6f6e732f352f35332f4170616368655f6b61666b615f776f7264747970652e737667)"
   ]
  },
  {
   "cell_type": "markdown",
   "metadata": {},
   "source": [
    "# Preparing the field"
   ]
  },
  {
   "cell_type": "code",
   "execution_count": 1,
   "metadata": {},
   "outputs": [],
   "source": [
    "from confluent_kafka.admin import AdminClient, NewTopic, NewPartitions"
   ]
  },
  {
   "cell_type": "markdown",
   "metadata": {},
   "source": [
    "### Topics"
   ]
  },
  {
   "cell_type": "code",
   "execution_count": 2,
   "metadata": {},
   "outputs": [],
   "source": [
    "topics = [\"string_topic\", \"avro_topic\"]\n",
    "brokers = \"kafka1:9092,kafka2:9093,\""
   ]
  },
  {
   "cell_type": "markdown",
   "metadata": {},
   "source": [
    "### Preparing the field"
   ]
  },
  {
   "cell_type": "code",
   "execution_count": 3,
   "metadata": {},
   "outputs": [],
   "source": [
    "a = AdminClient(conf = {'bootstrap.servers': brokers})"
   ]
  },
  {
   "cell_type": "code",
   "execution_count": 4,
   "metadata": {},
   "outputs": [],
   "source": [
    "new_topics = [NewTopic(topic, num_partitions=2, replication_factor=1) for topic in topics]"
   ]
  },
  {
   "cell_type": "code",
   "execution_count": 5,
   "metadata": {},
   "outputs": [
    {
     "name": "stdout",
     "output_type": "stream",
     "text": [
      "Topic string_topic created\n",
      "Topic avro_topic created\n"
     ]
    }
   ],
   "source": [
    "fs = a.create_topics(new_topics)\n",
    "for topic, f in fs.items():\n",
    "    try:\n",
    "        f.result()  # The result itself is None\n",
    "        print(\"Topic {} created\".format(topic))\n",
    "    except Exception as e:\n",
    "        print(\"Failed to create topic {}: {}\".format(topic, e))"
   ]
  },
  {
   "cell_type": "markdown",
   "metadata": {},
   "source": [
    "## Producer"
   ]
  },
  {
   "cell_type": "code",
   "execution_count": 6,
   "metadata": {},
   "outputs": [],
   "source": [
    "from confluent_kafka import SerializingProducer\n",
    "from confluent_kafka.serialization import StringSerializer\n",
    "import json\n",
    "from uuid import uuid4"
   ]
  },
  {
   "cell_type": "code",
   "execution_count": 10,
   "metadata": {},
   "outputs": [],
   "source": [
    "producer_conf = {\n",
    "        'bootstrap.servers': brokers,\n",
    "        'partitioner': 'murmur2_random',\n",
    "        'key.serializer': StringSerializer('utf_8'),\n",
    "        'value.serializer': StringSerializer('utf_8')\n",
    "}"
   ]
  },
  {
   "cell_type": "code",
   "execution_count": 11,
   "metadata": {},
   "outputs": [],
   "source": [
    "producer = SerializingProducer(producer_conf)"
   ]
  },
  {
   "cell_type": "code",
   "execution_count": 12,
   "metadata": {},
   "outputs": [
    {
     "data": {
      "text/plain": [
       "[{'picture': 'http://placehold.it/32x32',\n",
       "  'age': 29,\n",
       "  'name': 'Hull Gardner',\n",
       "  'gender': 'male',\n",
       "  'email': 'hullgardner@kneedles.com',\n",
       "  'phone': '+372 (860) 490-3549',\n",
       "  'address': '946 Victor Road, Adelino, Rhode Island, 3562',\n",
       "  'about': 'Exercitation sint eu voluptate duis dolor ea occaecat officia. Consequat dolor et consectetur non adipisicing anim aliquip non mollit officia qui. Minim excepteur Lorem labore est officia ad voluptate. Consectetur elit aliqua reprehenderit cupidatat officia dolore sunt.\\r\\n'},\n",
       " {'picture': 'http://placehold.it/32x32',\n",
       "  'age': 28,\n",
       "  'name': 'Rice Gonzalez',\n",
       "  'gender': 'male',\n",
       "  'email': 'ricegonzalez@kneedles.com',\n",
       "  'phone': '+372 (956) 471-3802',\n",
       "  'address': '251 Church Avenue, Weedville, Michigan, 9128',\n",
       "  'about': 'Sunt Lorem dolore cillum duis ipsum sit officia dolor elit. Cupidatat magna magna occaecat id incididunt et est enim incididunt ex exercitation est. Ea dolor ad enim duis ea.\\r\\n'},\n",
       " {'picture': 'http://placehold.it/32x32',\n",
       "  'age': 30,\n",
       "  'name': 'Augusta Yates',\n",
       "  'gender': 'female',\n",
       "  'email': 'augustayates@kneedles.com',\n",
       "  'phone': '+372 (937) 447-3768',\n",
       "  'address': '196 Lawton Street, Glenshaw, Palau, 3979',\n",
       "  'about': 'Esse excepteur velit elit dolor Lorem dolore nostrud excepteur reprehenderit eiusmod deserunt sint. Velit Lorem est magna irure et dolore veniam dolore labore labore ea laboris ad nisi. Consequat sit exercitation enim cupidatat esse esse reprehenderit ullamco nisi irure qui laborum nulla.\\r\\n'},\n",
       " {'picture': 'http://placehold.it/32x32',\n",
       "  'age': 27,\n",
       "  'name': 'Acevedo Burns',\n",
       "  'gender': 'male',\n",
       "  'email': 'acevedoburns@kneedles.com',\n",
       "  'phone': '+372 (982) 441-3165',\n",
       "  'address': '572 Bath Avenue, Downsville, Alaska, 1693',\n",
       "  'about': 'Veniam anim in culpa occaecat anim pariatur incididunt adipisicing qui sunt. Labore reprehenderit fugiat reprehenderit irure incididunt laborum mollit laboris duis. Laborum cillum anim qui duis nisi dolor. Qui ut pariatur exercitation eu ullamco minim sunt aliquip veniam ea. Commodo qui reprehenderit eiusmod veniam veniam ad Lorem duis et qui cillum.\\r\\n'},\n",
       " {'picture': 'http://placehold.it/32x32',\n",
       "  'age': 32,\n",
       "  'name': 'Erna Keith',\n",
       "  'gender': 'female',\n",
       "  'email': 'ernakeith@kneedles.com',\n",
       "  'phone': '+372 (930) 554-3624',\n",
       "  'address': '256 Navy Street, Whipholt, American Samoa, 3834',\n",
       "  'about': 'Ad veniam anim deserunt sint veniam et pariatur est. Cillum et aliquip anim consequat quis eiusmod elit. Cillum qui et est magna non irure sint. Fugiat occaecat nostrud consectetur non sunt deserunt fugiat nisi veniam consectetur do incididunt cillum. Adipisicing reprehenderit ex velit consequat et culpa id esse deserunt eiusmod veniam.\\r\\n'}]"
      ]
     },
     "execution_count": 12,
     "metadata": {},
     "output_type": "execute_result"
    }
   ],
   "source": [
    "with open('./data.json') as f:\n",
    "    data = json.load(f)\n",
    "data"
   ]
  },
  {
   "cell_type": "code",
   "execution_count": 13,
   "metadata": {},
   "outputs": [
    {
     "name": "stdout",
     "output_type": "stream",
     "text": [
      "{'picture': 'http://placehold.it/32x32', 'age': 29, 'name': 'Hull Gardner', 'gender': 'male', 'email': 'hullgardner@kneedles.com', 'phone': '+372 (860) 490-3549', 'address': '946 Victor Road, Adelino, Rhode Island, 3562', 'about': 'Exercitation sint eu voluptate duis dolor ea occaecat officia. Consequat dolor et consectetur non adipisicing anim aliquip non mollit officia qui. Minim excepteur Lorem labore est officia ad voluptate. Consectetur elit aliqua reprehenderit cupidatat officia dolore sunt.\\r\\n'}\n",
      "{'picture': 'http://placehold.it/32x32', 'age': 28, 'name': 'Rice Gonzalez', 'gender': 'male', 'email': 'ricegonzalez@kneedles.com', 'phone': '+372 (956) 471-3802', 'address': '251 Church Avenue, Weedville, Michigan, 9128', 'about': 'Sunt Lorem dolore cillum duis ipsum sit officia dolor elit. Cupidatat magna magna occaecat id incididunt et est enim incididunt ex exercitation est. Ea dolor ad enim duis ea.\\r\\n'}\n",
      "{'picture': 'http://placehold.it/32x32', 'age': 30, 'name': 'Augusta Yates', 'gender': 'female', 'email': 'augustayates@kneedles.com', 'phone': '+372 (937) 447-3768', 'address': '196 Lawton Street, Glenshaw, Palau, 3979', 'about': 'Esse excepteur velit elit dolor Lorem dolore nostrud excepteur reprehenderit eiusmod deserunt sint. Velit Lorem est magna irure et dolore veniam dolore labore labore ea laboris ad nisi. Consequat sit exercitation enim cupidatat esse esse reprehenderit ullamco nisi irure qui laborum nulla.\\r\\n'}\n",
      "{'picture': 'http://placehold.it/32x32', 'age': 27, 'name': 'Acevedo Burns', 'gender': 'male', 'email': 'acevedoburns@kneedles.com', 'phone': '+372 (982) 441-3165', 'address': '572 Bath Avenue, Downsville, Alaska, 1693', 'about': 'Veniam anim in culpa occaecat anim pariatur incididunt adipisicing qui sunt. Labore reprehenderit fugiat reprehenderit irure incididunt laborum mollit laboris duis. Laborum cillum anim qui duis nisi dolor. Qui ut pariatur exercitation eu ullamco minim sunt aliquip veniam ea. Commodo qui reprehenderit eiusmod veniam veniam ad Lorem duis et qui cillum.\\r\\n'}\n",
      "{'picture': 'http://placehold.it/32x32', 'age': 32, 'name': 'Erna Keith', 'gender': 'female', 'email': 'ernakeith@kneedles.com', 'phone': '+372 (930) 554-3624', 'address': '256 Navy Street, Whipholt, American Samoa, 3834', 'about': 'Ad veniam anim deserunt sint veniam et pariatur est. Cillum et aliquip anim consequat quis eiusmod elit. Cillum qui et est magna non irure sint. Fugiat occaecat nostrud consectetur non sunt deserunt fugiat nisi veniam consectetur do incididunt cillum. Adipisicing reprehenderit ex velit consequat et culpa id esse deserunt eiusmod veniam.\\r\\n'}\n"
     ]
    }
   ],
   "source": [
    "for m in data:\n",
    "    print(m)\n",
    "    producer.produce(topic=topics[0],key=str(uuid4()),value=str(m))\n",
    "    producer.poll(0)"
   ]
  },
  {
   "cell_type": "code",
   "execution_count": 15,
   "metadata": {},
   "outputs": [
    {
     "data": {
      "text/plain": [
       "0"
      ]
     },
     "execution_count": 15,
     "metadata": {},
     "output_type": "execute_result"
    }
   ],
   "source": [
    "producer.flush()"
   ]
  },
  {
   "cell_type": "markdown",
   "metadata": {},
   "source": [
    "## Consumer"
   ]
  },
  {
   "cell_type": "code",
   "execution_count": 16,
   "metadata": {},
   "outputs": [],
   "source": [
    "from confluent_kafka import DeserializingConsumer\n",
    "from confluent_kafka.serialization import StringDeserializer"
   ]
  },
  {
   "cell_type": "code",
   "execution_count": 17,
   "metadata": {},
   "outputs": [],
   "source": [
    "string_deserializer = StringDeserializer('utf_8')"
   ]
  },
  {
   "cell_type": "code",
   "execution_count": 18,
   "metadata": {},
   "outputs": [],
   "source": [
    "consumer_conf = {\n",
    "    'bootstrap.servers': brokers,\n",
    "    'key.deserializer': string_deserializer,\n",
    "    'value.deserializer': string_deserializer,\n",
    "    'group.id': str(uuid4()),\n",
    "    'session.timeout.ms': 6000,\n",
    "    'auto.offset.reset': 'earliest'\n",
    "}"
   ]
  },
  {
   "cell_type": "code",
   "execution_count": 22,
   "metadata": {},
   "outputs": [
    {
     "data": {
      "text/plain": [
       "'string_topic'"
      ]
     },
     "execution_count": 22,
     "metadata": {},
     "output_type": "execute_result"
    }
   ],
   "source": [
    "consumer = DeserializingConsumer(consumer_conf)\n",
    "consumer.subscribe([topics[0]])\n",
    "topics[0]"
   ]
  },
  {
   "cell_type": "code",
   "execution_count": 23,
   "metadata": {},
   "outputs": [
    {
     "name": "stderr",
     "output_type": "stream",
     "text": [
      "%% Aborted by user\n"
     ]
    }
   ],
   "source": [
    "import sys\n",
    "try:\n",
    "    while True:\n",
    "        # SIGINT can't be handled when polling, limit timeout to 1 second.\n",
    "        msg = consumer.poll(1.0)\n",
    "        if msg is None:\n",
    "            continue\n",
    "        if msg.error():\n",
    "            raise KafkaException(msg.error())\n",
    "        else:\n",
    "            print(\"{} [{}] at offset  {} with key  {}:  {}\".format(msg.topic(), msg.partition(), msg.offset(), str(msg.key()), str(msg.value())))\n",
    "except KeyboardInterrupt:\n",
    "    sys.stderr.write('%% Aborted by user\\n')\n",
    "finally:\n",
    "    # Close down consumer to commit final offsets.\n",
    "    consumer.close()"
   ]
  },
  {
   "cell_type": "markdown",
   "metadata": {},
   "source": [
    "# Apache Avro"
   ]
  },
  {
   "cell_type": "markdown",
   "metadata": {},
   "source": [
    "![](data:image/png;base64,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)"
   ]
  },
  {
   "cell_type": "markdown",
   "metadata": {},
   "source": [
    "Avro is a binary encoding format that uses a schema to specify the structure of the data being encoded.\n",
    "\n",
    "Avro's encoding consists only of values concatenated together, and the there is nothing to identify fields or their datatypes in the byte sequence."
   ]
  },
  {
   "cell_type": "markdown",
   "metadata": {},
   "source": [
    "```json\n",
    "{\n",
    "\"namespace\": \"kafka.exercise.avro\",\n",
    " \"type\": \"record\",\n",
    " \"name\": \"Observation\",\n",
    " \"fields\": [\n",
    "     {\"name\": \"id\", \"type\": \"long\", \"doc\" : \"The observation id\"},\n",
    "     {\"name\": \"value\", \"type\": \"double\", \"doc\" : \"The actual measurement from the sensor\"},\n",
    "     {\"name\": \"measurement\", \"type\": \"string\", \"doc\" : \"The measurement type, e.g., temperature\"},\n",
    "     {\"name\": \"timestamp\", \"type\": \"long\", \"doc\" : \"The measurement timestamp\"}\n",
    " ]\n",
    "}\n",
    "```"
   ]
  },
  {
   "cell_type": "markdown",
   "metadata": {},
   "source": [
    "### Schema Registry"
   ]
  },
  {
   "cell_type": "markdown",
   "metadata": {},
   "source": [
    "Schema registry provides centralized management of schemas\n",
    "* Stores a versioned history of all schemas\n",
    "* Provides a RESTful interface for storing and retrieving Avro schemas\n",
    "* Checks schemas and throws an exception if data does not conform to the schema – Allows evolution of schemas according to the configured compatibility setting"
   ]
  },
  {
   "cell_type": "markdown",
   "metadata": {},
   "source": [
    "![](https://www.marcusvieira.tech/wp-content/uploads/2019/06/screenshot-2019-06-03-at-00.40.39.png)"
   ]
  },
  {
   "cell_type": "code",
   "execution_count": 24,
   "metadata": {},
   "outputs": [],
   "source": [
    "from confluent_kafka.schema_registry import SchemaRegistryClient"
   ]
  },
  {
   "cell_type": "code",
   "execution_count": 25,
   "metadata": {},
   "outputs": [
    {
     "data": {
      "text/plain": [
       "[]"
      ]
     },
     "execution_count": 25,
     "metadata": {},
     "output_type": "execute_result"
    }
   ],
   "source": [
    "schema_registry_conf = {'url': \"http://schema-registry:8081\"}\n",
    "schema_registry_client = SchemaRegistryClient(schema_registry_conf)\n",
    "\n",
    "schema_registry_client.get_subjects()"
   ]
  },
  {
   "cell_type": "code",
   "execution_count": 26,
   "metadata": {},
   "outputs": [],
   "source": [
    "from confluent_kafka.schema_registry.avro import AvroSerializer\n",
    "import random, time\n",
    "from uuid import uuid4"
   ]
  },
  {
   "cell_type": "code",
   "execution_count": 27,
   "metadata": {},
   "outputs": [
    {
     "data": {
      "text/plain": [
       "'{\\n\"namespace\": \"kafka.exercise.avro\",\\n \"type\": \"record\",\\n \"name\": \"Observation\",\\n \"fields\": [\\n     {\"name\": \"id\", \"type\": \"long\", \"doc\" : \"The observation id\"},\\n     {\"name\": \"value\", \"type\": \"double\", \"doc\" : \"The actual measurement from the sensor\"},\\n     {\"name\": \"measurement\", \"type\": \"string\", \"doc\" : \"The measurement type, e.g., temperature\"},\\n     {\"name\": \"timestamp\", \"type\": \"long\", \"doc\" : \"The measurement timestamp\"}\\n ]\\n}'"
      ]
     },
     "execution_count": 27,
     "metadata": {},
     "output_type": "execute_result"
    }
   ],
   "source": [
    "value_schema = open(\"observation.avsc\").read()\n",
    "value_schema"
   ]
  },
  {
   "cell_type": "markdown",
   "metadata": {},
   "source": [
    "## Writing to Topic \"avro_topic\""
   ]
  },
  {
   "cell_type": "code",
   "execution_count": 28,
   "metadata": {},
   "outputs": [],
   "source": [
    "avro_serializer = AvroSerializer(value_schema, schema_registry_client)\n",
    "\n",
    "producer_conf = {'bootstrap.servers': brokers,\n",
    "                 'key.serializer': StringSerializer('utf_8'),\n",
    "                 'value.serializer': avro_serializer,\n",
    "                 'partitioner': 'murmur2_random',\n",
    "}\n",
    "\n",
    "producer = SerializingProducer(producer_conf)"
   ]
  },
  {
   "cell_type": "code",
   "execution_count": 29,
   "metadata": {},
   "outputs": [],
   "source": [
    "rooms = [\"room1\", \"room2\", \"room3\", \"room4\"]"
   ]
  },
  {
   "cell_type": "code",
   "execution_count": 30,
   "metadata": {},
   "outputs": [
    {
     "name": "stdout",
     "output_type": "stream",
     "text": [
      "room2 {'id': 1, 'value': 24.37080295452068, 'measurement': 'temperature', 'timestamp': 1603102789554}\n",
      "room3 {'id': 2, 'value': 30.262965494046583, 'measurement': 'temperature', 'timestamp': 1603102790185}\n",
      "room1 {'id': 3, 'value': 15.669931204367932, 'measurement': 'temperature', 'timestamp': 1603102790191}\n",
      "room2 {'id': 4, 'value': 25.328791768931243, 'measurement': 'temperature', 'timestamp': 1603102790199}\n",
      "room3 {'id': 5, 'value': 26.7696589703205, 'measurement': 'temperature', 'timestamp': 1603102790206}\n",
      "room1 {'id': 6, 'value': 18.612616645039502, 'measurement': 'temperature', 'timestamp': 1603102790212}\n",
      "room2 {'id': 7, 'value': 1.6352841134687046, 'measurement': 'temperature', 'timestamp': 1603102790220}\n",
      "room2 {'id': 8, 'value': 8.857234834915129, 'measurement': 'temperature', 'timestamp': 1603102790226}\n",
      "room2 {'id': 9, 'value': 44.662981770667024, 'measurement': 'temperature', 'timestamp': 1603102790232}\n"
     ]
    }
   ],
   "source": [
    "for i in range(1,10):\n",
    "    value = {\"id\": i, \n",
    "             \"value\": random.uniform(0,50), \n",
    "             \"measurement\":\"temperature\", \n",
    "             \"timestamp\": round(time.time()*1000)}\n",
    "    key = rooms[ random.randint(0,3)]\n",
    "    print(key + \" \" + str(value))\n",
    "    producer.poll(0)\n",
    "    producer.produce(topic=topics[1], value=value, key=key)\n",
    "    producer.flush(1)"
   ]
  },
  {
   "cell_type": "code",
   "execution_count": 31,
   "metadata": {},
   "outputs": [
    {
     "data": {
      "text/plain": [
       "['avro_topic-value']"
      ]
     },
     "execution_count": 31,
     "metadata": {},
     "output_type": "execute_result"
    }
   ],
   "source": [
    "schema_registry_client.get_subjects()"
   ]
  },
  {
   "cell_type": "markdown",
   "metadata": {},
   "source": [
    "Once the producer writes, it communicates with the Schema Registry, registering the schema of the message."
   ]
  },
  {
   "cell_type": "code",
   "execution_count": 32,
   "metadata": {},
   "outputs": [],
   "source": [
    "from confluent_kafka import DeserializingConsumer\n",
    "from confluent_kafka.schema_registry.avro import AvroDeserializer"
   ]
  },
  {
   "cell_type": "code",
   "execution_count": 33,
   "metadata": {},
   "outputs": [],
   "source": [
    "avro_deserializer = AvroDeserializer(value_schema,schema_registry_client)\n",
    "\n",
    "string_deserializer = StringDeserializer('utf_8')"
   ]
  },
  {
   "cell_type": "code",
   "execution_count": 34,
   "metadata": {},
   "outputs": [],
   "source": [
    "consumer_conf = {'bootstrap.servers': brokers,\n",
    "                     'key.deserializer': string_deserializer,\n",
    "                     'value.deserializer': avro_deserializer,\n",
    "                     'group.id': str(uuid4()),\n",
    "                     'auto.offset.reset': \"earliest\"}\n",
    "\n",
    "consumer = DeserializingConsumer(consumer_conf)\n",
    "consumer.subscribe([topics[1]])"
   ]
  },
  {
   "cell_type": "code",
   "execution_count": 35,
   "metadata": {},
   "outputs": [
    {
     "name": "stdout",
     "output_type": "stream",
     "text": [
      "{'id': 1, 'value': 24.37080295452068, 'measurement': 'temperature', 'timestamp': 1603102789554}\n",
      "{'id': 2, 'value': 30.262965494046583, 'measurement': 'temperature', 'timestamp': 1603102790185}\n",
      "{'id': 4, 'value': 25.328791768931243, 'measurement': 'temperature', 'timestamp': 1603102790199}\n",
      "{'id': 5, 'value': 26.7696589703205, 'measurement': 'temperature', 'timestamp': 1603102790206}\n",
      "{'id': 7, 'value': 1.6352841134687046, 'measurement': 'temperature', 'timestamp': 1603102790220}\n",
      "{'id': 8, 'value': 8.857234834915129, 'measurement': 'temperature', 'timestamp': 1603102790226}\n",
      "{'id': 9, 'value': 44.662981770667024, 'measurement': 'temperature', 'timestamp': 1603102790232}\n",
      "{'id': 3, 'value': 15.669931204367932, 'measurement': 'temperature', 'timestamp': 1603102790191}\n",
      "{'id': 6, 'value': 18.612616645039502, 'measurement': 'temperature', 'timestamp': 1603102790212}\n"
     ]
    }
   ],
   "source": [
    "while True:\n",
    "    try:\n",
    "        # SIGINT can't be handled when polling, limit timeout to 1 second.\n",
    "        msg = consumer.poll(1.0)\n",
    "        if msg is None:\n",
    "            continue\n",
    "        m = msg.value()\n",
    "        if m is not None:\n",
    "            print(m)\n",
    "    except KeyboardInterrupt:\n",
    "        break\n",
    "        consumer.close()"
   ]
  },
  {
   "cell_type": "markdown",
   "metadata": {},
   "source": [
    "#### What if we do not know the schema?"
   ]
  },
  {
   "cell_type": "markdown",
   "metadata": {},
   "source": [
    "We can't see this in python because of a bug of the Avro library. However, we can observe it from [Java](link to the other repo class)"
   ]
  },
  {
   "cell_type": "markdown",
   "metadata": {},
   "source": [
    "[Github Rebo Java Code](https://github.com/riccardotommasini/kafka-training/tree/dataeng)"
   ]
  },
  {
   "cell_type": "code",
   "execution_count": null,
   "metadata": {},
   "outputs": [],
   "source": []
  }
 ],
 "metadata": {
  "kernelspec": {
   "display_name": "Python 3",
   "language": "python",
   "name": "python3"
  },
  "language_info": {
   "codemirror_mode": {
    "name": "ipython",
    "version": 3
   },
   "file_extension": ".py",
   "mimetype": "text/x-python",
   "name": "python",
   "nbconvert_exporter": "python",
   "pygments_lexer": "ipython3",
   "version": "3.8.6"
  }
 },
 "nbformat": 4,
 "nbformat_minor": 4
}
