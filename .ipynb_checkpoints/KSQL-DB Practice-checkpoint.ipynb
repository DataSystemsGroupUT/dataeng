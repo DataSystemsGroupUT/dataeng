{
 "cells": [
  {
   "cell_type": "code",
   "execution_count": 16,
   "metadata": {},
   "outputs": [
    {
     "name": "stderr",
     "output_type": "stream",
     "text": [
      "DEBUG:urllib3.connectionpool:Starting new HTTP connection (1): ksqldb-server:8088\n",
      "DEBUG:urllib3.connectionpool:http://ksqldb-server:8088 \"GET /info HTTP/1.1\" 200 133\n"
     ]
    }
   ],
   "source": [
    "import logging\n",
    "from ksql import KSQLAPI\n",
    "logging.basicConfig(level=logging.DEBUG)\n",
    "client = KSQLAPI('http://ksqldb-server:8088')"
   ]
  },
  {
   "cell_type": "code",
   "execution_count": 17,
   "metadata": {},
   "outputs": [
    {
     "name": "stderr",
     "output_type": "stream",
     "text": [
      "DEBUG:root:KSQL generated: show topics\n"
     ]
    },
    {
     "data": {
      "text/plain": [
       "[{'@type': 'kafka_topics',\n",
       "  'statementText': 'show topics;',\n",
       "  'topics': [{'name': 'topic3', 'replicaInfo': [1]}],\n",
       "  'warnings': []}]"
      ]
     },
     "execution_count": 17,
     "metadata": {},
     "output_type": "execute_result"
    }
   ],
   "source": [
    "client.ksql('show topics')"
   ]
  },
  {
   "cell_type": "code",
   "execution_count": 18,
   "metadata": {},
   "outputs": [],
   "source": [
    "results = client.query(\"CREATE TABLE users\"+\n",
    " \" ( )\" +\n",
    " \" WITH (KAFKA_TOPIC = 'topic3', VALUE_FORMAT='JSON', KEY = 'userid');\")"
   ]
  },
  {
   "cell_type": "code",
   "execution_count": 20,
   "metadata": {},
   "outputs": [
    {
     "ename": "ValueError",
     "evalue": "key is required for creating a table.",
     "output_type": "error",
     "traceback": [
      "\u001b[0;31m---------------------------------------------------------------------------\u001b[0m",
      "\u001b[0;31mValueError\u001b[0m                                Traceback (most recent call last)",
      "\u001b[0;32m<ipython-input-20-bd123e9a8caf>\u001b[0m in \u001b[0;36m<module>\u001b[0;34m\u001b[0m\n\u001b[0;32m----> 1\u001b[0;31m client.create_table(table_name=\"users2\",\n\u001b[0m\u001b[1;32m      2\u001b[0m                      \u001b[0mcolumns_type\u001b[0m\u001b[0;34m=\u001b[0m\u001b[0;34m[\u001b[0m\u001b[0;34m'registertime BIGINT'\u001b[0m\u001b[0;34m,\u001b[0m \u001b[0;34m'userid VARCHAR'\u001b[0m\u001b[0;34m,\u001b[0m \u001b[0;34m'gender VARCHAR'\u001b[0m\u001b[0;34m,\u001b[0m \u001b[0;34m'regionid VARCHAR'\u001b[0m\u001b[0;34m]\u001b[0m\u001b[0;34m,\u001b[0m\u001b[0;34m\u001b[0m\u001b[0;34m\u001b[0m\u001b[0m\n\u001b[1;32m      3\u001b[0m                      \u001b[0mtopic\u001b[0m\u001b[0;34m=\u001b[0m\u001b[0;34m'topic3'\u001b[0m\u001b[0;34m,\u001b[0m\u001b[0;34m\u001b[0m\u001b[0;34m\u001b[0m\u001b[0m\n\u001b[1;32m      4\u001b[0m                      value_format='JSON')\n",
      "\u001b[0;32m/opt/conda/lib/python3.8/site-packages/ksql-0.10.3-py3.8.egg/ksql/client.py\u001b[0m in \u001b[0;36mcreate_table\u001b[0;34m(self, table_name, columns_type, topic, value_format, **kwargs)\u001b[0m\n\u001b[1;32m     75\u001b[0m \u001b[0;34m\u001b[0m\u001b[0m\n\u001b[1;32m     76\u001b[0m     \u001b[0;32mdef\u001b[0m \u001b[0mcreate_table\u001b[0m\u001b[0;34m(\u001b[0m\u001b[0mself\u001b[0m\u001b[0;34m,\u001b[0m \u001b[0mtable_name\u001b[0m\u001b[0;34m,\u001b[0m \u001b[0mcolumns_type\u001b[0m\u001b[0;34m,\u001b[0m \u001b[0mtopic\u001b[0m\u001b[0;34m,\u001b[0m \u001b[0mvalue_format\u001b[0m\u001b[0;34m,\u001b[0m \u001b[0;34m**\u001b[0m\u001b[0mkwargs\u001b[0m\u001b[0;34m)\u001b[0m\u001b[0;34m:\u001b[0m\u001b[0;34m\u001b[0m\u001b[0;34m\u001b[0m\u001b[0m\n\u001b[0;32m---> 77\u001b[0;31m         return self.sa.create_table(\n\u001b[0m\u001b[1;32m     78\u001b[0m             \u001b[0mtable_name\u001b[0m\u001b[0;34m=\u001b[0m\u001b[0mtable_name\u001b[0m\u001b[0;34m,\u001b[0m \u001b[0mcolumns_type\u001b[0m\u001b[0;34m=\u001b[0m\u001b[0mcolumns_type\u001b[0m\u001b[0;34m,\u001b[0m \u001b[0mtopic\u001b[0m\u001b[0;34m=\u001b[0m\u001b[0mtopic\u001b[0m\u001b[0;34m,\u001b[0m \u001b[0mvalue_format\u001b[0m\u001b[0;34m=\u001b[0m\u001b[0mvalue_format\u001b[0m\u001b[0;34m,\u001b[0m \u001b[0;34m**\u001b[0m\u001b[0mkwargs\u001b[0m\u001b[0;34m\u001b[0m\u001b[0;34m\u001b[0m\u001b[0m\n\u001b[1;32m     79\u001b[0m         )\n",
      "\u001b[0;32m/opt/conda/lib/python3.8/site-packages/ksql-0.10.3-py3.8.egg/ksql/api.py\u001b[0m in \u001b[0;36mcreate_table\u001b[0;34m(self, table_name, columns_type, topic, value_format)\u001b[0m\n\u001b[1;32m    274\u001b[0m         \u001b[0mkey\u001b[0m \u001b[0;34m=\u001b[0m \u001b[0;32mFalse\u001b[0m\u001b[0;34m\u001b[0m\u001b[0;34m\u001b[0m\u001b[0m\n\u001b[1;32m    275\u001b[0m         \u001b[0;32mfor\u001b[0m \u001b[0mcolumn\u001b[0m \u001b[0;32min\u001b[0m \u001b[0mcolumns_type\u001b[0m\u001b[0;34m:\u001b[0m\u001b[0;34m\u001b[0m\u001b[0;34m\u001b[0m\u001b[0m\n\u001b[0;32m--> 276\u001b[0;31m             \u001b[0mprint\u001b[0m\u001b[0;34m(\u001b[0m\u001b[0mcolumn\u001b[0m\u001b[0;34m)\u001b[0m\u001b[0;34m\u001b[0m\u001b[0;34m\u001b[0m\u001b[0m\n\u001b[0m\u001b[1;32m    277\u001b[0m             \u001b[0mkey\u001b[0m \u001b[0;34m=\u001b[0m \u001b[0mkey\u001b[0m \u001b[0;32mor\u001b[0m \u001b[0;34m(\u001b[0m\u001b[0;34m\"PRIMARY KEY\"\u001b[0m \u001b[0;32min\u001b[0m \u001b[0mcolumn\u001b[0m\u001b[0;34m.\u001b[0m\u001b[0mupper\u001b[0m\u001b[0;34m(\u001b[0m\u001b[0;34m)\u001b[0m\u001b[0;34m)\u001b[0m\u001b[0;34m\u001b[0m\u001b[0;34m\u001b[0m\u001b[0m\n\u001b[1;32m    278\u001b[0m \u001b[0;34m\u001b[0m\u001b[0m\n",
      "\u001b[0;31mValueError\u001b[0m: key is required for creating a table."
     ]
    }
   ],
   "source": [
    "client.create_table(table_name=\"users2\",\n",
    "                     columns_type=['registertime BIGINT', 'userid VARCHAR PRIMARY KEY', 'gender VARCHAR', 'regionid VARCHAR'],\n",
    "                     topic='topic3',\n",
    "                     value_format='JSON')"
   ]
  },
  {
   "cell_type": "code",
   "execution_count": 4,
   "metadata": {},
   "outputs": [
    {
     "name": "stderr",
     "output_type": "stream",
     "text": [
      "DEBUG:root:KSQL generated: show tables\n"
     ]
    },
    {
     "data": {
      "text/plain": [
       "[{'@type': 'tables',\n",
       "  'statementText': 'show tables;',\n",
       "  'tables': [{'type': 'TABLE',\n",
       "    'name': 'USERST',\n",
       "    'topic': 'topic3',\n",
       "    'format': 'JSON',\n",
       "    'isWindowed': False}],\n",
       "  'warnings': []}]"
      ]
     },
     "execution_count": 4,
     "metadata": {},
     "output_type": "execute_result"
    }
   ],
   "source": [
    "client.ksql('show tables')"
   ]
  },
  {
   "cell_type": "code",
   "execution_count": null,
   "metadata": {},
   "outputs": [],
   "source": []
  }
 ],
 "metadata": {
  "kernelspec": {
   "display_name": "Python 3",
   "language": "python",
   "name": "python3"
  },
  "language_info": {
   "codemirror_mode": {
    "name": "ipython",
    "version": 3
   },
   "file_extension": ".py",
   "mimetype": "text/x-python",
   "name": "python",
   "nbconvert_exporter": "python",
   "pygments_lexer": "ipython3",
   "version": "3.8.5"
  }
 },
 "nbformat": 4,
 "nbformat_minor": 4
}
