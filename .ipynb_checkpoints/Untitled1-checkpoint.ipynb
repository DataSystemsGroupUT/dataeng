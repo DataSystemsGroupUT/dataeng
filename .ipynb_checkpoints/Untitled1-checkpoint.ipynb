{
 "cells": [
  {
   "cell_type": "code",
   "execution_count": 21,
   "metadata": {},
   "outputs": [],
   "source": [
    "%mavenRepo ksqlDB http://packages.confluent.io/maven/ "
   ]
  },
  {
   "cell_type": "code",
   "execution_count": 17,
   "metadata": {},
   "outputs": [],
   "source": [
    "%mavenRepo Confluent https://jenkins-confluent-packages-beta-maven.s3.amazonaws.com/6.1.0-beta200715032424/1/maven"
   ]
  },
  {
   "cell_type": "code",
   "execution_count": 23,
   "metadata": {},
   "outputs": [],
   "source": [
    "%%loadFromPOM\n",
    "<repository>\n",
    "    <id>ksqlDB</id>\n",
    "    <name>ksqlDB</name>\n",
    "    <url>https://ksqldb-maven.s3.amazonaws.com/maven/</url>\n",
    "</repository>\n",
    " <repository>\n",
    "    <id>confluent</id>\n",
    "    <name>Confluent</name>\n",
    "  <url>http://packages.confluent.io/maven/ </url>\n",
    "</repository>\n",
    "<dependency>\n",
    "     <groupId>io.confluent.ksql</groupId>\n",
    "     <artifactId>ksqldb-api-client</artifactId>\n",
    "     <version>6.0.0</version>\n",
    "</dependency>"
   ]
  },
  {
   "cell_type": "code",
   "execution_count": 25,
   "metadata": {},
   "outputs": [],
   "source": [
    "import io.confluent.ksql.api.client.Client;\n",
    "import io.confluent.ksql.api.client.ClientOptions;\n",
    "\n",
    "public class ExampleApp {\n",
    "\n",
    "  public static String KSQLDB_SERVER_HOST = \"ksqldb-server\";\n",
    "  public static int KSQLDB_SERVER_HOST_PORT = 8088;\n",
    "\n",
    "  public static void main(String[] args) {\n",
    "    ClientOptions options = ClientOptions.create()\n",
    "        .setHost(KSQLDB_SERVER_HOST)\n",
    "        .setPort(KSQLDB_SERVER_HOST_PORT);\n",
    "    Client client = Client.create(options);\n",
    "\n",
    "    // Send requests with the client by following the other examples\n",
    "\n",
    "    // Terminate any open connections and close the client\n",
    "    client.close();\n",
    "  }\n",
    "}"
   ]
  },
  {
   "cell_type": "code",
   "execution_count": null,
   "metadata": {},
   "outputs": [],
   "source": []
  }
 ],
 "metadata": {
  "kernelspec": {
   "display_name": "Java",
   "language": "java",
   "name": "java"
  },
  "language_info": {
   "codemirror_mode": "java",
   "file_extension": ".jshell",
   "mimetype": "text/x-java-source",
   "name": "Java",
   "pygments_lexer": "java",
   "version": "11.0.9.1+1-Ubuntu-0ubuntu1.20.04"
  }
 },
 "nbformat": 4,
 "nbformat_minor": 4
}
