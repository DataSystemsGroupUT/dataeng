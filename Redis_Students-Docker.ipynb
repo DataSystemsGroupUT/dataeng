{
 "cells": [
  {
   "cell_type": "markdown",
   "metadata": {},
   "source": [
    "# Week 3: Key-Value Stores (Redis)\n",
    "### Student ID: [#####]\n",
    "### Subtasks Done: [#,#,..]"
   ]
  },
  {
   "cell_type": "markdown",
   "metadata": {},
   "source": [
    "# Introduction:\n",
    "\n",
    "### Redis:\n",
    "   <a href=\"https://redis.io/\">Redis</a> Redis is an open source (BSD licensed), in-memory data structure store, used as a database, cache and message broker. It supports data structures such as strings, hashes, lists, sets, sorted sets with range queries, bitmaps, hyperloglogs, geospatial indexes with radius queries and streams.<br/>\n",
    "   \n",
    "<img src=\"https://www.zend.com/sites/zend/files/image/2019-09/logo-redis.jpg\" width =\"250\" >\n"
   ]
  },
  {
   "cell_type": "markdown",
   "metadata": {},
   "source": [
    "#### <a href='https://redislabs.com/redis-enterprise/data-structures/'>Redis Data Structures</a>\n",
    "* Redis is not a plain key-value store, it is actually a data structures server, supporting different kinds of values.\n",
    "* An introduction to Redis data types and abstractions https://redis.io/topics/data-types-intro\n",
    "* Redis keys are always strings.\n",
    "\n",
    "\n",
    "<img src='https://redislabs.com/wp-content/uploads/2020/06/key-value-data-stores-2-v2-920x612.png' width='500' >"
   ]
  },
  {
   "cell_type": "markdown",
   "metadata": {},
   "source": [
    "### How To Query Redis!\n",
    "\n",
    "- Commands for each data type for common access patterns, with bulk operations, and partial transaction support."
   ]
  },
  {
   "cell_type": "markdown",
   "metadata": {},
   "source": [
    "### PreLab\n",
    "\n",
    "#### 1. Install Redis on Windows\n",
    "- Redis is a cross-platform DB, We can install it on Linux, or Windows, ..etc.\n",
    "- There are two ways to install Redis under Windows\n",
    "    - Download the latest Redis .msi file from https://github.com/MSOpenTech/redis/r... and install it. \n",
    "    \n",
    "    - You can choose either from these sources\n",
    "        - https://github.com/microsoftarchive/redis/releases or\n",
    "        - https://github.com/rgl/redis/downloads\n",
    "\n",
    "- Personally I prepared the first option\n",
    "- Download Redis-x64-2.8.2104.zip\n",
    "- Extract the zip to the prepared directory\n",
    "- Run redis-server.exe\n",
    "- Run redis-cli.exe\n",
    "- For more info follow this setup-video tutorial (https://www.youtube.com/watch?v=188Fy-oCw4w)\n",
    "\n",
    "\n",
    "#### Linux and Debian \n",
    "\n",
    "- Even quicker and dirtier instructions for Debian-based Linux distributions are as follows:\n",
    "    - download Redis from http://redis.io/download \n",
    "    - extract, run make && sudo make install\n",
    "    - Then run sudo python -m easy_install redis hiredis (hiredis is an optional performance-improving C library).\n",
    "\n",
    "#### 2. Install the Python Package (\"<a href='https://pypi.org/project/redis/'>redis</a>\") to connecto to Redis \n",
    "- use th command ```pip install redis``` in your command line.\n",
    "\n",
    "\n",
    "#### (more) Accessing Redis from Command Line:\n",
    "- Add the Redis installation \"/home\" and \"/bin\" directories to the environment variables.\n",
    "- start Redis server in one command window(CMD, poweshell, ..etc)using the command ```redis-server```.\n",
    "- In another command window, start your Redis Client using the command ```redis-cli```\n",
    "- Now you have the Redis Client Shell connected to the default <b>db0</b> DB. "
   ]
  },
  {
   "cell_type": "code",
   "execution_count": null,
   "metadata": {},
   "outputs": [],
   "source": [
    "! pip install redis"
   ]
  },
  {
   "cell_type": "code",
   "execution_count": null,
   "metadata": {},
   "outputs": [],
   "source": [
    "import redis\n",
    "from pprint import pprint\n",
    "import pandas as pd\n",
    "from time import sleep\n",
    "\n",
    "import warnings\n",
    "warnings.filterwarnings('ignore')"
   ]
  },
  {
   "cell_type": "markdown",
   "metadata": {},
   "source": [
    "##### Get a client connection to redis server, using the url and the port, and Db"
   ]
  },
  {
   "cell_type": "code",
   "execution_count": null,
   "metadata": {},
   "outputs": [],
   "source": [
    "r = redis.Redis(host='redis', port=6379, db=0)"
   ]
  },
  {
   "cell_type": "markdown",
   "metadata": {},
   "source": [
    "## Task 0: First Steps in Redis"
   ]
  },
  {
   "cell_type": "markdown",
   "metadata": {},
   "source": [
    "### Demo the string keys"
   ]
  },
  {
   "cell_type": "code",
   "execution_count": null,
   "metadata": {},
   "outputs": [],
   "source": [
    "r.set('language','Python')"
   ]
  },
  {
   "cell_type": "markdown",
   "metadata": {},
   "source": [
    "##### Key expiration (e.g Think about Sessions management )\n",
    "\n",
    "\n",
    "- By default, keys are retained, but we can make our keys (data) vanish after a specified time.\n",
    "- This can be set while creating the key, or for already existing keys."
   ]
  },
  {
   "cell_type": "code",
   "execution_count": null,
   "metadata": {},
   "outputs": [],
   "source": [
    "## use expire(key,time in_secs), after this time key will vanish\n",
    "print(r.expire('language', 6))\n",
    "#ttl(key) time_to_live, checks remaining time to live! \n",
    "print(r.ttl('language'))\n",
    "sleep(3)\n",
    "print(r.ttl('language'))"
   ]
  },
  {
   "cell_type": "markdown",
   "metadata": {},
   "source": [
    "#### Check if the key already expired!\n",
    "- Use exists(key) function"
   ]
  },
  {
   "cell_type": "code",
   "execution_count": null,
   "metadata": {},
   "outputs": [],
   "source": [
    "###YOUR CODE HERE"
   ]
  },
  {
   "cell_type": "markdown",
   "metadata": {},
   "source": [
    "#### Setting multiple String Keys, values "
   ]
  },
  {
   "cell_type": "code",
   "execution_count": null,
   "metadata": {},
   "outputs": [],
   "source": [
    "r.mset({\"Croatia\": \"Zagreb\", \"Bahamas\": \"Nassau\"})"
   ]
  },
  {
   "cell_type": "markdown",
   "metadata": {},
   "source": [
    "#### Get the value of the key 'Croatia'"
   ]
  },
  {
   "cell_type": "code",
   "execution_count": null,
   "metadata": {},
   "outputs": [],
   "source": [
    "###YOUR CODE HERE"
   ]
  },
  {
   "cell_type": "markdown",
   "metadata": {},
   "source": [
    "#### Set String as JSON value "
   ]
  },
  {
   "cell_type": "code",
   "execution_count": null,
   "metadata": {},
   "outputs": [],
   "source": [
    "r.set('myJsonData' , '{\"name\": \"Ragab\", \"age\": 40}')"
   ]
  },
  {
   "cell_type": "markdown",
   "metadata": {},
   "source": [
    "#### Get the previous JSON value"
   ]
  },
  {
   "cell_type": "code",
   "execution_count": null,
   "metadata": {},
   "outputs": [],
   "source": [
    "###YOUR CODE HERE"
   ]
  },
  {
   "cell_type": "markdown",
   "metadata": {},
   "source": [
    "#### Rename the key 'myjsonData' into 'myJsonInfo'"
   ]
  },
  {
   "cell_type": "code",
   "execution_count": null,
   "metadata": {},
   "outputs": [],
   "source": [
    "r.rename('myJsonData', 'myJsonInfo')"
   ]
  },
  {
   "cell_type": "markdown",
   "metadata": {},
   "source": [
    "#### Delete 'myJsonInfo' key-value pair."
   ]
  },
  {
   "cell_type": "code",
   "execution_count": null,
   "metadata": {},
   "outputs": [],
   "source": [
    "###YOUR CODE HERE"
   ]
  },
  {
   "cell_type": "markdown",
   "metadata": {},
   "source": [
    "#### Check if it's deleted already !"
   ]
  },
  {
   "cell_type": "code",
   "execution_count": null,
   "metadata": {},
   "outputs": [],
   "source": [
    "# we try to get the value of that key!\n",
    "print(r.get('myJsonInfo'))\n",
    "\n",
    "#or we can check if it's not existing any more !\n",
    "print(r.exists ('myJsonInfo'))"
   ]
  },
  {
   "cell_type": "markdown",
   "metadata": {},
   "source": [
    "### Demo The Lists\n",
    "\n",
    "- Think of Lists as ordered sequence of strings like java ArrayList, javasrcript array, or python n lists.\n",
    "- We can use lists to implement stacks and queues.\n",
    "    - If you need a **Queue**, just use **RPUSH** and **LPOP**.\n",
    "    - If you need a **Stack**, just use **RPUSH** and **RPOP**.\n",
    "- Lists can **accept duplicates**.\n",
    "- A single Resid List can hold over **4B** entries!!\n"
   ]
  },
  {
   "cell_type": "markdown",
   "metadata": {},
   "source": [
    "#### Create a List of customers, and add elements to it!"
   ]
  },
  {
   "cell_type": "code",
   "execution_count": null,
   "metadata": {},
   "outputs": [],
   "source": [
    "r.lpush('customers','Ragab')"
   ]
  },
  {
   "cell_type": "markdown",
   "metadata": {},
   "source": [
    "This will return \"1\" meaning the list now contains only one element"
   ]
  },
  {
   "cell_type": "code",
   "execution_count": null,
   "metadata": {},
   "outputs": [],
   "source": [
    "r.lpush('customers','Riccardo')"
   ]
  },
  {
   "cell_type": "code",
   "execution_count": null,
   "metadata": {},
   "outputs": [],
   "source": [
    "r.lpush('customers','Riccardo')"
   ]
  },
  {
   "cell_type": "markdown",
   "metadata": {},
   "source": [
    "#### Get current memebrs of the list\n",
    "- Hint: use <code>lrange</code> function"
   ]
  },
  {
   "cell_type": "code",
   "execution_count": null,
   "metadata": {},
   "outputs": [],
   "source": [
    "###YOUR CODE HERE"
   ]
  },
  {
   "cell_type": "markdown",
   "metadata": {},
   "source": [
    "* We can clearly notice that **LPUSH** function/command adds elements to the left of the list.\n",
    "* and that Lists also **accept duplicate** items."
   ]
  },
  {
   "cell_type": "markdown",
   "metadata": {},
   "source": [
    "#### Adding element to the Right of the customers list\n",
    "- Add customer 'Kim' to the right of the list\n",
    "- Use <code>rpush</code> function"
   ]
  },
  {
   "cell_type": "code",
   "execution_count": null,
   "metadata": {},
   "outputs": [],
   "source": [
    "###YOUR CODE HERE"
   ]
  },
  {
   "cell_type": "code",
   "execution_count": null,
   "metadata": {},
   "outputs": [],
   "source": [
    "#check the list elements again\n",
    "r.lrange('customers',0,-1)"
   ]
  },
  {
   "cell_type": "markdown",
   "metadata": {},
   "source": [
    "#### Insert 'Jan' between Riccardo and Ragab"
   ]
  },
  {
   "cell_type": "code",
   "execution_count": null,
   "metadata": {},
   "outputs": [],
   "source": [
    "r.linsert('customers','BEFORE','Ragab','Jan')"
   ]
  },
  {
   "cell_type": "code",
   "execution_count": null,
   "metadata": {},
   "outputs": [],
   "source": [
    "r.lrange('customers',0,-1)"
   ]
  },
  {
   "cell_type": "markdown",
   "metadata": {},
   "source": [
    "#### Get only the first element "
   ]
  },
  {
   "cell_type": "code",
   "execution_count": null,
   "metadata": {},
   "outputs": [],
   "source": [
    "###YOUR CODE HERE"
   ]
  },
  {
   "cell_type": "markdown",
   "metadata": {},
   "source": [
    "#### Get only the first 3 elements  "
   ]
  },
  {
   "cell_type": "code",
   "execution_count": null,
   "metadata": {},
   "outputs": [],
   "source": [
    "r.lrange('customers',0,2)"
   ]
  },
  {
   "cell_type": "markdown",
   "metadata": {},
   "source": [
    "#### Get the Length of the List\n",
    "- Use <code>llen</code> function"
   ]
  },
  {
   "cell_type": "code",
   "execution_count": null,
   "metadata": {},
   "outputs": [],
   "source": [
    "###YOUR CODE HERE"
   ]
  },
  {
   "cell_type": "markdown",
   "metadata": {},
   "source": [
    "#### Delete the first element on the left"
   ]
  },
  {
   "cell_type": "code",
   "execution_count": null,
   "metadata": {},
   "outputs": [],
   "source": [
    "r.lpop('customers')"
   ]
  },
  {
   "cell_type": "code",
   "execution_count": null,
   "metadata": {},
   "outputs": [],
   "source": [
    "#check the list elements again\n",
    "r.lrange('customers',0,-1)"
   ]
  },
  {
   "cell_type": "markdown",
   "metadata": {},
   "source": [
    "#### Delete the first element on the right"
   ]
  },
  {
   "cell_type": "code",
   "execution_count": null,
   "metadata": {},
   "outputs": [],
   "source": [
    "###YOUR CODE HERE"
   ]
  },
  {
   "cell_type": "code",
   "execution_count": null,
   "metadata": {},
   "outputs": [],
   "source": [
    "#check the list elements again\n",
    "r.lrange('customers',0,-1)"
   ]
  },
  {
   "cell_type": "markdown",
   "metadata": {},
   "source": [
    "#### Notes on the performance of Lists:\n",
    "- **LPOP**, **LPUSH**, and **LLEN** commands are all **O(n)** cosnstant time operations. \n",
    "    - Their performance is independent of the lenght of the list.\n",
    "- **LRANGE** is **O(s+n)**, such that **s** is the distance of the start offest from the head, and **n** is the number of the elements in the specified range.\n",
    "    - Thus, we need to be careful with LRANGE especially with extra long lists, or when we retrieve thousands or more elements!!\n",
    "<img src='ListsPerformance.JPG' width= '200'>"
   ]
  },
  {
   "cell_type": "markdown",
   "metadata": {},
   "source": [
    "### Demo The Sets\n",
    "\n",
    "- **Unordered** collection of strings.\n",
    "- Contains **no duplicates**.\n",
    "    - This makes Sets supernatual option for **de-dupication** applications.\n",
    "- Questions that we can Answer using Sets:\n",
    "    - **Did I see this IP address in the last hour?**\n",
    "    - **Is this user online?**\n",
    "    - **Has this URL been balcklisted?**\n",
    "- All of these questions can be answered in **O(1)** time.\n",
    "- Sets support standard operations:\n",
    "    - **Intersection** \n",
    "    - **Difference**\n",
    "    - **Union**"
   ]
  },
  {
   "cell_type": "markdown",
   "metadata": {},
   "source": [
    "#### Create a Set of online players with the key \"players:online\" [\"Riccardo\", and \"Ragab\"]"
   ]
  },
  {
   "cell_type": "code",
   "execution_count": null,
   "metadata": {},
   "outputs": [],
   "source": [
    "r.sadd('players:online',\"Riccardo\",\"Ragab\")"
   ]
  },
  {
   "cell_type": "markdown",
   "metadata": {},
   "source": [
    "#### Try to another Online-player \"Ragab\" in the Set\n",
    "- Write down what did you noticed?!"
   ]
  },
  {
   "cell_type": "code",
   "execution_count": null,
   "metadata": {},
   "outputs": [],
   "source": [
    "###YOUR CODE HERE"
   ]
  },
  {
   "cell_type": "markdown",
   "metadata": {},
   "source": [
    "#### Check if the Set of Online Players contain the player \"Riccardo\""
   ]
  },
  {
   "cell_type": "code",
   "execution_count": null,
   "metadata": {},
   "outputs": [],
   "source": [
    "r.sismember('players:online',\"Riccardo\")"
   ]
  },
  {
   "cell_type": "markdown",
   "metadata": {},
   "source": [
    "#### Check if the Set of Online Players contain the player \"Fabiano\""
   ]
  },
  {
   "cell_type": "code",
   "execution_count": null,
   "metadata": {},
   "outputs": [],
   "source": [
    "r.sismember('players:online',\"Fabiano\")"
   ]
  },
  {
   "cell_type": "markdown",
   "metadata": {},
   "source": [
    "#### Create Another Set with the key-name (\"Friends\") that has [\"Riccardo\", \"Fabiano\", \"Hassan\"]"
   ]
  },
  {
   "cell_type": "code",
   "execution_count": null,
   "metadata": {},
   "outputs": [],
   "source": [
    "###YOUR CODE HERE"
   ]
  },
  {
   "cell_type": "markdown",
   "metadata": {},
   "source": [
    "#### Get the two lists memebers  "
   ]
  },
  {
   "cell_type": "code",
   "execution_count": null,
   "metadata": {},
   "outputs": [],
   "source": [
    "print (\"FirstSet:\" ,r.smembers('players:online'))\n",
    "print (\"SecondSet:\",r.smembers('friends'))"
   ]
  },
  {
   "cell_type": "markdown",
   "metadata": {},
   "source": [
    "#### Get the intersection of these two sets "
   ]
  },
  {
   "cell_type": "code",
   "execution_count": null,
   "metadata": {},
   "outputs": [],
   "source": [
    "#Intersction\n",
    "print(r.sinter('players:online','friends'))"
   ]
  },
  {
   "cell_type": "markdown",
   "metadata": {},
   "source": [
    "#### Get the Union of these two sets "
   ]
  },
  {
   "cell_type": "code",
   "execution_count": null,
   "metadata": {},
   "outputs": [],
   "source": [
    "###YOUR CODE HERE"
   ]
  },
  {
   "cell_type": "markdown",
   "metadata": {},
   "source": [
    "#### Get the Length of the two Sets "
   ]
  },
  {
   "cell_type": "code",
   "execution_count": null,
   "metadata": {},
   "outputs": [],
   "source": [
    "#Length\n",
    "print(r.scard('friends'))\n",
    "print(r.scard('players:online'))"
   ]
  },
  {
   "cell_type": "markdown",
   "metadata": {},
   "source": [
    "#### Move \"Fabiano\" to the Online Players Set"
   ]
  },
  {
   "cell_type": "code",
   "execution_count": null,
   "metadata": {},
   "outputs": [],
   "source": [
    "r.smove('friends', 'players:online', 'Fabiano')"
   ]
  },
  {
   "cell_type": "markdown",
   "metadata": {},
   "source": [
    "#### Get the Length of the two Sets After this move!"
   ]
  },
  {
   "cell_type": "code",
   "execution_count": null,
   "metadata": {},
   "outputs": [],
   "source": [
    "###YOUR CODE HERE"
   ]
  },
  {
   "cell_type": "markdown",
   "metadata": {},
   "source": [
    "#### Remove \"Ragab\" from the players Set, and show the palyers Set after this removal"
   ]
  },
  {
   "cell_type": "code",
   "execution_count": null,
   "metadata": {},
   "outputs": [],
   "source": [
    "r.srem('players:online',\"Ragab\")\n",
    "r.smembers('players:online')"
   ]
  },
  {
   "cell_type": "markdown",
   "metadata": {},
   "source": [
    "### Demo The SORTED SETS\n",
    "- REDIS sorted sets are **ordered** collections of unique members.\n",
    "- These memebrs are ordered according to their **asociated score**.\n",
    "- Whenever you add to the sorted set, you are specifying a **memeber** and a **score**.\n",
    "- Sorted Sets keep every thing sorted from the begininng.\n",
    "- Sorted sets are good choice for:\n",
    "    - **priority queues**\n",
    "    - **Low-latency leaderboards**\n",
    "    - **Secondary indexing**\n",
    "- Questions that we can Answer using Sorted Sets (e.g, in an online-game ):\n",
    "    - **Who are the top 10 players?\n",
    "    - **what is the rank of a specific Player?\n",
    "    - **what is the current score of the player?"
   ]
  },
  {
   "cell_type": "markdown",
   "metadata": {},
   "source": [
    "#### Let's Create our Leaderboard\n",
    "- In the scenario of online game, each player will have a score of '**experience**' achieving some tasks/goals,..etc."
   ]
  },
  {
   "cell_type": "markdown",
   "metadata": {},
   "source": [
    "#### Initially, Let's give a score of 0 experience to all of our players:\n",
    "- We have three Players (\"Ragab\", \"Fabianno\", and \"Riccardo\")"
   ]
  },
  {
   "cell_type": "code",
   "execution_count": null,
   "metadata": {},
   "outputs": [],
   "source": [
    "r.zadd('players:exp',{'Ragab':0})\n",
    "r.zadd('players:exp',{'Riccardo':0})\n",
    "r.zadd('players:exp',{'Fabiano':0})"
   ]
  },
  {
   "cell_type": "markdown",
   "metadata": {},
   "source": [
    "#### Increment the experiernce score of our players\n",
    "Let's pretend that our players have copleted some missions and they got these experience points 40,60,80 for \"Ragab\", \"Riccardo\", and \"Fabiano\" respectively"
   ]
  },
  {
   "cell_type": "code",
   "execution_count": null,
   "metadata": {},
   "outputs": [],
   "source": [
    "print(r.zincrby('players:exp',40,'Ragab'))\n",
    "print(r.zincrby('players:exp',60,'Riccardo'))\n",
    "print(r.zincrby('players:exp',80,'Fabiano'))"
   ]
  },
  {
   "cell_type": "markdown",
   "metadata": {},
   "source": [
    "#### Let's Punish one of the players penalizing him with 5 points of experience"
   ]
  },
  {
   "cell_type": "code",
   "execution_count": null,
   "metadata": {},
   "outputs": [],
   "source": [
    "###YOUR CODE HERE"
   ]
  },
  {
   "cell_type": "markdown",
   "metadata": {},
   "source": [
    "#### Get the Top 3 players in our game"
   ]
  },
  {
   "cell_type": "code",
   "execution_count": null,
   "metadata": {},
   "outputs": [],
   "source": [
    "r.zrevrange('players:exp',0,2)"
   ]
  },
  {
   "cell_type": "markdown",
   "metadata": {},
   "source": [
    "#### GET the Top 3 players in our game showing their scores"
   ]
  },
  {
   "cell_type": "code",
   "execution_count": null,
   "metadata": {},
   "outputs": [],
   "source": [
    "###YOUR CODE HERE"
   ]
  },
  {
   "cell_type": "markdown",
   "metadata": {},
   "source": [
    "#### Get the Ranak of the players \"Ragab\", and \"Fabiano\"\n",
    "- Look at the difference between **Zrank**, and **zrevrank**"
   ]
  },
  {
   "cell_type": "code",
   "execution_count": null,
   "metadata": {},
   "outputs": [],
   "source": [
    "print(r.zrevrank('players:exp', 'Ragab'))\n",
    "print(r.zrevrank('players:exp', 'Fabiano'))"
   ]
  },
  {
   "cell_type": "markdown",
   "metadata": {},
   "source": [
    "#### Get the score of the player \"Riccardo\""
   ]
  },
  {
   "cell_type": "code",
   "execution_count": null,
   "metadata": {},
   "outputs": [],
   "source": [
    "print (r.zscore('players:exp', 'Riccardo'))"
   ]
  },
  {
   "cell_type": "markdown",
   "metadata": {},
   "source": [
    "### Demo the HASHES \n",
    "- Hashes are one of the most useful Redis data structures.\n",
    "- Hashes are collections of field-value pairs."
   ]
  },
  {
   "cell_type": "markdown",
   "metadata": {},
   "source": [
    "#### Let's Create a Hash of Players in an online game"
   ]
  },
  {
   "cell_type": "markdown",
   "metadata": {},
   "source": [
    "- Each player has the following fields:\n",
    "    - NAME\n",
    "    - RACE\n",
    "    - LEVEL\n",
    "    - HEALTH\n",
    "    - GOLD"
   ]
  },
  {
   "cell_type": "markdown",
   "metadata": {},
   "source": [
    "#### Let's Create our first player ('player:101')"
   ]
  },
  {
   "cell_type": "code",
   "execution_count": null,
   "metadata": {},
   "outputs": [],
   "source": [
    "r.hset('player:101','name','Cyclops')\n",
    "r.hset('player:101','race','Elf')\n",
    "r.hset('player:101','level',4)\n",
    "r.hset('player:101','health',20)\n",
    "r.hset('player:101','gold',500)"
   ]
  },
  {
   "cell_type": "markdown",
   "metadata": {},
   "source": [
    "#### Adding another player (player:102)\n",
    "- We can use <code>HMSET</code> value pairs to the Hash."
   ]
  },
  {
   "cell_type": "code",
   "execution_count": null,
   "metadata": {},
   "outputs": [],
   "source": [
    "player2 = {\"name\":\"Wolverine\", \n",
    " \"race\":\"Elf\", \n",
    " \"level\":6, \n",
    " \"health\":200, \n",
    " \"gold\":4000}\n",
    "#We use HMSET for ading multi-field value pairs to the Hash\n",
    "r.hmset('player:102', player2)"
   ]
  },
  {
   "cell_type": "markdown",
   "metadata": {},
   "source": [
    "#### Get the information of the player Hashes ('player:101', 'player:102' )"
   ]
  },
  {
   "cell_type": "code",
   "execution_count": null,
   "metadata": {},
   "outputs": [],
   "source": [
    "pprint(r.hgetall('player:101'))\n",
    "print(\"\\n\")\n",
    "pprint(r.hgetall('player:102'))"
   ]
  },
  {
   "cell_type": "markdown",
   "metadata": {},
   "source": [
    "#### Get the **name** of the second player\n",
    "- Use <code>hget(Hash_key,field)</code>"
   ]
  },
  {
   "cell_type": "code",
   "execution_count": null,
   "metadata": {},
   "outputs": [],
   "source": [
    "###YOUR CODE HERE"
   ]
  },
  {
   "cell_type": "markdown",
   "metadata": {},
   "source": [
    "#### Get the name, level and the race of the second player\n",
    "- Use <code>hmget(Hash_key,field1,field2,..)</code>"
   ]
  },
  {
   "cell_type": "code",
   "execution_count": null,
   "metadata": {},
   "outputs": [],
   "source": [
    "###YOUR CODE HERE"
   ]
  },
  {
   "cell_type": "markdown",
   "metadata": {},
   "source": [
    "#### updating the Hash with adding a new field\n",
    "- For player ('player:101'), add the **status** as '**Killed**' "
   ]
  },
  {
   "cell_type": "code",
   "execution_count": null,
   "metadata": {},
   "outputs": [],
   "source": [
    "###YOUR CODE HERE"
   ]
  },
  {
   "cell_type": "markdown",
   "metadata": {},
   "source": [
    "#### Check if added field 'status' to the first player ('player:101')"
   ]
  },
  {
   "cell_type": "code",
   "execution_count": null,
   "metadata": {},
   "outputs": [],
   "source": [
    "pprint(r.hgetall('player:101'))"
   ]
  },
  {
   "cell_type": "markdown",
   "metadata": {},
   "source": [
    "#### updating the Hash with deleting the  'status' field for 'player:101'"
   ]
  },
  {
   "cell_type": "code",
   "execution_count": null,
   "metadata": {},
   "outputs": [],
   "source": [
    "r.hdel('player:101','status')"
   ]
  },
  {
   "cell_type": "markdown",
   "metadata": {},
   "source": [
    "#### Check if the  field 'status' is deleted from the first player ('player:101')"
   ]
  },
  {
   "cell_type": "code",
   "execution_count": null,
   "metadata": {},
   "outputs": [],
   "source": [
    "pprint(r.hgetall('player:101'))"
   ]
  },
  {
   "cell_type": "markdown",
   "metadata": {},
   "source": [
    "#### In such games, players recieve gold points, after completing objectives, or defeating enemies.\n",
    "- Let's add some gold points to player:102 \"Wolverine\", Increase him by 25 points. "
   ]
  },
  {
   "cell_type": "code",
   "execution_count": null,
   "metadata": {},
   "outputs": [],
   "source": [
    "print(\"Gold Before: \")\n",
    "pprint(r.hget('player:102', 'gold'))\n",
    "\n",
    "r.hincrby('player:102', 'gold', 25)\n",
    "\n",
    "print(\"\\nAfter: \")\n",
    "pprint(r.hget('player:102', 'gold'))"
   ]
  },
  {
   "cell_type": "markdown",
   "metadata": {},
   "source": [
    "**Notes on incrementing & decrementing Hash values:** \n",
    "- HINCRBY still operates on a hash value that is a string, but it tries to interpret the string as a **base-10 64-bit signed integer** to execute the operation.\n",
    "\n",
    "- This applies to other commands related to incrementing and decrementing other data structures, namely **INCR**, **INCRBY**, **INCRBYFLOAT**, **ZINCRBY**, and **HINCRBYFLOAT**.\n",
    "\n",
    "- You’ll get an error if the string at the value can’t be represented as an integer.\n"
   ]
  },
  {
   "cell_type": "markdown",
   "metadata": {},
   "source": [
    "#### Notes on the performance of Redis Hashes:\n",
    "- HGET, HSET, HINCRBY, HDEL are O(1) constant time opeations regardless of the size of the Hash.\n",
    "- Whreas, HGETALL is O(n),with n being the number of fields in the Hash.\n",
    "    - In Big Hashes of Thousands of fields, it's usually more effiecient to specify the fields you want, rather than retreiving all of the fields.\n",
    "    \n",
    "<img src='HashPerformance.JPG' width= '200'>"
   ]
  },
  {
   "cell_type": "markdown",
   "metadata": {},
   "source": [
    "## Task 1: PUB/SUB in REDIS\n",
    "\n",
    "- <b>\"Pub/Sub\"</b> aka Publish-Subscribe pattern is a pattern in which there are three main components, **sender**, **receiver** & **broker**.\n",
    "- It is mainly characterized by **listeners subscribing to channels**, with **publishers** sending **binary string** messages to channels.\n",
    "- The communication is processed by the broker, it helps the sender or publisher to publish information and deliver that information to the receiver or subscriber.\n"
   ]
  },
  {
   "cell_type": "markdown",
   "metadata": {},
   "source": [
    "#### Example of Consumer\n",
    "\n",
    "- The following Consumer subscribes to 'Two' Channels:\n",
    "    - (Tartu), and  \n",
    "    - To any channel that starts with the pattern 'DataEng_Students:'\n",
    "- If the Producer publishes something related to these channels, this will be listened to and sent to this consumer."
   ]
  },
  {
   "cell_type": "code",
   "execution_count": null,
   "metadata": {},
   "outputs": [],
   "source": [
    "# inspired by: https://gist.github.com/jobliz/2596594\n",
    "\n",
    "import threading\n",
    "\n",
    "class Listener(threading.Thread):\n",
    "    def __init__(self, r):\n",
    "        threading.Thread.__init__(self)\n",
    "        self.redis = r\n",
    "        self.pubsub = self.redis.pubsub()\n",
    "        \n",
    "        #Subscribe to these channels\n",
    "        \n",
    "        #YOUR CODE LINE HERE to SUBSCRIBE to 'tartuuniv' Channel\n",
    "        #YOUR CODE LINE HERE to SUBSCRIBE to channels start with the pattern'destudents:'\n",
    "\n",
    "    def work(self, item):\n",
    "        print (item['channel'], \":\", item['data'])\n",
    "\n",
    "    def run(self):\n",
    "        for item in self.pubsub.listen():\n",
    "            if item['data'] == \"KILL\":\n",
    "                self.pubsub.unsubscribe()\n",
    "                print (self, \"unsubscribed and finished\")\n",
    "                break\n",
    "            else:\n",
    "                self.work(item)\n",
    "\n",
    "if __name__ == '__main__':\n",
    "    r = redis.Redis('redis')\n",
    "    client = Listener(r)\n",
    "    client.start()"
   ]
  },
  {
   "cell_type": "markdown",
   "metadata": {},
   "source": [
    "#### Start Publishing Some data/messages to different Channels\n",
    "- In a new command window, run the following commands:\n",
    "    - (# opens a repl, all subsequent commands should show something in the first terminal)\n",
    "```\n",
    "redis-cli \n",
    "> publish tartuuniv \"new_course_created DataEngineering\" \n",
    "> publish tartuuniv \"new_job_posted Senior_Researcher\"\n",
    "> publish destudents:1415 \"John Doe\"\n",
    "> publish destudents:jane \"Jane Kidman\"\n",
    "> publish Tallin \"nobody listens\"\n",
    "> publish tartuuniv KILL   # this should terminate (listener.py)\n",
    "```"
   ]
  },
  {
   "cell_type": "markdown",
   "metadata": {},
   "source": [
    "##### Wrtie what you could notice from the previous Example:"
   ]
  },
  {
   "cell_type": "code",
   "execution_count": null,
   "metadata": {},
   "outputs": [],
   "source": [
    "#YOur Answer Here!!"
   ]
  },
  {
   "cell_type": "markdown",
   "metadata": {},
   "source": [
    "##### Another Example of Redis Pub/SUB \n",
    "\n",
    "Let me explain it with an example. Let’s assume, Joe is the owner of a Music Shop where he sells music of different Genres. Alice is a Musician who publishes/sells her music at Joe’s Shop. And, Bob is Joe’s Customer who buys music from Joe. Joe keeps a list of his customers and their interests, hence he knows Bob likes Classical Music. Whenever Alice composes a Classical Music album in Joe’s shop, Joe delivers it to Bob. The interesting part is Bob doesn’t necessarily have to know who created the Music and Alice also doesn’t have to know who listens to her music. "
   ]
  },
  {
   "cell_type": "code",
   "execution_count": null,
   "metadata": {},
   "outputs": [],
   "source": [
    "import redis\n",
    "\n",
    "#YOUR CODE LINEs HERE to SUBSCRIBE to 'classic' channel \n",
    "\n",
    "while True:\n",
    "    message=p.get_message()\n",
    "    if message and not message['data']==1:\n",
    "        #You can do any kind of computations on the coming/readed messages !!\n",
    "        message=message['data'].decode('utf-8')\n",
    "        song,singer=message.split(':')\n",
    "        #here we just split the message and read it as song,and singer, but you can do any computations\n",
    "        print(\"SONG: \", song)\n",
    "        print(\"SINGER: \", singer)"
   ]
  },
  {
   "cell_type": "markdown",
   "metadata": {},
   "source": [
    "## Task3: Hats-Shop Website Scenario: Example\n",
    "\n",
    "It’s time to break out a fuller example. Let’s pretend we’ve decided to start a lucrative website that sells hats, and hired you to build the site.\n",
    "\n",
    "* You’ll use Redis to handle some of the product catalog, inventory, and bot traffic detection for our website.\n",
    "* It’s day one for the site, and we’re going to be selling **three** limited-edition hats. \n",
    "* Each hat gets held in a Redis hash of field-value pairs, and the hash has a key that is a prefixed random integer , such as **hat:56854717**. \n",
    "* Using the **hat:prefix** is Redis convention for creating a sort of **namespace** within a Redis database:"
   ]
  },
  {
   "cell_type": "code",
   "execution_count": null,
   "metadata": {},
   "outputs": [],
   "source": [
    "import random\n",
    "\n",
    "#we use random to get random prefixes\n",
    "random.seed(444)\n",
    "hats = {f\"hat:{random.getrandbits(32)}\": i for i in (\n",
    "    {\n",
    "        \"color\": \"black\",\n",
    "        \"price\": 49.99,\n",
    "        \"style\": \"fitted\",\n",
    "        \"quantity\": 1000,\n",
    "        \"npurchased\": 0,\n",
    "    },\n",
    "    {\n",
    "        \"color\": \"maroon\",\n",
    "        \"price\": 59.99,\n",
    "        \"style\": \"hipster\",\n",
    "        \"quantity\": 500,\n",
    "        \"npurchased\": 0,\n",
    "    },\n",
    "    {\n",
    "        \"color\": \"green\",\n",
    "        \"price\": 99.99,\n",
    "        \"style\": \"baseball\",\n",
    "        \"quantity\": 200,\n",
    "        \"npurchased\": 0,\n",
    "    })\n",
    "}"
   ]
  },
  {
   "cell_type": "markdown",
   "metadata": {},
   "source": [
    "#### Writing Hats data to Redis & Pipelining\n",
    "- To do an initial write of this data into Redis, we can use .hmset() (hash multi-set), calling it for each dictionary.\n",
    "- The code block above also introduces the concept of Redis pipelining, which is a way to cut down the number of round-trip transactions that you need to write or read data from your Redis server."
   ]
  },
  {
   "cell_type": "code",
   "execution_count": null,
   "metadata": {},
   "outputs": [],
   "source": [
    "with r.pipeline() as pipe:\n",
    "    for h_id, hat in hats.items():\n",
    "        pipe.hmset(h_id, hat)      \n",
    "    print(pipe.execute())"
   ]
  },
  {
   "cell_type": "markdown",
   "metadata": {},
   "source": [
    "- With a pipeline, all the commands are buffered on the client side and then sent at once, in one fell swoop, using pipe.hmset() in Line 3.\n",
    "- This is why the three True responses are all returned at once, when you call pipe.execute() in Line 4."
   ]
  },
  {
   "cell_type": "markdown",
   "metadata": {},
   "source": [
    "#### Check Existence of Specific Hat with key('hat:56854717')"
   ]
  },
  {
   "cell_type": "code",
   "execution_count": null,
   "metadata": {},
   "outputs": [],
   "source": [
    "#YOUR CODE HERE"
   ]
  },
  {
   "cell_type": "markdown",
   "metadata": {},
   "source": [
    "### Query by Hat id (GetAll fields)\n",
    "- Get all fields of the hat ('hat:56854717')"
   ]
  },
  {
   "cell_type": "code",
   "execution_count": null,
   "metadata": {},
   "outputs": [],
   "source": [
    "#YOUR CODE HERE"
   ]
  },
  {
   "cell_type": "markdown",
   "metadata": {},
   "source": [
    "### Query by Hat id (Get Specific Fields)\n",
    "- Get the color, style, and price of ('hat:56854717')"
   ]
  },
  {
   "cell_type": "code",
   "execution_count": null,
   "metadata": {},
   "outputs": [],
   "source": [
    "#YOUR CODE HERE"
   ]
  },
  {
   "cell_type": "markdown",
   "metadata": {},
   "source": [
    "#### Get all the Hats in your DB\n",
    "- Hint: use the pattern '**hat***' as the parmater of **r.keys()** function to specify only the hat keys."
   ]
  },
  {
   "cell_type": "code",
   "execution_count": null,
   "metadata": {},
   "outputs": [],
   "source": [
    "#YOUR CODE HERE"
   ]
  },
  {
   "cell_type": "markdown",
   "metadata": {},
   "source": [
    "#### Insert one more Item(Hash) in the \"Hats\" HashSet\n",
    "- {\"hat:random Prefix As Seen before, \n",
    "   \"color\": \"black\",\n",
    "   \"price\": 60.99,\n",
    "   \"style\": \"fedora\",\n",
    "   \"quantity\": 50,\n",
    "   \"npurchased\": 0}"
   ]
  },
  {
   "cell_type": "code",
   "execution_count": null,
   "metadata": {},
   "outputs": [],
   "source": [
    "r.hmset(f\"hat:{random.getrandbits(32)}\",{\n",
    "        \"color\": \"black\",\n",
    "        \"price\": 60.99,\n",
    "        \"style\": \"fedora\",\n",
    "        \"quantity\": 50,\n",
    "        \"npurchased\": 0\n",
    "    })"
   ]
  },
  {
   "cell_type": "markdown",
   "metadata": {},
   "source": [
    "#### Check if the new item (\"Hat\") is added !\n",
    "- You can get all the hats again!"
   ]
  },
  {
   "cell_type": "code",
   "execution_count": null,
   "metadata": {},
   "outputs": [],
   "source": [
    "#YOUR CODE HERE"
   ]
  },
  {
   "cell_type": "markdown",
   "metadata": {},
   "source": [
    "####  Get the count of Hats in your DB "
   ]
  },
  {
   "cell_type": "code",
   "execution_count": null,
   "metadata": {},
   "outputs": [],
   "source": [
    "#YOUR CODE HERE"
   ]
  },
  {
   "cell_type": "markdown",
   "metadata": {},
   "source": [
    "#### Filter out Hats with prices less than 60"
   ]
  },
  {
   "cell_type": "code",
   "execution_count": null,
   "metadata": {},
   "outputs": [],
   "source": [
    "#YOUR CODE HERE"
   ]
  },
  {
   "cell_type": "markdown",
   "metadata": {},
   "source": [
    "### Transactions and Keeping Atomicity in Redis\n",
    "\n",
    "Redis allows the execution of a group of commands in a single step, with two important guarantees:\n",
    "* All the commands in a transaction are serialized and executed sequentially. It can never happen that a request issued by another client is served in the middle of the execution of a Redis transaction. This guarantees that the commands are executed as a single isolated operation.\n",
    "\n",
    "* Either all of the commands or none are processed, so a Redis transaction is also atomic.\n",
    "\n",
    "In redis-py, Pipeline is a transactional pipeline class by default. This means that, even though the class is actually named for something else (pipelining), it can be used to create a transaction block also.\n",
    "\n",
    "In Redis, a transaction starts with <b> MULTI </b> and ends with <b>EXEC<b>:\n",
    "    * Everything in between is executed as one all-or-nothing buffered sequence of commands.\n",
    "    * Methods that you call on pipe effectively buffer all of the commands into one, and then send them to the server in a single request\n",
    "    \n",
    " "
   ]
  },
  {
   "cell_type": "code",
   "execution_count": null,
   "metadata": {},
   "outputs": [],
   "source": [
    "def buyitem(r: redis.Redis, itemid: int) -> None:\n",
    "    with r.pipeline() as pipe:\n",
    "        error_count = 0\n",
    "        while True:\n",
    "            try:\n",
    "                # Get available inventory, watching for changes\n",
    "                # related to this itemid before the transaction\n",
    "                pipe.watch(itemid)\n",
    "\n",
    "                nleft: bytes = r.hget(itemid, \"quantity\")\n",
    "                if nleft > b\"0\":\n",
    "                    pipe.multi()\n",
    "                    pipe.hincrby(itemid, \"quantity\", -1)\n",
    "                    pipe.hincrby(itemid, \"npurchased\", 1)\n",
    "                    pipe.execute()\n",
    "                    break\n",
    "                else:\n",
    "                    # Stop watching the itemid and raise to break out\n",
    "                    pipe.unwatch()\n",
    "                    raise OutOfStockError(f\"Sorry, {itemid} is out of stock!\")\n",
    "            \n",
    "            except redis.WatchError:\n",
    "                # Log total num. of errors by this user to buy this item,\n",
    "                # then try the same process again for WATCH/HGET/MULTI/EXEC\n",
    "\n",
    "                error_count += 1\n",
    "\n",
    "                logging.warning(\"WatchError #%d: %s; retrying\",error_count, itemid)\n",
    "\n",
    "            return None"
   ]
  },
  {
   "cell_type": "markdown",
   "metadata": {},
   "source": [
    "#### Call the function buyitem, and buy three hats of the hat 'hat:56854717'"
   ]
  },
  {
   "cell_type": "code",
   "execution_count": null,
   "metadata": {},
   "outputs": [],
   "source": [
    "#YOUR CODE HERE"
   ]
  },
  {
   "cell_type": "markdown",
   "metadata": {},
   "source": [
    "#### Check the quantity and npurchased feilds of the Hat hash ('hat:56854717')"
   ]
  },
  {
   "cell_type": "code",
   "execution_count": null,
   "metadata": {},
   "outputs": [],
   "source": [
    "r.hmget(\"hat:56854717\", \"quantity\", \"npurchased\")"
   ]
  },
  {
   "cell_type": "markdown",
   "metadata": {},
   "source": [
    "Now, when some poor user is late to the game, they should be met with an <b>\"OutOfStockError\"</b> that tells our application to render an error message page on the frontend\n",
    "- Buy remaining 196 hats for item hat:56854717, the stock will be 0!!"
   ]
  },
  {
   "cell_type": "code",
   "execution_count": null,
   "metadata": {},
   "outputs": [],
   "source": [
    "for _ in range(196):\n",
    "    buyitem(r, \"hat:56854717\")\n",
    "\n",
    "r.hmget(\"hat:56854717\", \"quantity\", \"npurchased\")"
   ]
  },
  {
   "cell_type": "markdown",
   "metadata": {},
   "source": [
    "#### Write down what will happen when you try to buy one more hat of the same key."
   ]
  },
  {
   "cell_type": "code",
   "execution_count": null,
   "metadata": {},
   "outputs": [],
   "source": [
    "try:\n",
    "    buyitem(r, \"hat:56854717\")\n",
    "except:\n",
    "    print(\"OutofStockError\")"
   ]
  },
  {
   "cell_type": "markdown",
   "metadata": {},
   "source": [
    "<font color='red'>Answer:</font>"
   ]
  },
  {
   "cell_type": "markdown",
   "metadata": {},
   "source": [
    "#### Delete elements (delete hats with 'black' color)"
   ]
  },
  {
   "cell_type": "code",
   "execution_count": null,
   "metadata": {},
   "outputs": [],
   "source": [
    "#YOUR CODE HERE"
   ]
  },
  {
   "cell_type": "markdown",
   "metadata": {},
   "source": [
    "#### Check if the 'black' hats are already deleted"
   ]
  },
  {
   "cell_type": "code",
   "execution_count": null,
   "metadata": {},
   "outputs": [],
   "source": [
    "for key in r.keys(\"hat*\"):\n",
    "    pprint(r.hgetall(key))\n",
    "    print(\"\\n\")"
   ]
  },
  {
   "cell_type": "markdown",
   "metadata": {},
   "source": [
    "#### Delete elements (Delete hats with quantity less than 500)"
   ]
  },
  {
   "cell_type": "code",
   "execution_count": null,
   "metadata": {},
   "outputs": [],
   "source": [
    "#YOUR CODE HERE"
   ]
  },
  {
   "cell_type": "markdown",
   "metadata": {},
   "source": [
    "#### Check if the hats with quantity less than 500 are already deleted"
   ]
  },
  {
   "cell_type": "code",
   "execution_count": null,
   "metadata": {},
   "outputs": [],
   "source": [
    "for key in r.keys(\"hat*\"):\n",
    "    print(r.hgetall(key))"
   ]
  },
  {
   "cell_type": "markdown",
   "metadata": {},
   "source": [
    "#### Update the values of 'hat:1236154736' , and show the remaining hats before and after this update\n",
    "- By changing its color to '**brown**'\n",
    "- and by adding '**updated**' flag/field to its hash values."
   ]
  },
  {
   "cell_type": "code",
   "execution_count": null,
   "metadata": {},
   "outputs": [],
   "source": [
    "#YOUR CODE HERE"
   ]
  },
  {
   "cell_type": "markdown",
   "metadata": {},
   "source": [
    "## Task 4:\n",
    "\n",
    "#### Create a simple Redis DB out of this relational model\n",
    "\n",
    "- <b>Notes before starting this task:</b> \n",
    "- Redis Store is not invented for keeping relational data and posing structured queries, but for fast accesible data. \n",
    "- But just for keeping consistency with the our running example of how to represent the relational model in different NoSQL backends, we will try this out.\n",
    "\n",
    "\n",
    "<b>Hints</b>:\n",
    "* It’s quite straightforward to map your relational table into Redis data structures.\n",
    "* **Hash**, **Sorted Set** and **Set** are the most useful data structures in this effort.\n",
    "* This means that relationships are typically represented by **sets**.\n",
    "* A set can be used to represent a **one-way relationship**, so you need one set per object to represent a **many-to-many** relationship."
   ]
  },
  {
   "cell_type": "markdown",
   "metadata": {},
   "source": [
    "#### The DataBase Model: \n",
    "\n",
    "\n",
    "This is  a toy DB about movies and actors who played roles in these movies. This DB is consisted of  \n",
    "\n",
    "- A \"Person\" table which has a unique id, and a name fields.\n",
    "\n",
    "- Another \"Movie\" table that has a unique id, a title, a country where it was made, and a year when it was released.\n",
    "\n",
    "- There is (m-n) or \"many-many\" relationship between these two tables (i.e basically, many actors can act in many movies, and the movie include many actors)\n",
    "- Therefore, we use the \"Roles\" table in which we can deduct which person has acted in which movie, and what role(s) they played.\n",
    "\n",
    "<img src=\"RDBSchema.png\" alt=\"3\" border=\"0\">"
   ]
  },
  {
   "cell_type": "markdown",
   "metadata": {},
   "source": [
    "* **Notice** that we will change the Redis DB to \"**db(1)**\"\n",
    "\n",
    "    - By default there are <b>16</b> databases (indexed from 0 to 15), and you can navigate between them using <b>select</b> command.\n",
    "    - Number of databases can be changed in the <b>redis config</b> file with databases setting.\n",
    "\n",
    "    - By default, it selects the <b> database 0 </b>. \n",
    "    - To select a specified one, use <b> \"redis-cli -n 1 \" </b>  or use <b>   (\"SELECT 1\") </b> if you are already in the command line with one DB and wants to switch to DB 1. "
   ]
  },
  {
   "cell_type": "code",
   "execution_count": null,
   "metadata": {},
   "outputs": [],
   "source": [
    "redis1= redis.Redis(host=\"redis\",port=6379, db=1)"
   ]
  },
  {
   "cell_type": "markdown",
   "metadata": {},
   "source": [
    "### CREATE && INSERT in REDIS\n",
    "\n",
    "#### 1. Creating a HashSet for the movies"
   ]
  },
  {
   "cell_type": "code",
   "execution_count": null,
   "metadata": {},
   "outputs": [],
   "source": [
    "#Helping function that insert multiple hashes of (key and value)into a Hashet\n",
    "def setHash(mkey,mval):\n",
    "    redis1.hmset(mkey,mval)"
   ]
  },
  {
   "cell_type": "markdown",
   "metadata": {},
   "source": [
    "##### Movies"
   ]
  },
  {
   "cell_type": "code",
   "execution_count": null,
   "metadata": {},
   "outputs": [],
   "source": [
    "moviesLst=[\n",
    "    \n",
    "    ( \"movie:1\",{ 'title': 'Wall Street' , 'country':'USA', 'year':'1987' } ),\n",
    "    ( \"movie:2\",{ 'title': 'The American President' , 'country':'USA', 'year':'1995' } ),\n",
    "    ( \"movie:3\",{ 'title': 'Shawshank Redemption' , 'country':'USA', 'year':'1994' } )\n",
    "]\n",
    "\n",
    "#YOUR CODE LINES HERE to ADD this movie Hashes to REDIS."
   ]
  },
  {
   "cell_type": "markdown",
   "metadata": {},
   "source": [
    "#### Persons"
   ]
  },
  {
   "cell_type": "code",
   "execution_count": null,
   "metadata": {},
   "outputs": [],
   "source": [
    "personsLst=[\n",
    "    \n",
    "    ( \"person:1\",{ 'name': 'Charlie Sheen' } ),\n",
    "    ( \"person:2\",{ 'name': 'Michael Douglas' } ),\n",
    "    ( \"person:3\",{ 'name': 'Martin Sheen' } ),\n",
    "    ( \"person:4\",{ 'name': 'Morgan Freeman' } )\n",
    "]\n",
    "\n",
    "#YOUR CODE LINES HERE to ADD this person Hashes to REDIS."
   ]
  },
  {
   "cell_type": "markdown",
   "metadata": {},
   "source": [
    "#### Maintianig  the relationships in Redis"
   ]
  },
  {
   "cell_type": "code",
   "execution_count": null,
   "metadata": {},
   "outputs": [],
   "source": [
    "# Helping function that  create a set of a given values\n",
    "def addSet(mkey,mvals):\n",
    "    redis1.sadd(mkey,*mvals)"
   ]
  },
  {
   "cell_type": "code",
   "execution_count": null,
   "metadata": {},
   "outputs": [],
   "source": [
    "# Let's establish the many-to-many relationship 'roles'\n",
    "\n",
    "# 1. For each movie, we keep a set of reference on the persons\n",
    "movie_persons_list=[(\"movie:1:actors\", [\"person:1\", \"person:2\", \"person:3\"] ),\n",
    "                    (\"movie:2:actors\", [\"person:2\", \"person:3\" ]) ,\n",
    "                    (\"movie:3:actors\", [\"person:4\" ])\n",
    "                   ]\n",
    "             \n",
    "for (mkey,mvals) in movie_persons_list:\n",
    "    addSet(mkey,mvals)\n",
    "    \n",
    "    \n",
    "    \n",
    "# 2. For each (person), we keep a set of reference on the (Movies)\n",
    "\n",
    "#ADD YOUR CODE LINES HERE \n",
    "\n",
    "\n",
    "# 3. For each (person_movie Acted_in relationship), We keep a set of roles made by the actor in each movie\n",
    "\n",
    "#ADD YOUR CODE LINES HERE "
   ]
  },
  {
   "cell_type": "markdown",
   "metadata": {},
   "source": [
    "### Querying our REDIS Data\n",
    "\n",
    "#### <font color= 'red'>Important to remeber:</font>\n",
    "- The only way to query Redis is using the **\"Keys\"**, so we mainly depend on the programming cabailities of python, and the datascience cabailities of **Pandas** to make the data science part :)\n",
    "- One of the Cons of Redis is that youy can't query on **values**!!"
   ]
  },
  {
   "cell_type": "markdown",
   "metadata": {},
   "source": [
    "#### Get Persons in your Redis DB"
   ]
  },
  {
   "cell_type": "code",
   "execution_count": null,
   "metadata": {},
   "outputs": [],
   "source": [
    "#YOUR CODE HERE"
   ]
  },
  {
   "cell_type": "markdown",
   "metadata": {},
   "source": [
    "#### We can use pandas for showing the results in a better way !"
   ]
  },
  {
   "cell_type": "code",
   "execution_count": null,
   "metadata": {},
   "outputs": [],
   "source": [
    "data=[]\n",
    "for key in redis1.keys(\"person:?\"):\n",
    "    name = redis1.hvals(key)[0].decode()\n",
    "    data. append({'name': name})\n",
    "    \n",
    "df=pd.DataFrame(data)\n",
    "display(df)"
   ]
  },
  {
   "cell_type": "markdown",
   "metadata": {},
   "source": [
    "#### Get persons with names start with 'C' letter"
   ]
  },
  {
   "cell_type": "code",
   "execution_count": null,
   "metadata": {},
   "outputs": [],
   "source": [
    "#YOUR CODE HERE"
   ]
  },
  {
   "cell_type": "markdown",
   "metadata": {},
   "source": [
    "#### Use Pandas to show the result in a better way!"
   ]
  },
  {
   "cell_type": "code",
   "execution_count": null,
   "metadata": {},
   "outputs": [],
   "source": [
    "#YOUR CODE HERE"
   ]
  },
  {
   "cell_type": "markdown",
   "metadata": {},
   "source": [
    "#### Get All Movies , sorted from recent to old"
   ]
  },
  {
   "cell_type": "code",
   "execution_count": null,
   "metadata": {},
   "outputs": [],
   "source": [
    "#YOUR CODE HERE"
   ]
  },
  {
   "cell_type": "markdown",
   "metadata": {},
   "source": [
    "#### Get All Movies released in the 90s (after year (1990) and before 2000)"
   ]
  },
  {
   "cell_type": "code",
   "execution_count": null,
   "metadata": {},
   "outputs": [],
   "source": [
    "#YOUR CODE HERE"
   ]
  },
  {
   "cell_type": "code",
   "execution_count": null,
   "metadata": {},
   "outputs": [],
   "source": [
    "#YOUR CODE HERE"
   ]
  },
  {
   "cell_type": "markdown",
   "metadata": {},
   "source": [
    "### Querying from multiple tables\n",
    "\n",
    "#### Get Movies and Actors from the DB\n"
   ]
  },
  {
   "cell_type": "code",
   "execution_count": null,
   "metadata": {},
   "outputs": [],
   "source": [
    "for key in redis1.keys(\"person:?:movies\"):\n",
    "    # personKey deserliaze the key get 'person:1', 'person:2',...\n",
    "    personKey=key.decode().split(':')[0]+ \":\" +key.decode().split(':')[1]\n",
    "    # get the persons from the hashsets using the above key\n",
    "    person=redis1.hgetall(personKey)\n",
    "    # SMEMBERS  get the movies of each person using the 'key' in the beginning\n",
    "    personMoviesKeys=redis1.smembers(key)\n",
    "    for movKey in personMoviesKeys:\n",
    "        print(person.get(b'name').decode(),\":   \", redis1.hgetall(movKey).get(b'title').decode())  "
   ]
  },
  {
   "cell_type": "code",
   "execution_count": null,
   "metadata": {},
   "outputs": [],
   "source": [
    "#or using the Pandas DFs\n",
    "\n",
    "#YOUR CODE HERE"
   ]
  },
  {
   "cell_type": "markdown",
   "metadata": {},
   "source": [
    "#### Get count of \"Movies\" in your DB\n",
    "\n",
    "- Note: The best way is to store the sum as a separate key, and to update whenever you add/remove a value from your set/hash/zset."
   ]
  },
  {
   "cell_type": "code",
   "execution_count": null,
   "metadata": {},
   "outputs": [],
   "source": [
    "#YOUR CODE HERE"
   ]
  },
  {
   "cell_type": "markdown",
   "metadata": {},
   "source": [
    "#### In this DB, for every \"Actor\" get the number of movies he played"
   ]
  },
  {
   "cell_type": "code",
   "execution_count": null,
   "metadata": {},
   "outputs": [],
   "source": [
    "#YOUR CODE HERE"
   ]
  },
  {
   "cell_type": "code",
   "execution_count": null,
   "metadata": {},
   "outputs": [],
   "source": [
    "## or using Pnadas DFs\n",
    "#YOUR CODE HERE    "
   ]
  },
  {
   "cell_type": "markdown",
   "metadata": {},
   "source": [
    "#### In this DB, List the movies that every Actor Played"
   ]
  },
  {
   "cell_type": "code",
   "execution_count": null,
   "metadata": {},
   "outputs": [],
   "source": [
    "#YOUR CODE HERE"
   ]
  },
  {
   "cell_type": "code",
   "execution_count": null,
   "metadata": {},
   "outputs": [],
   "source": [
    "##or using Pandas,and SQL\n",
    "import pandasql as ps\n",
    "import re \n",
    "\n",
    "#YOUR CODE HERE"
   ]
  },
  {
   "cell_type": "markdown",
   "metadata": {},
   "source": [
    "### Updating Redis Data\n",
    "* If the key or hash field already exists in the hash, they are overwritten.\n",
    "- update the year the wallstreet movie was released in to be 2000, which is not true BTW :)\n",
    "- Show that movie before and After updating it"
   ]
  },
  {
   "cell_type": "code",
   "execution_count": null,
   "metadata": {},
   "outputs": [],
   "source": [
    "#YOUR CODE HERE"
   ]
  },
  {
   "cell_type": "markdown",
   "metadata": {},
   "source": [
    "####  Delete all the persons with names start with 'M' letter."
   ]
  },
  {
   "cell_type": "code",
   "execution_count": null,
   "metadata": {},
   "outputs": [],
   "source": [
    "#YOUR CODE HERE"
   ]
  },
  {
   "cell_type": "markdown",
   "metadata": {},
   "source": [
    " ## How long did it take you to solve the homework?\n",
    " \n",
    "Please answer as precisely as you can. It does not affect your points or grade in any way. It is okey, if it took 0.5 hours or 24 hours. The collected information will be used to improve future homeworks."
   ]
  },
  {
   "cell_type": "markdown",
   "metadata": {},
   "source": [
    "<font color=\"red\"><b>Answer:</b></font>"
   ]
  },
  {
   "cell_type": "markdown",
   "metadata": {},
   "source": [
    "**<center> <font color='red'>THANK YOU FOR YOUR EFFORT!</font></center>**"
   ]
  }
 ],
 "metadata": {
  "kernelspec": {
   "display_name": "Python 3",
   "language": "python",
   "name": "python3"
  },
  "language_info": {
   "codemirror_mode": {
    "name": "ipython",
    "version": 3
   },
   "file_extension": ".py",
   "mimetype": "text/x-python",
   "name": "python",
   "nbconvert_exporter": "python",
   "pygments_lexer": "ipython3",
   "version": "3.7.3"
  }
 },
 "nbformat": 4,
 "nbformat_minor": 4
}
